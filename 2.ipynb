{
  "nbformat": 4,
  "nbformat_minor": 0,
  "metadata": {
    "colab": {
      "name": "Untitled",
      "version": "0.3.2",
      "provenance": [],
      "collapsed_sections": []
    },
    "kernelspec": {
      "name": "python3",
      "display_name": "Python 3"
    }
  },
  "cells": [
    {
      "metadata": {
        "id": "yqMrvur3zKfO",
        "colab_type": "code",
        "colab": {}
      },
      "cell_type": "code",
      "source": [
        "import pandas as pd\n",
        "import numpy as np\n",
        "\n",
        "import seaborn as sns\n",
        "import matplotlib.pyplot as plt\n",
        "%matplotlib inline "
      ],
      "execution_count": 0,
      "outputs": []
    },
    {
      "metadata": {
        "id": "hyvzLym7zxn9",
        "colab_type": "code",
        "outputId": "d56372e7-3488-4be9-f6cd-a1c2ff60a51d",
        "colab": {
          "base_uri": "https://localhost:8080/",
          "height": 127
        }
      },
      "cell_type": "code",
      "source": [
        "# mounting google drive\n",
        "import os.path\n",
        "from google.colab import drive\n",
        "\n",
        "# mount Google Drive to /content/drive/My Drive/\n",
        "if os.path.isdir(\"/content/drive/My Drive\"):\n",
        "  print(\"Google Drive already mounted\")\n",
        "else:\n",
        "  drive.mount('/content/drive')"
      ],
      "execution_count": 7,
      "outputs": [
        {
          "output_type": "stream",
          "text": [
            "Go to this URL in a browser: https://accounts.google.com/o/oauth2/auth?client_id=947318989803-6bn6qk8qdgf4n4g3pfee6491hc0brc4i.apps.googleusercontent.com&redirect_uri=urn%3Aietf%3Awg%3Aoauth%3A2.0%3Aoob&scope=email%20https%3A%2F%2Fwww.googleapis.com%2Fauth%2Fdocs.test%20https%3A%2F%2Fwww.googleapis.com%2Fauth%2Fdrive%20https%3A%2F%2Fwww.googleapis.com%2Fauth%2Fdrive.photos.readonly%20https%3A%2F%2Fwww.googleapis.com%2Fauth%2Fpeopleapi.readonly&response_type=code\n",
            "\n",
            "Enter your authorization code:\n",
            "··········\n",
            "Mounted at /content/drive\n"
          ],
          "name": "stdout"
        }
      ]
    },
    {
      "metadata": {
        "id": "gwNoa1Z_0NeP",
        "colab_type": "code",
        "colab": {}
      },
      "cell_type": "code",
      "source": [
        "#load Data\n",
        "base_path = '/content/drive/My Drive/cs972/MachineLearning/'\n",
        "data1_train = pd.read_csv(base_path+'Data_1/train.txt')\n",
        "data1_validation = pd.read_csv(base_path + 'Data_1/test.txt')\n",
        "data1_test = pd.read_csv(base_path + 'Data_1/predict.txt')\n",
        "\n",
        "data2_train = pd.read_excel(base_path+'Data_2/train.xlsx')\n",
        "data2_validation = pd.read_excel(base_path + 'Data_2/test.xlsx')\n",
        "data2_test = pd.read_excel(base_path + 'Data_2/predict.xlsx')\n"
      ],
      "execution_count": 0,
      "outputs": []
    },
    {
      "metadata": {
        "id": "opwnDtoE3EvS",
        "colab_type": "text"
      },
      "cell_type": "markdown",
      "source": [
        "## investigating the data"
      ]
    },
    {
      "metadata": {
        "id": "kKW64wEF16fi",
        "colab_type": "code",
        "outputId": "08035b03-a607-4b66-bae4-44be9646b9db",
        "colab": {
          "base_uri": "https://localhost:8080/",
          "height": 266
        }
      },
      "cell_type": "code",
      "source": [
        "data1_train.head(7)"
      ],
      "execution_count": 9,
      "outputs": [
        {
          "output_type": "execute_result",
          "data": {
            "text/html": [
              "<div>\n",
              "<style scoped>\n",
              "    .dataframe tbody tr th:only-of-type {\n",
              "        vertical-align: middle;\n",
              "    }\n",
              "\n",
              "    .dataframe tbody tr th {\n",
              "        vertical-align: top;\n",
              "    }\n",
              "\n",
              "    .dataframe thead th {\n",
              "        text-align: right;\n",
              "    }\n",
              "</style>\n",
              "<table border=\"1\" class=\"dataframe\">\n",
              "  <thead>\n",
              "    <tr style=\"text-align: right;\">\n",
              "      <th></th>\n",
              "      <th>flood_dependent</th>\n",
              "      <th>look_aspec</th>\n",
              "      <th>look_dem</th>\n",
              "      <th>look_plan</th>\n",
              "      <th>look_slope</th>\n",
              "      <th>look_soil</th>\n",
              "      <th>look_river</th>\n",
              "      <th>look_landu</th>\n",
              "      <th>Look_geolo</th>\n",
              "      <th>rain_look</th>\n",
              "    </tr>\n",
              "  </thead>\n",
              "  <tbody>\n",
              "    <tr>\n",
              "      <th>0</th>\n",
              "      <td>0</td>\n",
              "      <td>0.100000</td>\n",
              "      <td>0.009999</td>\n",
              "      <td>0.27</td>\n",
              "      <td>0.100000</td>\n",
              "      <td>0.119999</td>\n",
              "      <td>0.050000</td>\n",
              "      <td>0.109999</td>\n",
              "      <td>0.090000</td>\n",
              "      <td>0.300000</td>\n",
              "    </tr>\n",
              "    <tr>\n",
              "      <th>1</th>\n",
              "      <td>0</td>\n",
              "      <td>0.059999</td>\n",
              "      <td>0.109999</td>\n",
              "      <td>0.27</td>\n",
              "      <td>0.129999</td>\n",
              "      <td>0.119999</td>\n",
              "      <td>0.100000</td>\n",
              "      <td>0.109999</td>\n",
              "      <td>0.090000</td>\n",
              "      <td>0.259999</td>\n",
              "    </tr>\n",
              "    <tr>\n",
              "      <th>2</th>\n",
              "      <td>0</td>\n",
              "      <td>0.100000</td>\n",
              "      <td>0.109999</td>\n",
              "      <td>0.27</td>\n",
              "      <td>0.100000</td>\n",
              "      <td>0.119999</td>\n",
              "      <td>0.280000</td>\n",
              "      <td>0.109999</td>\n",
              "      <td>0.100000</td>\n",
              "      <td>0.270000</td>\n",
              "    </tr>\n",
              "    <tr>\n",
              "      <th>3</th>\n",
              "      <td>0</td>\n",
              "      <td>0.100000</td>\n",
              "      <td>0.189999</td>\n",
              "      <td>0.25</td>\n",
              "      <td>0.100000</td>\n",
              "      <td>0.150000</td>\n",
              "      <td>0.050000</td>\n",
              "      <td>0.180000</td>\n",
              "      <td>0.349999</td>\n",
              "      <td>0.159999</td>\n",
              "    </tr>\n",
              "    <tr>\n",
              "      <th>4</th>\n",
              "      <td>0</td>\n",
              "      <td>0.100000</td>\n",
              "      <td>0.009999</td>\n",
              "      <td>0.25</td>\n",
              "      <td>0.100000</td>\n",
              "      <td>0.119999</td>\n",
              "      <td>0.280000</td>\n",
              "      <td>0.109999</td>\n",
              "      <td>0.100000</td>\n",
              "      <td>0.259999</td>\n",
              "    </tr>\n",
              "    <tr>\n",
              "      <th>5</th>\n",
              "      <td>0</td>\n",
              "      <td>0.059999</td>\n",
              "      <td>0.109999</td>\n",
              "      <td>0.27</td>\n",
              "      <td>0.129999</td>\n",
              "      <td>0.119999</td>\n",
              "      <td>0.050000</td>\n",
              "      <td>0.070000</td>\n",
              "      <td>0.090000</td>\n",
              "      <td>0.159999</td>\n",
              "    </tr>\n",
              "    <tr>\n",
              "      <th>6</th>\n",
              "      <td>0</td>\n",
              "      <td>0.129999</td>\n",
              "      <td>0.009999</td>\n",
              "      <td>0.27</td>\n",
              "      <td>0.100000</td>\n",
              "      <td>0.119999</td>\n",
              "      <td>0.159999</td>\n",
              "      <td>0.109999</td>\n",
              "      <td>0.090000</td>\n",
              "      <td>0.259999</td>\n",
              "    </tr>\n",
              "  </tbody>\n",
              "</table>\n",
              "</div>"
            ],
            "text/plain": [
              "   flood_dependent  look_aspec  look_dem  look_plan  look_slope  look_soil  \\\n",
              "0                0    0.100000  0.009999       0.27    0.100000   0.119999   \n",
              "1                0    0.059999  0.109999       0.27    0.129999   0.119999   \n",
              "2                0    0.100000  0.109999       0.27    0.100000   0.119999   \n",
              "3                0    0.100000  0.189999       0.25    0.100000   0.150000   \n",
              "4                0    0.100000  0.009999       0.25    0.100000   0.119999   \n",
              "5                0    0.059999  0.109999       0.27    0.129999   0.119999   \n",
              "6                0    0.129999  0.009999       0.27    0.100000   0.119999   \n",
              "\n",
              "   look_river  look_landu  Look_geolo  rain_look  \n",
              "0    0.050000    0.109999    0.090000   0.300000  \n",
              "1    0.100000    0.109999    0.090000   0.259999  \n",
              "2    0.280000    0.109999    0.100000   0.270000  \n",
              "3    0.050000    0.180000    0.349999   0.159999  \n",
              "4    0.280000    0.109999    0.100000   0.259999  \n",
              "5    0.050000    0.070000    0.090000   0.159999  \n",
              "6    0.159999    0.109999    0.090000   0.259999  "
            ]
          },
          "metadata": {
            "tags": []
          },
          "execution_count": 9
        }
      ]
    },
    {
      "metadata": {
        "id": "iLjhk28i3_NT",
        "colab_type": "code",
        "outputId": "cccbe6d2-0669-4190-9cc9-a002a51a1ae7",
        "colab": {
          "base_uri": "https://localhost:8080/",
          "height": 297
        }
      },
      "cell_type": "code",
      "source": [
        "data1_train.describe()"
      ],
      "execution_count": 10,
      "outputs": [
        {
          "output_type": "execute_result",
          "data": {
            "text/html": [
              "<div>\n",
              "<style scoped>\n",
              "    .dataframe tbody tr th:only-of-type {\n",
              "        vertical-align: middle;\n",
              "    }\n",
              "\n",
              "    .dataframe tbody tr th {\n",
              "        vertical-align: top;\n",
              "    }\n",
              "\n",
              "    .dataframe thead th {\n",
              "        text-align: right;\n",
              "    }\n",
              "</style>\n",
              "<table border=\"1\" class=\"dataframe\">\n",
              "  <thead>\n",
              "    <tr style=\"text-align: right;\">\n",
              "      <th></th>\n",
              "      <th>flood_dependent</th>\n",
              "      <th>look_aspec</th>\n",
              "      <th>look_dem</th>\n",
              "      <th>look_plan</th>\n",
              "      <th>look_slope</th>\n",
              "      <th>look_soil</th>\n",
              "      <th>look_river</th>\n",
              "      <th>look_landu</th>\n",
              "      <th>Look_geolo</th>\n",
              "      <th>rain_look</th>\n",
              "    </tr>\n",
              "  </thead>\n",
              "  <tbody>\n",
              "    <tr>\n",
              "      <th>count</th>\n",
              "      <td>202.000000</td>\n",
              "      <td>202.000000</td>\n",
              "      <td>202.000000</td>\n",
              "      <td>202.000000</td>\n",
              "      <td>202.000000</td>\n",
              "      <td>202.000000</td>\n",
              "      <td>202.000000</td>\n",
              "      <td>202.000000</td>\n",
              "      <td>202.000000</td>\n",
              "      <td>202.000000</td>\n",
              "    </tr>\n",
              "    <tr>\n",
              "      <th>mean</th>\n",
              "      <td>0.500000</td>\n",
              "      <td>0.100346</td>\n",
              "      <td>0.204950</td>\n",
              "      <td>0.289158</td>\n",
              "      <td>0.197525</td>\n",
              "      <td>0.164752</td>\n",
              "      <td>0.181039</td>\n",
              "      <td>0.139405</td>\n",
              "      <td>0.227128</td>\n",
              "      <td>0.253217</td>\n",
              "    </tr>\n",
              "    <tr>\n",
              "      <th>std</th>\n",
              "      <td>0.501242</td>\n",
              "      <td>0.024299</td>\n",
              "      <td>0.161487</td>\n",
              "      <td>0.075724</td>\n",
              "      <td>0.123429</td>\n",
              "      <td>0.078317</td>\n",
              "      <td>0.135270</td>\n",
              "      <td>0.047877</td>\n",
              "      <td>0.132231</td>\n",
              "      <td>0.053505</td>\n",
              "    </tr>\n",
              "    <tr>\n",
              "      <th>min</th>\n",
              "      <td>0.000000</td>\n",
              "      <td>0.059999</td>\n",
              "      <td>0.009999</td>\n",
              "      <td>0.250000</td>\n",
              "      <td>0.100000</td>\n",
              "      <td>0.019999</td>\n",
              "      <td>0.050000</td>\n",
              "      <td>0.070000</td>\n",
              "      <td>0.090000</td>\n",
              "      <td>0.159999</td>\n",
              "    </tr>\n",
              "    <tr>\n",
              "      <th>25%</th>\n",
              "      <td>0.000000</td>\n",
              "      <td>0.090000</td>\n",
              "      <td>0.109999</td>\n",
              "      <td>0.250000</td>\n",
              "      <td>0.100000</td>\n",
              "      <td>0.119999</td>\n",
              "      <td>0.050000</td>\n",
              "      <td>0.109999</td>\n",
              "      <td>0.090000</td>\n",
              "      <td>0.259999</td>\n",
              "    </tr>\n",
              "    <tr>\n",
              "      <th>50%</th>\n",
              "      <td>0.500000</td>\n",
              "      <td>0.100000</td>\n",
              "      <td>0.189999</td>\n",
              "      <td>0.270000</td>\n",
              "      <td>0.129999</td>\n",
              "      <td>0.119999</td>\n",
              "      <td>0.159999</td>\n",
              "      <td>0.109999</td>\n",
              "      <td>0.349999</td>\n",
              "      <td>0.259999</td>\n",
              "    </tr>\n",
              "    <tr>\n",
              "      <th>75%</th>\n",
              "      <td>1.000000</td>\n",
              "      <td>0.119999</td>\n",
              "      <td>0.230000</td>\n",
              "      <td>0.270000</td>\n",
              "      <td>0.270000</td>\n",
              "      <td>0.150000</td>\n",
              "      <td>0.280000</td>\n",
              "      <td>0.180000</td>\n",
              "      <td>0.349999</td>\n",
              "      <td>0.300000</td>\n",
              "    </tr>\n",
              "    <tr>\n",
              "      <th>max</th>\n",
              "      <td>1.000000</td>\n",
              "      <td>0.180000</td>\n",
              "      <td>0.460000</td>\n",
              "      <td>0.479999</td>\n",
              "      <td>0.400000</td>\n",
              "      <td>0.400000</td>\n",
              "      <td>0.419999</td>\n",
              "      <td>0.379999</td>\n",
              "      <td>0.460000</td>\n",
              "      <td>0.300000</td>\n",
              "    </tr>\n",
              "  </tbody>\n",
              "</table>\n",
              "</div>"
            ],
            "text/plain": [
              "       flood_dependent  look_aspec    look_dem   look_plan  look_slope  \\\n",
              "count       202.000000  202.000000  202.000000  202.000000  202.000000   \n",
              "mean          0.500000    0.100346    0.204950    0.289158    0.197525   \n",
              "std           0.501242    0.024299    0.161487    0.075724    0.123429   \n",
              "min           0.000000    0.059999    0.009999    0.250000    0.100000   \n",
              "25%           0.000000    0.090000    0.109999    0.250000    0.100000   \n",
              "50%           0.500000    0.100000    0.189999    0.270000    0.129999   \n",
              "75%           1.000000    0.119999    0.230000    0.270000    0.270000   \n",
              "max           1.000000    0.180000    0.460000    0.479999    0.400000   \n",
              "\n",
              "        look_soil  look_river  look_landu  Look_geolo   rain_look  \n",
              "count  202.000000  202.000000  202.000000  202.000000  202.000000  \n",
              "mean     0.164752    0.181039    0.139405    0.227128    0.253217  \n",
              "std      0.078317    0.135270    0.047877    0.132231    0.053505  \n",
              "min      0.019999    0.050000    0.070000    0.090000    0.159999  \n",
              "25%      0.119999    0.050000    0.109999    0.090000    0.259999  \n",
              "50%      0.119999    0.159999    0.109999    0.349999    0.259999  \n",
              "75%      0.150000    0.280000    0.180000    0.349999    0.300000  \n",
              "max      0.400000    0.419999    0.379999    0.460000    0.300000  "
            ]
          },
          "metadata": {
            "tags": []
          },
          "execution_count": 10
        }
      ]
    },
    {
      "metadata": {
        "id": "rwXRlu4R2iWe",
        "colab_type": "code",
        "outputId": "52ee5419-d981-453e-cf26-c1cb376bb315",
        "colab": {
          "base_uri": "https://localhost:8080/",
          "height": 142
        }
      },
      "cell_type": "code",
      "source": [
        "data1_train.groupby('flood_dependent').count()"
      ],
      "execution_count": 11,
      "outputs": [
        {
          "output_type": "execute_result",
          "data": {
            "text/html": [
              "<div>\n",
              "<style scoped>\n",
              "    .dataframe tbody tr th:only-of-type {\n",
              "        vertical-align: middle;\n",
              "    }\n",
              "\n",
              "    .dataframe tbody tr th {\n",
              "        vertical-align: top;\n",
              "    }\n",
              "\n",
              "    .dataframe thead th {\n",
              "        text-align: right;\n",
              "    }\n",
              "</style>\n",
              "<table border=\"1\" class=\"dataframe\">\n",
              "  <thead>\n",
              "    <tr style=\"text-align: right;\">\n",
              "      <th></th>\n",
              "      <th>look_aspec</th>\n",
              "      <th>look_dem</th>\n",
              "      <th>look_plan</th>\n",
              "      <th>look_slope</th>\n",
              "      <th>look_soil</th>\n",
              "      <th>look_river</th>\n",
              "      <th>look_landu</th>\n",
              "      <th>Look_geolo</th>\n",
              "      <th>rain_look</th>\n",
              "    </tr>\n",
              "    <tr>\n",
              "      <th>flood_dependent</th>\n",
              "      <th></th>\n",
              "      <th></th>\n",
              "      <th></th>\n",
              "      <th></th>\n",
              "      <th></th>\n",
              "      <th></th>\n",
              "      <th></th>\n",
              "      <th></th>\n",
              "      <th></th>\n",
              "    </tr>\n",
              "  </thead>\n",
              "  <tbody>\n",
              "    <tr>\n",
              "      <th>0</th>\n",
              "      <td>101</td>\n",
              "      <td>101</td>\n",
              "      <td>101</td>\n",
              "      <td>101</td>\n",
              "      <td>101</td>\n",
              "      <td>101</td>\n",
              "      <td>101</td>\n",
              "      <td>101</td>\n",
              "      <td>101</td>\n",
              "    </tr>\n",
              "    <tr>\n",
              "      <th>1</th>\n",
              "      <td>101</td>\n",
              "      <td>101</td>\n",
              "      <td>101</td>\n",
              "      <td>101</td>\n",
              "      <td>101</td>\n",
              "      <td>101</td>\n",
              "      <td>101</td>\n",
              "      <td>101</td>\n",
              "      <td>101</td>\n",
              "    </tr>\n",
              "  </tbody>\n",
              "</table>\n",
              "</div>"
            ],
            "text/plain": [
              "                 look_aspec  look_dem  look_plan  look_slope  look_soil  \\\n",
              "flood_dependent                                                           \n",
              "0                       101       101        101         101        101   \n",
              "1                       101       101        101         101        101   \n",
              "\n",
              "                 look_river  look_landu  Look_geolo  rain_look  \n",
              "flood_dependent                                                 \n",
              "0                       101         101         101        101  \n",
              "1                       101         101         101        101  "
            ]
          },
          "metadata": {
            "tags": []
          },
          "execution_count": 11
        }
      ]
    },
    {
      "metadata": {
        "id": "CJ47MLozdxS_",
        "colab_type": "code",
        "colab": {
          "base_uri": "https://localhost:8080/",
          "height": 266
        },
        "outputId": "07f17b7b-c09d-4ac1-96d2-94d84c37d753"
      },
      "cell_type": "code",
      "source": [
        "data2_train.head(7)"
      ],
      "execution_count": 12,
      "outputs": [
        {
          "output_type": "execute_result",
          "data": {
            "text/html": [
              "<div>\n",
              "<style scoped>\n",
              "    .dataframe tbody tr th:only-of-type {\n",
              "        vertical-align: middle;\n",
              "    }\n",
              "\n",
              "    .dataframe tbody tr th {\n",
              "        vertical-align: top;\n",
              "    }\n",
              "\n",
              "    .dataframe thead th {\n",
              "        text-align: right;\n",
              "    }\n",
              "</style>\n",
              "<table border=\"1\" class=\"dataframe\">\n",
              "  <thead>\n",
              "    <tr style=\"text-align: right;\">\n",
              "      <th></th>\n",
              "      <th>flood_dependent</th>\n",
              "      <th>look_dem</th>\n",
              "      <th>look_plan</th>\n",
              "      <th>look_slope</th>\n",
              "      <th>look_river</th>\n",
              "      <th>look_landu</th>\n",
              "      <th>look_geolo</th>\n",
              "      <th>look_rain</th>\n",
              "      <th>river_dens</th>\n",
              "      <th>look_spi</th>\n",
              "      <th>look_twi</th>\n",
              "    </tr>\n",
              "  </thead>\n",
              "  <tbody>\n",
              "    <tr>\n",
              "      <th>0</th>\n",
              "      <td>1</td>\n",
              "      <td>0.63</td>\n",
              "      <td>0.43</td>\n",
              "      <td>0.02</td>\n",
              "      <td>0.59</td>\n",
              "      <td>0.15</td>\n",
              "      <td>0.15</td>\n",
              "      <td>0.40</td>\n",
              "      <td>0.06</td>\n",
              "      <td>0.32</td>\n",
              "      <td>0.08</td>\n",
              "    </tr>\n",
              "    <tr>\n",
              "      <th>1</th>\n",
              "      <td>1</td>\n",
              "      <td>0.63</td>\n",
              "      <td>0.43</td>\n",
              "      <td>0.11</td>\n",
              "      <td>0.59</td>\n",
              "      <td>0.15</td>\n",
              "      <td>0.15</td>\n",
              "      <td>0.40</td>\n",
              "      <td>0.20</td>\n",
              "      <td>0.32</td>\n",
              "      <td>0.00</td>\n",
              "    </tr>\n",
              "    <tr>\n",
              "      <th>2</th>\n",
              "      <td>1</td>\n",
              "      <td>0.63</td>\n",
              "      <td>0.46</td>\n",
              "      <td>0.11</td>\n",
              "      <td>0.59</td>\n",
              "      <td>0.15</td>\n",
              "      <td>0.15</td>\n",
              "      <td>0.40</td>\n",
              "      <td>0.20</td>\n",
              "      <td>0.32</td>\n",
              "      <td>0.01</td>\n",
              "    </tr>\n",
              "    <tr>\n",
              "      <th>3</th>\n",
              "      <td>1</td>\n",
              "      <td>0.63</td>\n",
              "      <td>0.46</td>\n",
              "      <td>0.18</td>\n",
              "      <td>0.59</td>\n",
              "      <td>0.15</td>\n",
              "      <td>0.15</td>\n",
              "      <td>0.40</td>\n",
              "      <td>0.37</td>\n",
              "      <td>0.29</td>\n",
              "      <td>0.01</td>\n",
              "    </tr>\n",
              "    <tr>\n",
              "      <th>4</th>\n",
              "      <td>1</td>\n",
              "      <td>0.13</td>\n",
              "      <td>0.46</td>\n",
              "      <td>0.22</td>\n",
              "      <td>0.59</td>\n",
              "      <td>0.15</td>\n",
              "      <td>0.07</td>\n",
              "      <td>0.18</td>\n",
              "      <td>0.20</td>\n",
              "      <td>0.29</td>\n",
              "      <td>0.01</td>\n",
              "    </tr>\n",
              "    <tr>\n",
              "      <th>5</th>\n",
              "      <td>1</td>\n",
              "      <td>0.13</td>\n",
              "      <td>0.46</td>\n",
              "      <td>0.02</td>\n",
              "      <td>0.22</td>\n",
              "      <td>0.15</td>\n",
              "      <td>0.07</td>\n",
              "      <td>0.13</td>\n",
              "      <td>0.06</td>\n",
              "      <td>0.32</td>\n",
              "      <td>0.01</td>\n",
              "    </tr>\n",
              "    <tr>\n",
              "      <th>6</th>\n",
              "      <td>1</td>\n",
              "      <td>0.13</td>\n",
              "      <td>0.43</td>\n",
              "      <td>0.05</td>\n",
              "      <td>0.59</td>\n",
              "      <td>0.15</td>\n",
              "      <td>0.07</td>\n",
              "      <td>0.13</td>\n",
              "      <td>0.06</td>\n",
              "      <td>0.32</td>\n",
              "      <td>0.01</td>\n",
              "    </tr>\n",
              "  </tbody>\n",
              "</table>\n",
              "</div>"
            ],
            "text/plain": [
              "   flood_dependent  look_dem  look_plan  look_slope  look_river  look_landu  \\\n",
              "0                1      0.63       0.43        0.02        0.59        0.15   \n",
              "1                1      0.63       0.43        0.11        0.59        0.15   \n",
              "2                1      0.63       0.46        0.11        0.59        0.15   \n",
              "3                1      0.63       0.46        0.18        0.59        0.15   \n",
              "4                1      0.13       0.46        0.22        0.59        0.15   \n",
              "5                1      0.13       0.46        0.02        0.22        0.15   \n",
              "6                1      0.13       0.43        0.05        0.59        0.15   \n",
              "\n",
              "   look_geolo  look_rain  river_dens  look_spi  look_twi  \n",
              "0        0.15       0.40        0.06      0.32      0.08  \n",
              "1        0.15       0.40        0.20      0.32      0.00  \n",
              "2        0.15       0.40        0.20      0.32      0.01  \n",
              "3        0.15       0.40        0.37      0.29      0.01  \n",
              "4        0.07       0.18        0.20      0.29      0.01  \n",
              "5        0.07       0.13        0.06      0.32      0.01  \n",
              "6        0.07       0.13        0.06      0.32      0.01  "
            ]
          },
          "metadata": {
            "tags": []
          },
          "execution_count": 12
        }
      ]
    },
    {
      "metadata": {
        "id": "SPmhSqRBd0RG",
        "colab_type": "code",
        "colab": {
          "base_uri": "https://localhost:8080/",
          "height": 297
        },
        "outputId": "064951d0-adca-4d62-eca9-730730156080"
      },
      "cell_type": "code",
      "source": [
        "data2_train.describe()"
      ],
      "execution_count": 13,
      "outputs": [
        {
          "output_type": "execute_result",
          "data": {
            "text/html": [
              "<div>\n",
              "<style scoped>\n",
              "    .dataframe tbody tr th:only-of-type {\n",
              "        vertical-align: middle;\n",
              "    }\n",
              "\n",
              "    .dataframe tbody tr th {\n",
              "        vertical-align: top;\n",
              "    }\n",
              "\n",
              "    .dataframe thead th {\n",
              "        text-align: right;\n",
              "    }\n",
              "</style>\n",
              "<table border=\"1\" class=\"dataframe\">\n",
              "  <thead>\n",
              "    <tr style=\"text-align: right;\">\n",
              "      <th></th>\n",
              "      <th>flood_dependent</th>\n",
              "      <th>look_dem</th>\n",
              "      <th>look_plan</th>\n",
              "      <th>look_slope</th>\n",
              "      <th>look_river</th>\n",
              "      <th>look_landu</th>\n",
              "      <th>look_geolo</th>\n",
              "      <th>look_rain</th>\n",
              "      <th>river_dens</th>\n",
              "      <th>look_spi</th>\n",
              "      <th>look_twi</th>\n",
              "    </tr>\n",
              "  </thead>\n",
              "  <tbody>\n",
              "    <tr>\n",
              "      <th>count</th>\n",
              "      <td>302.00000</td>\n",
              "      <td>302.000000</td>\n",
              "      <td>302.000000</td>\n",
              "      <td>302.000000</td>\n",
              "      <td>302.000000</td>\n",
              "      <td>302.000000</td>\n",
              "      <td>302.000000</td>\n",
              "      <td>302.000000</td>\n",
              "      <td>302.000000</td>\n",
              "      <td>302.000000</td>\n",
              "      <td>302.000000</td>\n",
              "    </tr>\n",
              "    <tr>\n",
              "      <th>mean</th>\n",
              "      <td>0.50000</td>\n",
              "      <td>0.166788</td>\n",
              "      <td>0.370066</td>\n",
              "      <td>0.066026</td>\n",
              "      <td>0.221060</td>\n",
              "      <td>0.148775</td>\n",
              "      <td>0.129338</td>\n",
              "      <td>0.214868</td>\n",
              "      <td>0.088543</td>\n",
              "      <td>0.304073</td>\n",
              "      <td>0.037252</td>\n",
              "    </tr>\n",
              "    <tr>\n",
              "      <th>std</th>\n",
              "      <td>0.50083</td>\n",
              "      <td>0.233895</td>\n",
              "      <td>0.141047</td>\n",
              "      <td>0.075975</td>\n",
              "      <td>0.258172</td>\n",
              "      <td>0.078335</td>\n",
              "      <td>0.071302</td>\n",
              "      <td>0.125961</td>\n",
              "      <td>0.112957</td>\n",
              "      <td>0.042851</td>\n",
              "      <td>0.031413</td>\n",
              "    </tr>\n",
              "    <tr>\n",
              "      <th>min</th>\n",
              "      <td>0.00000</td>\n",
              "      <td>0.010000</td>\n",
              "      <td>0.110000</td>\n",
              "      <td>0.000000</td>\n",
              "      <td>0.000000</td>\n",
              "      <td>0.000000</td>\n",
              "      <td>0.050000</td>\n",
              "      <td>0.050000</td>\n",
              "      <td>0.000000</td>\n",
              "      <td>0.030000</td>\n",
              "      <td>0.000000</td>\n",
              "    </tr>\n",
              "    <tr>\n",
              "      <th>25%</th>\n",
              "      <td>0.00000</td>\n",
              "      <td>0.010000</td>\n",
              "      <td>0.430000</td>\n",
              "      <td>0.020000</td>\n",
              "      <td>0.000000</td>\n",
              "      <td>0.150000</td>\n",
              "      <td>0.070000</td>\n",
              "      <td>0.120000</td>\n",
              "      <td>0.000000</td>\n",
              "      <td>0.320000</td>\n",
              "      <td>0.010000</td>\n",
              "    </tr>\n",
              "    <tr>\n",
              "      <th>50%</th>\n",
              "      <td>0.50000</td>\n",
              "      <td>0.060000</td>\n",
              "      <td>0.430000</td>\n",
              "      <td>0.020000</td>\n",
              "      <td>0.050000</td>\n",
              "      <td>0.150000</td>\n",
              "      <td>0.070000</td>\n",
              "      <td>0.130000</td>\n",
              "      <td>0.060000</td>\n",
              "      <td>0.320000</td>\n",
              "      <td>0.040000</td>\n",
              "    </tr>\n",
              "    <tr>\n",
              "      <th>75%</th>\n",
              "      <td>1.00000</td>\n",
              "      <td>0.130000</td>\n",
              "      <td>0.460000</td>\n",
              "      <td>0.110000</td>\n",
              "      <td>0.590000</td>\n",
              "      <td>0.150000</td>\n",
              "      <td>0.210000</td>\n",
              "      <td>0.400000</td>\n",
              "      <td>0.200000</td>\n",
              "      <td>0.320000</td>\n",
              "      <td>0.070000</td>\n",
              "    </tr>\n",
              "    <tr>\n",
              "      <th>max</th>\n",
              "      <td>1.00000</td>\n",
              "      <td>0.630000</td>\n",
              "      <td>0.460000</td>\n",
              "      <td>0.400000</td>\n",
              "      <td>0.590000</td>\n",
              "      <td>0.750000</td>\n",
              "      <td>0.310000</td>\n",
              "      <td>0.400000</td>\n",
              "      <td>0.370000</td>\n",
              "      <td>0.320000</td>\n",
              "      <td>0.080000</td>\n",
              "    </tr>\n",
              "  </tbody>\n",
              "</table>\n",
              "</div>"
            ],
            "text/plain": [
              "       flood_dependent    look_dem   look_plan  look_slope  look_river  \\\n",
              "count        302.00000  302.000000  302.000000  302.000000  302.000000   \n",
              "mean           0.50000    0.166788    0.370066    0.066026    0.221060   \n",
              "std            0.50083    0.233895    0.141047    0.075975    0.258172   \n",
              "min            0.00000    0.010000    0.110000    0.000000    0.000000   \n",
              "25%            0.00000    0.010000    0.430000    0.020000    0.000000   \n",
              "50%            0.50000    0.060000    0.430000    0.020000    0.050000   \n",
              "75%            1.00000    0.130000    0.460000    0.110000    0.590000   \n",
              "max            1.00000    0.630000    0.460000    0.400000    0.590000   \n",
              "\n",
              "       look_landu  look_geolo   look_rain  river_dens    look_spi    look_twi  \n",
              "count  302.000000  302.000000  302.000000  302.000000  302.000000  302.000000  \n",
              "mean     0.148775    0.129338    0.214868    0.088543    0.304073    0.037252  \n",
              "std      0.078335    0.071302    0.125961    0.112957    0.042851    0.031413  \n",
              "min      0.000000    0.050000    0.050000    0.000000    0.030000    0.000000  \n",
              "25%      0.150000    0.070000    0.120000    0.000000    0.320000    0.010000  \n",
              "50%      0.150000    0.070000    0.130000    0.060000    0.320000    0.040000  \n",
              "75%      0.150000    0.210000    0.400000    0.200000    0.320000    0.070000  \n",
              "max      0.750000    0.310000    0.400000    0.370000    0.320000    0.080000  "
            ]
          },
          "metadata": {
            "tags": []
          },
          "execution_count": 13
        }
      ]
    },
    {
      "metadata": {
        "id": "7JrJVYTAd343",
        "colab_type": "code",
        "colab": {
          "base_uri": "https://localhost:8080/",
          "height": 142
        },
        "outputId": "ac2ca37a-478a-458d-ee99-7c91fff98661"
      },
      "cell_type": "code",
      "source": [
        "data2_train.groupby('flood_dependent').count()"
      ],
      "execution_count": 15,
      "outputs": [
        {
          "output_type": "execute_result",
          "data": {
            "text/html": [
              "<div>\n",
              "<style scoped>\n",
              "    .dataframe tbody tr th:only-of-type {\n",
              "        vertical-align: middle;\n",
              "    }\n",
              "\n",
              "    .dataframe tbody tr th {\n",
              "        vertical-align: top;\n",
              "    }\n",
              "\n",
              "    .dataframe thead th {\n",
              "        text-align: right;\n",
              "    }\n",
              "</style>\n",
              "<table border=\"1\" class=\"dataframe\">\n",
              "  <thead>\n",
              "    <tr style=\"text-align: right;\">\n",
              "      <th></th>\n",
              "      <th>look_dem</th>\n",
              "      <th>look_plan</th>\n",
              "      <th>look_slope</th>\n",
              "      <th>look_river</th>\n",
              "      <th>look_landu</th>\n",
              "      <th>look_geolo</th>\n",
              "      <th>look_rain</th>\n",
              "      <th>river_dens</th>\n",
              "      <th>look_spi</th>\n",
              "      <th>look_twi</th>\n",
              "    </tr>\n",
              "    <tr>\n",
              "      <th>flood_dependent</th>\n",
              "      <th></th>\n",
              "      <th></th>\n",
              "      <th></th>\n",
              "      <th></th>\n",
              "      <th></th>\n",
              "      <th></th>\n",
              "      <th></th>\n",
              "      <th></th>\n",
              "      <th></th>\n",
              "      <th></th>\n",
              "    </tr>\n",
              "  </thead>\n",
              "  <tbody>\n",
              "    <tr>\n",
              "      <th>0</th>\n",
              "      <td>151</td>\n",
              "      <td>151</td>\n",
              "      <td>151</td>\n",
              "      <td>151</td>\n",
              "      <td>151</td>\n",
              "      <td>151</td>\n",
              "      <td>151</td>\n",
              "      <td>151</td>\n",
              "      <td>151</td>\n",
              "      <td>151</td>\n",
              "    </tr>\n",
              "    <tr>\n",
              "      <th>1</th>\n",
              "      <td>151</td>\n",
              "      <td>151</td>\n",
              "      <td>151</td>\n",
              "      <td>151</td>\n",
              "      <td>151</td>\n",
              "      <td>151</td>\n",
              "      <td>151</td>\n",
              "      <td>151</td>\n",
              "      <td>151</td>\n",
              "      <td>151</td>\n",
              "    </tr>\n",
              "  </tbody>\n",
              "</table>\n",
              "</div>"
            ],
            "text/plain": [
              "                 look_dem  look_plan  look_slope  look_river  look_landu  \\\n",
              "flood_dependent                                                            \n",
              "0                     151        151         151         151         151   \n",
              "1                     151        151         151         151         151   \n",
              "\n",
              "                 look_geolo  look_rain  river_dens  look_spi  look_twi  \n",
              "flood_dependent                                                         \n",
              "0                       151        151         151       151       151  \n",
              "1                       151        151         151       151       151  "
            ]
          },
          "metadata": {
            "tags": []
          },
          "execution_count": 15
        }
      ]
    },
    {
      "metadata": {
        "id": "xGKDPybmIkh1",
        "colab_type": "text"
      },
      "cell_type": "markdown",
      "source": [
        "-----------------"
      ]
    },
    {
      "metadata": {
        "id": "gBpIgUpEtw83",
        "colab_type": "text"
      },
      "cell_type": "markdown",
      "source": [
        "### some preparing"
      ]
    },
    {
      "metadata": {
        "id": "m56e5TBWIj_t",
        "colab_type": "code",
        "colab": {}
      },
      "cell_type": "code",
      "source": [
        "from sklearn.metrics import accuracy_score\n",
        "from sklearn.metrics import confusion_matrix, f1_score, precision_score,roc_curve,auc\n",
        "\n",
        "def plot_roc(label, predicted,y):\n",
        "  fpr, tpr, threshold = roc_curve(y, predicted)\n",
        "  roc_auc = auc(fpr, tpr)\n",
        "  plt.title(label+' Receiver Operating Characteristic')\n",
        "  plt.plot(fpr, tpr, 'b', label = 'AUC = %0.2f' % roc_auc)\n",
        "  plt.legend(loc = 'lower right')\n",
        "  plt.plot([0, 1], [0, 1],'r--')\n",
        "  plt.xlim([0, 1])\n",
        "  plt.ylim([0, 1])\n",
        "  plt.ylabel('True Positive Rate')\n",
        "  plt.xlabel('False Positive Rate')\n",
        "  plt.show()"
      ],
      "execution_count": 0,
      "outputs": []
    },
    {
      "metadata": {
        "id": "CSlXkUkcKb4X",
        "colab_type": "code",
        "colab": {}
      },
      "cell_type": "code",
      "source": [
        "def show_model_metrics(model_name,label,predicted,y):\n",
        "  print('%s model for %s:'%(model_name,label))\n",
        "  print('accuracy: %f precision: %f f1_score: %f'%(accuracy_score(data1_val_y, data1_val_pred),precision_score(data1_val_y, data1_val_pred),f1_score(data1_val_y, data1_val_pred)))\n",
        "  plot_roc(label,predicted,y)\n"
      ],
      "execution_count": 0,
      "outputs": []
    },
    {
      "metadata": {
        "id": "WHEOZVkX4UB1",
        "colab_type": "code",
        "colab": {}
      },
      "cell_type": "code",
      "source": [
        "data1_train_X=data1_train.drop('flood_dependent',axis = 1);\n",
        "data1_train_y=data1_train.flood_dependent\n",
        "\n",
        "data1_val_X=data1_validation.drop('flood_dependent',axis = 1);\n",
        "data1_val_y=data1_validation.flood_dependent\n",
        "\n",
        "\n",
        "data2_train_X=data2_train.drop('flood_dependent',axis = 1);\n",
        "data2_train_y=data2_train.flood_dependent\n",
        "\n",
        "data2_val_X=data2_validation.drop('flood_dependent',axis = 1);\n",
        "data2_val_y=data2_validation.flood_dependent\n"
      ],
      "execution_count": 0,
      "outputs": []
    },
    {
      "metadata": {
        "id": "SCC1T2Jv3S3Z",
        "colab_type": "text"
      },
      "cell_type": "markdown",
      "source": [
        "## classifying using MLP classifier:"
      ]
    },
    {
      "metadata": {
        "id": "eYrioZtB3KHb",
        "colab_type": "code",
        "colab": {}
      },
      "cell_type": "code",
      "source": [
        "from sklearn.neural_network import MLPClassifier"
      ],
      "execution_count": 0,
      "outputs": []
    },
    {
      "metadata": {
        "id": "uMd0QKVK4xxj",
        "colab_type": "code",
        "colab": {}
      },
      "cell_type": "code",
      "source": [
        "#trying default configs\n",
        "data1_MLP_model = MLPClassifier(random_state = 7)\n",
        "data2_MLP_model = MLPClassifier(random_state = 7)"
      ],
      "execution_count": 0,
      "outputs": []
    },
    {
      "metadata": {
        "id": "g69b9RPr5G3u",
        "colab_type": "code",
        "outputId": "306b73f1-219e-4e01-e29f-c0355c137902",
        "colab": {
          "base_uri": "https://localhost:8080/",
          "height": 89
        }
      },
      "cell_type": "code",
      "source": [
        "data1_MLP_model.fit(data1_train_X, data1_train_y)\n",
        "data1_val_pred = data1_MLP_model.predict(data1_val_X)\n",
        "\n",
        "data2_MLP_model.fit(data2_train_X, data2_train_y)\n",
        "data2_val_pred = data2_MLP_model.predict(data2_val_X)"
      ],
      "execution_count": 40,
      "outputs": [
        {
          "output_type": "stream",
          "text": [
            "/usr/local/lib/python3.6/dist-packages/sklearn/neural_network/multilayer_perceptron.py:562: ConvergenceWarning: Stochastic Optimizer: Maximum iterations (200) reached and the optimization hasn't converged yet.\n",
            "  % self.max_iter, ConvergenceWarning)\n",
            "/usr/local/lib/python3.6/dist-packages/sklearn/neural_network/multilayer_perceptron.py:562: ConvergenceWarning: Stochastic Optimizer: Maximum iterations (200) reached and the optimization hasn't converged yet.\n",
            "  % self.max_iter, ConvergenceWarning)\n"
          ],
          "name": "stderr"
        }
      ]
    },
    {
      "metadata": {
        "id": "mNlmb1wb5eXn",
        "colab_type": "code",
        "outputId": "4d4afd77-0c9c-4f49-ed26-ad639a86bc69",
        "colab": {
          "base_uri": "https://localhost:8080/",
          "height": 645
        }
      },
      "cell_type": "code",
      "source": [
        "show_model_metrics('MLP','Data1',data1_val_pred,data1_val_y);\n",
        "show_model_metrics('MLP','Data2',data2_val_pred,data2_val_y);\n"
      ],
      "execution_count": 41,
      "outputs": [
        {
          "output_type": "stream",
          "text": [
            "MLP model for Data1:\n",
            "accuracy: 0.930233 precision: 0.913043 f1_score: 0.933333\n"
          ],
          "name": "stdout"
        },
        {
          "output_type": "display_data",
          "data": {
            "image/png": "[encoded data removed]",
            "text/plain": [
              "<Figure size 432x288 with 1 Axes>"
            ]
          },
          "metadata": {
            "tags": []
          }
        },
        {
          "output_type": "stream",
          "text": [
            "MLP model for Data2:\n",
            "accuracy: 0.930233 precision: 0.913043 f1_score: 0.933333\n"
          ],
          "name": "stdout"
        },
        {
          "output_type": "display_data",
          "data": {
            "image/png": "[encoded data removed]",
            "text/plain": [
              "<Figure size 432x288 with 1 Axes>"
            ]
          },
          "metadata": {
            "tags": []
          }
        }
      ]
    },
    {
      "metadata": {
        "id": "VQAeRv3Q5uZ4",
        "colab_type": "code",
        "colab": {}
      },
      "cell_type": "code",
      "source": [
        "# adjust config values\n",
        "data1_MLP_model = MLPClassifier(hidden_layer_sizes=(100,100,100), max_iter=500, alpha=0.0001,\n",
        "                     solver='adam',  random_state=7,tol=0.000000001)\n",
        "\n",
        "data2_MLP_model = MLPClassifier(hidden_layer_sizes=(100,100,100), max_iter=500, alpha=0.0001,\n",
        "                     solver='adam',  random_state=7,tol=0.000000001)"
      ],
      "execution_count": 0,
      "outputs": []
    },
    {
      "metadata": {
        "id": "_ZpZO7JS6Z5R",
        "colab_type": "code",
        "outputId": "461321b8-cdd7-4dab-9947-77baf719c3dd",
        "colab": {
          "base_uri": "https://localhost:8080/",
          "height": 681
        }
      },
      "cell_type": "code",
      "source": [
        "data1_MLP_model.fit(data1_train_X, data1_train_y)\n",
        "data1_val_pred = data1_MLP_model.predict(data1_val_X)\n",
        "\n",
        "data2_MLP_model.fit(data2_train_X, data2_train_y)\n",
        "data2_val_pred = data2_MLP_model.predict(data2_val_X)\n",
        "\n",
        "show_model_metrics('MLP','Data1',data1_val_pred,data1_val_y);\n",
        "show_model_metrics('MLP','Data2',data2_val_pred,data2_val_y);"
      ],
      "execution_count": 43,
      "outputs": [
        {
          "output_type": "stream",
          "text": [
            "/usr/local/lib/python3.6/dist-packages/sklearn/neural_network/multilayer_perceptron.py:562: ConvergenceWarning: Stochastic Optimizer: Maximum iterations (500) reached and the optimization hasn't converged yet.\n",
            "  % self.max_iter, ConvergenceWarning)\n"
          ],
          "name": "stderr"
        },
        {
          "output_type": "stream",
          "text": [
            "MLP model for Data1:\n",
            "accuracy: 0.988372 precision: 1.000000 f1_score: 0.988506\n"
          ],
          "name": "stdout"
        },
        {
          "output_type": "display_data",
          "data": {
            "image/png": "[encoded data removed]",
            "text/plain": [
              "<Figure size 432x288 with 1 Axes>"
            ]
          },
          "metadata": {
            "tags": []
          }
        },
        {
          "output_type": "stream",
          "text": [
            "MLP model for Data2:\n",
            "accuracy: 0.988372 precision: 1.000000 f1_score: 0.988506\n"
          ],
          "name": "stdout"
        },
        {
          "output_type": "display_data",
          "data": {
            "image/png": "[encoded data removed]",
            "text/plain": [
              "<Figure size 432x288 with 1 Axes>"
            ]
          },
          "metadata": {
            "tags": []
          }
        }
      ]
    },
    {
      "metadata": {
        "id": "4Lr4CNIsEvRl",
        "colab_type": "text"
      },
      "cell_type": "markdown",
      "source": [
        "## classifying using RandomForest classifier:"
      ]
    },
    {
      "metadata": {
        "id": "LN8bkO356j9V",
        "colab_type": "code",
        "colab": {}
      },
      "cell_type": "code",
      "source": [
        "from sklearn.ensemble import RandomForestClassifier"
      ],
      "execution_count": 0,
      "outputs": []
    },
    {
      "metadata": {
        "id": "0xajoX-57Htg",
        "colab_type": "code",
        "colab": {}
      },
      "cell_type": "code",
      "source": [
        "data1_randomForest_model = RandomForestClassifier(random_state=7,max_depth=3)\n",
        "\n",
        "data2_randomForest_model = RandomForestClassifier(random_state=7,max_depth=3)"
      ],
      "execution_count": 0,
      "outputs": []
    },
    {
      "metadata": {
        "id": "k2MtXUAeFPu6",
        "colab_type": "code",
        "outputId": "826a3d12-e6f7-4e40-9ecb-797a56e971da",
        "colab": {
          "base_uri": "https://localhost:8080/",
          "height": 197
        }
      },
      "cell_type": "code",
      "source": [
        "data1_randomForest_model.fit(data1_train_X, data1_train_y)\n",
        "data2_randomForest_model.fit(data2_train_X, data2_train_y)\n"
      ],
      "execution_count": 32,
      "outputs": [
        {
          "output_type": "stream",
          "text": [
            "/usr/local/lib/python3.6/dist-packages/sklearn/ensemble/forest.py:246: FutureWarning: The default value of n_estimators will change from 10 in version 0.20 to 100 in 0.22.\n",
            "  \"10 in version 0.20 to 100 in 0.22.\", FutureWarning)\n",
            "/usr/local/lib/python3.6/dist-packages/sklearn/ensemble/forest.py:246: FutureWarning: The default value of n_estimators will change from 10 in version 0.20 to 100 in 0.22.\n",
            "  \"10 in version 0.20 to 100 in 0.22.\", FutureWarning)\n"
          ],
          "name": "stderr"
        },
        {
          "output_type": "execute_result",
          "data": {
            "text/plain": [
              "RandomForestClassifier(bootstrap=True, class_weight=None, criterion='gini',\n",
              "            max_depth=3, max_features='auto', max_leaf_nodes=None,\n",
              "            min_impurity_decrease=0.0, min_impurity_split=None,\n",
              "            min_samples_leaf=1, min_samples_split=2,\n",
              "            min_weight_fraction_leaf=0.0, n_estimators=10, n_jobs=None,\n",
              "            oob_score=False, random_state=7, verbose=0, warm_start=False)"
            ]
          },
          "metadata": {
            "tags": []
          },
          "execution_count": 32
        }
      ]
    },
    {
      "metadata": {
        "id": "vQePmA9dFon6",
        "colab_type": "code",
        "outputId": "af86ee75-6594-4ccf-cbde-9f5fb4e306b9",
        "colab": {
          "base_uri": "https://localhost:8080/",
          "height": 645
        }
      },
      "cell_type": "code",
      "source": [
        "data1_val_pred=data1_randomForest_model.predict(data1_val_X)\n",
        "data2_val_pred=data2_randomForest_model.predict(data2_val_X)\n",
        "\n",
        "show_model_metrics('RandomForest','Data1',data1_val_pred,data1_val_y);\n",
        "show_model_metrics('RandomForest','Data2',data2_val_pred,data2_val_y);\n"
      ],
      "execution_count": 33,
      "outputs": [
        {
          "output_type": "stream",
          "text": [
            "RandomForest model for Data1:\n",
            "accuracy: 0.941860 precision: 0.914894 f1_score: 0.945055\n"
          ],
          "name": "stdout"
        },
        {
          "output_type": "display_data",
          "data": {
            "image/png": "[encoded data removed]",
            "text/plain": [
              "<Figure size 432x288 with 1 Axes>"
            ]
          },
          "metadata": {
            "tags": []
          }
        },
        {
          "output_type": "stream",
          "text": [
            "RandomForest model for Data2:\n",
            "accuracy: 0.941860 precision: 0.914894 f1_score: 0.945055\n"
          ],
          "name": "stdout"
        },
        {
          "output_type": "display_data",
          "data": {
            "image/png": "[encoded data removed]",
            "text/plain": [
              "<Figure size 432x288 with 1 Axes>"
            ]
          },
          "metadata": {
            "tags": []
          }
        }
      ]
    },
    {
      "metadata": {
        "id": "72j9VRGNPCrD",
        "colab_type": "text"
      },
      "cell_type": "markdown",
      "source": [
        ""
      ]
    },
    {
      "metadata": {
        "colab_type": "text",
        "id": "brmLU0d7PFh1"
      },
      "cell_type": "markdown",
      "source": [
        "## classifying using ELM classifier:"
      ]
    },
    {
      "metadata": {
        "id": "R445P0K0RqrA",
        "colab_type": "code",
        "colab": {
          "base_uri": "https://localhost:8080/",
          "height": 35
        },
        "outputId": "d043e95d-f346-4a93-b26a-48514507527c"
      },
      "cell_type": "code",
      "source": [
        "from keras.models import Sequential\n",
        "from keras.layers import Dense\n",
        "from keras.optimizers import Adam\n",
        "import numpy as np\n",
        "\n",
        "class ELM(object):\n",
        "    \n",
        "  def __init__(self, input_layer = 'relu', hidden_layer = ['relu'], output_layer = 'relu'):\n",
        "    self.input_layer = input_layer\n",
        "    self.hidden_layer = hidden_layer\n",
        "    self.output_layer = output_layer\n",
        "    self.model = None\n",
        "\n",
        "  def buildNetwork(self):\n",
        "    pass\n",
        "\n",
        "  def setWeights(self):\n",
        "    weights = self.model.layers[-1].get_weights()\n",
        "    weights[0] = np.random.random_sample((weights[0].shape[0],weights[0].shape[1]))\n",
        "    self.model.layers[-1].set_weights(weights)\n",
        "\n",
        "  def fit(self, X_train, y_train):\n",
        "    self.model.fit(X_train, y_train, verbose=0, batch_size=5, epochs=100)\n",
        "    \n",
        "  def predict(self, X_train):\n",
        "    return self.model.predict(X_train,verbose=0, batch_size=5)\n",
        "    \n",
        "  def evaluete(self, X_test, y_test):\n",
        "    return self.model.evaluate(X_test, y_test)\n",
        "\n",
        "  def getWeights(self):\n",
        "    return self.model.get_weights()\n",
        "\n",
        "  def summary(self):\n",
        "    self.model.summary()\n",
        "\n",
        "class MultiClassify(ELM):\n",
        "\n",
        "  def buildNetwork(self, input_dim):\n",
        "    self.model = Sequential()\n",
        "\n",
        "    # Input layer\n",
        "    self.model.add(Dense(units=100, activation=self.input_layer, input_dim=input_dim, trainable=False))\n",
        "    self.setWeights()\n",
        "    # Hidden layer\n",
        "    for act in self.hidden_layer:\n",
        "      self.model.add(Dense(units=10, activation=act, trainable=True))\n",
        "    # Output layer\n",
        "    self.model.add(Dense(units=3, activation=self.output_layer, trainable=True))\n",
        "\n",
        "    self.model.compile(loss='categorical_crossentropy',\n",
        "              optimizer=Adam(lr=0.001),\n",
        "                metrics=['accuracy'])\n",
        "\n",
        "class BinaryClassify(ELM):\n",
        "\n",
        "  def buildNetwork(self, input_dim):\n",
        "    self.model = Sequential()\n",
        "\n",
        "    # Input layer\n",
        "    self.model.add(Dense(units=110, activation=self.input_layer, input_dim=input_dim, trainable=False))\n",
        "    self.setWeights()\n",
        "    # Hidden layer\n",
        "    for act in self.hidden_layer:\n",
        "      self.model.add(Dense(units=10, activation=act, trainable=True))\n",
        "    # Output layer\n",
        "    self.model.add(Dense(units=2, activation=self.output_layer, trainable=True))\n",
        "\n",
        "    self.model.compile(loss='binary_crossentropy',\n",
        "              optimizer=Adam(lr=0.001),\n",
        "              metrics=['accuracy'])\n"
      ],
      "execution_count": 34,
      "outputs": [
        {
          "output_type": "stream",
          "text": [
            "Using TensorFlow backend.\n"
          ],
          "name": "stderr"
        }
      ]
    },
    {
      "metadata": {
        "id": "Lsj4iA8rT-Y3",
        "colab_type": "code",
        "outputId": "31517b89-9f0d-4eb5-d401-5910246a8aa9",
        "colab": {
          "base_uri": "https://localhost:8080/",
          "height": 289
        }
      },
      "cell_type": "code",
      "source": [
        "from sklearn.preprocessing import OneHotEncoder\n",
        "\n",
        "# One Hot encode the class labels\n",
        "data1_encoder = OneHotEncoder(sparse=False)\n",
        "data2_encoder = OneHotEncoder(sparse=False)\n",
        "\n",
        "data1_encoded_y = data1_encoder.fit_transform(np.array(data1_train_y).reshape(-1, 1))\n",
        "data1_encoded_val_y = data1_encoder.transform(np.array(data1_val_y).reshape(-1, 1))\n",
        "\n",
        "data2_encoded_y = data2_encoder.fit_transform(np.array(data2_train_y).reshape(-1, 1))\n",
        "data2_encoded_val_y = data2_encoder.transform(np.array(data2_val_y).reshape(-1, 1))\n",
        "\n",
        "# Create classify\n",
        "data1_ELM_model = BinaryClassify(hidden_layer=['relu', 'linear', 'relu'], output_layer='sigmoid') \n",
        "data2_ELM_model = BinaryClassify(hidden_layer=['relu', 'linear', 'relu'], output_layer='sigmoid') \n",
        "\n",
        "data1_input_dim = data1_train_X.shape[1] # number of features\n",
        "data1_ELM_model.buildNetwork(data1_input_dim)\n",
        "\n",
        "data2_input_dim = data2_train_X.shape[1] # number of features\n",
        "data2_ELM_model.buildNetwork(data2_input_dim)\n",
        "\n",
        "\n",
        "data1_ELM_model.fit(data1_train_X, data1_encoded_y)\n",
        "data2_ELM_model.fit(data2_train_X, data2_encoded_y)"
      ],
      "execution_count": 36,
      "outputs": [
        {
          "output_type": "stream",
          "text": [
            "WARNING:tensorflow:From /usr/local/lib/python3.6/dist-packages/tensorflow/python/framework/op_def_library.py:263: colocate_with (from tensorflow.python.framework.ops) is deprecated and will be removed in a future version.\n",
            "Instructions for updating:\n",
            "Colocations handled automatically by placer.\n"
          ],
          "name": "stdout"
        },
        {
          "output_type": "stream",
          "text": [
            "/usr/local/lib/python3.6/dist-packages/sklearn/preprocessing/_encoders.py:371: FutureWarning: The handling of integer data will change in version 0.22. Currently, the categories are determined based on the range [0, max(values)], while in the future they will be determined based on the unique values.\n",
            "If you want the future behaviour and silence this warning, you can specify \"categories='auto'\".\n",
            "In case you used a LabelEncoder before this OneHotEncoder to convert the categories to integers, then you can now use the OneHotEncoder directly.\n",
            "  warnings.warn(msg, FutureWarning)\n",
            "/usr/local/lib/python3.6/dist-packages/sklearn/preprocessing/_encoders.py:371: FutureWarning: The handling of integer data will change in version 0.22. Currently, the categories are determined based on the range [0, max(values)], while in the future they will be determined based on the unique values.\n",
            "If you want the future behaviour and silence this warning, you can specify \"categories='auto'\".\n",
            "In case you used a LabelEncoder before this OneHotEncoder to convert the categories to integers, then you can now use the OneHotEncoder directly.\n",
            "  warnings.warn(msg, FutureWarning)\n"
          ],
          "name": "stderr"
        },
        {
          "output_type": "stream",
          "text": [
            "WARNING:tensorflow:From /usr/local/lib/python3.6/dist-packages/tensorflow/python/ops/math_ops.py:3066: to_int32 (from tensorflow.python.ops.math_ops) is deprecated and will be removed in a future version.\n",
            "Instructions for updating:\n",
            "Use tf.cast instead.\n"
          ],
          "name": "stdout"
        }
      ]
    },
    {
      "metadata": {
        "id": "9d2Jm5C4UMOg",
        "colab_type": "code",
        "outputId": "84bc844d-7a30-4c93-f479-8cefb5cfca69",
        "colab": {
          "base_uri": "https://localhost:8080/",
          "height": 645
        }
      },
      "cell_type": "code",
      "source": [
        "data1_val_pred=np.argmax(data1_ELM_model.predict(data1_val_X),axis=1)\n",
        "show_model_metrics('ELM','Data1',data1_val_pred,data1_val_y)\n",
        "\n",
        "data2_val_pred=np.argmax(data2_ELM_model.predict(data2_val_X),axis=1)\n",
        "show_model_metrics('ELM','Data2',data2_val_pred,data2_val_y)"
      ],
      "execution_count": 37,
      "outputs": [
        {
          "output_type": "stream",
          "text": [
            "ELM model for Data1:\n",
            "accuracy: 0.930233 precision: 0.880000 f1_score: 0.936170\n"
          ],
          "name": "stdout"
        },
        {
          "output_type": "display_data",
          "data": {
            "image/png": "[encoded data removed]",
            "text/plain": [
              "<Figure size 432x288 with 1 Axes>"
            ]
          },
          "metadata": {
            "tags": []
          }
        },
        {
          "output_type": "stream",
          "text": [
            "ELM model for Data2:\n",
            "accuracy: 0.930233 precision: 0.880000 f1_score: 0.936170\n"
          ],
          "name": "stdout"
        },
        {
          "output_type": "display_data",
          "data": {
            "image/png": "[encoded data removed]",
            "text/plain": [
              "<Figure size 432x288 with 1 Axes>"
            ]
          },
          "metadata": {
            "tags": []
          }
        }
      ]
    },
    {
      "metadata": {
        "id": "eBlagfvnisV6",
        "colab_type": "text"
      },
      "cell_type": "markdown",
      "source": [
        "## classifying using C4.5 decisionTree classifier:"
      ]
    },
    {
      "metadata": {
        "id": "cSsZy4e0kxV5",
        "colab_type": "code",
        "colab": {}
      },
      "cell_type": "code",
      "source": [
        "from sklearn.tree import DecisionTreeClassifier\n",
        "from sklearn import tree\n",
        "import graphviz"
      ],
      "execution_count": 0,
      "outputs": []
    },
    {
      "metadata": {
        "id": "f0dCtSCPpgxM",
        "colab_type": "code",
        "outputId": "e120761e-4d3f-4fb6-dfcc-145c3388aeca",
        "colab": {
          "base_uri": "https://localhost:8080/",
          "height": 125
        }
      },
      "cell_type": "code",
      "source": [
        "data1_Tree_model = DecisionTreeClassifier(max_depth=5,min_samples_leaf=4,random_state=7)\n",
        "data1_Tree_model"
      ],
      "execution_count": 0,
      "outputs": [
        {
          "output_type": "execute_result",
          "data": {
            "text/plain": [
              "DecisionTreeClassifier(class_weight=None, criterion='gini', max_depth=5,\n",
              "            max_features=None, max_leaf_nodes=None,\n",
              "            min_impurity_decrease=0.0, min_impurity_split=None,\n",
              "            min_samples_leaf=4, min_samples_split=2,\n",
              "            min_weight_fraction_leaf=0.0, presort=False, random_state=7,\n",
              "            splitter='best')"
            ]
          },
          "metadata": {
            "tags": []
          },
          "execution_count": 289
        }
      ]
    },
    {
      "metadata": {
        "id": "i1X6bO0Dp1ij",
        "colab_type": "code",
        "colab": {}
      },
      "cell_type": "code",
      "source": [
        "\n",
        "# Train Decision Tree Classifer\n",
        "data1_Tree_model = data1_Tree_model.fit(data1_train_X,data1_train_y)\n",
        "\n"
      ],
      "execution_count": 0,
      "outputs": []
    },
    {
      "metadata": {
        "id": "r-LtEZ-lqux4",
        "colab_type": "code",
        "outputId": "d3173d65-2be1-4392-810a-c8f72e5e77d1",
        "colab": {
          "base_uri": "https://localhost:8080/",
          "height": 935
        }
      },
      "cell_type": "code",
      "source": [
        "dot_data = tree.export_graphviz(data1_Tree_model, out_file=None,\n",
        "                      feature_names=data1_train_X.columns,  \n",
        "                      class_names=[\"0\",\"1\"],  \n",
        "                     filled=True, rounded=True,  \n",
        "                     special_characters=True)  \n",
        "graph = graphviz.Source(dot_data)  \n",
        "graph  "
      ],
      "execution_count": 0,
      "outputs": [
        {
          "output_type": "execute_result",
          "data": {
            "text/plain": [
              "<graphviz.files.Source at 0x7ff006023208>"
            ],
            "image/svg+xml": "<?xml version=\"1.0\" encoding=\"UTF-8\" standalone=\"no\"?>\n<!DOCTYPE svg PUBLIC \"-//W3C//DTD SVG 1.1//EN\"\n \"http://www.w3.org/Graphics/SVG/1.1/DTD/svg11.dtd\">\n<!-- Generated by graphviz version 2.40.1 (20161225.0304)\n -->\n<!-- Title: Tree Pages: 1 -->\n<svg width=\"1149pt\" height=\"671pt\"\n viewBox=\"0.00 0.00 1149.00 671.00\" xmlns=\"http://www.w3.org/2000/svg\" xmlns:xlink=\"http://www.w3.org/1999/xlink\">\n<g id=\"graph0\" class=\"graph\" transform=\"scale(1 1) rotate(0) translate(4 667)\">\n<title>Tree</title>\n<polygon fill=\"#ffffff\" stroke=\"transparent\" points=\"-4,4 -4,-667 1145,-667 1145,4 -4,4\"/>\n<!-- 0 -->\n<g id=\"node1\" class=\"node\">\n<title>0</title>\n<path fill=\"transparent\" stroke=\"#000000\" d=\"M708.5,-663C708.5,-663 592.5,-663 592.5,-663 586.5,-663 580.5,-657 580.5,-651 580.5,-651 580.5,-592 580.5,-592 580.5,-586 586.5,-580 592.5,-580 592.5,-580 708.5,-580 708.5,-580 714.5,-580 720.5,-586 720.5,-592 720.5,-592 720.5,-651 720.5,-651 720.5,-657 714.5,-663 708.5,-663\"/>\n<text text-anchor=\"start\" x=\"588.5\" y=\"-647.8\" font-family=\"Helvetica,sans-Serif\" font-size=\"14.00\" fill=\"#000000\">look_landu ≤ 0.145</text>\n<text text-anchor=\"start\" x=\"621\" y=\"-632.8\" font-family=\"Helvetica,sans-Serif\" font-size=\"14.00\" fill=\"#000000\">gini = 0.5</text>\n<text text-anchor=\"start\" x=\"602.5\" y=\"-617.8\" font-family=\"Helvetica,sans-Serif\" font-size=\"14.00\" fill=\"#000000\">samples = 202</text>\n<text text-anchor=\"start\" x=\"592.5\" y=\"-602.8\" font-family=\"Helvetica,sans-Serif\" font-size=\"14.00\" fill=\"#000000\">value = [101, 101]</text>\n<text text-anchor=\"start\" x=\"621.5\" y=\"-587.8\" font-family=\"Helvetica,sans-Serif\" font-size=\"14.00\" fill=\"#000000\">class = 0</text>\n</g>\n<!-- 1 -->\n<g id=\"node2\" class=\"node\">\n<title>1</title>\n<path fill=\"#e58139\" fill-opacity=\"0.725490\" stroke=\"#000000\" d=\"M587,-544C587,-544 466,-544 466,-544 460,-544 454,-538 454,-532 454,-532 454,-473 454,-473 454,-467 460,-461 466,-461 466,-461 587,-461 587,-461 593,-461 599,-467 599,-473 599,-473 599,-532 599,-532 599,-538 593,-544 587,-544\"/>\n<text text-anchor=\"start\" x=\"462\" y=\"-528.8\" font-family=\"Helvetica,sans-Serif\" font-size=\"14.00\" fill=\"#000000\">Look_geolo ≤ 0.225</text>\n<text text-anchor=\"start\" x=\"488.5\" y=\"-513.8\" font-family=\"Helvetica,sans-Serif\" font-size=\"14.00\" fill=\"#000000\">gini = 0.337</text>\n<text text-anchor=\"start\" x=\"478.5\" y=\"-498.8\" font-family=\"Helvetica,sans-Serif\" font-size=\"14.00\" fill=\"#000000\">samples = 112</text>\n<text text-anchor=\"start\" x=\"476.5\" y=\"-483.8\" font-family=\"Helvetica,sans-Serif\" font-size=\"14.00\" fill=\"#000000\">value = [88, 24]</text>\n<text text-anchor=\"start\" x=\"497.5\" y=\"-468.8\" font-family=\"Helvetica,sans-Serif\" font-size=\"14.00\" fill=\"#000000\">class = 0</text>\n</g>\n<!-- 0&#45;&gt;1 -->\n<g id=\"edge1\" class=\"edge\">\n<title>0&#45;&gt;1</title>\n<path fill=\"none\" stroke=\"#000000\" d=\"M607.1308,-579.8796C597.5584,-570.6931 587.3328,-560.8798 577.4897,-551.4336\"/>\n<polygon fill=\"#000000\" stroke=\"#000000\" points=\"579.6928,-548.6969 570.0543,-544.2981 574.8459,-553.7475 579.6928,-548.6969\"/>\n<text text-anchor=\"middle\" x=\"570.5686\" y=\"-565.5928\" font-family=\"Helvetica,sans-Serif\" font-size=\"14.00\" fill=\"#000000\">True</text>\n</g>\n<!-- 16 -->\n<g id=\"node17\" class=\"node\">\n<title>16</title>\n<path fill=\"#399de5\" fill-opacity=\"0.831373\" stroke=\"#000000\" d=\"M824,-544C824,-544 717,-544 717,-544 711,-544 705,-538 705,-532 705,-532 705,-473 705,-473 705,-467 711,-461 717,-461 717,-461 824,-461 824,-461 830,-461 836,-467 836,-473 836,-473 836,-532 836,-532 836,-538 830,-544 824,-544\"/>\n<text text-anchor=\"start\" x=\"713\" y=\"-528.8\" font-family=\"Helvetica,sans-Serif\" font-size=\"14.00\" fill=\"#000000\">look_river ≤ 0.075</text>\n<text text-anchor=\"start\" x=\"732.5\" y=\"-513.8\" font-family=\"Helvetica,sans-Serif\" font-size=\"14.00\" fill=\"#000000\">gini = 0.247</text>\n<text text-anchor=\"start\" x=\"726.5\" y=\"-498.8\" font-family=\"Helvetica,sans-Serif\" font-size=\"14.00\" fill=\"#000000\">samples = 90</text>\n<text text-anchor=\"start\" x=\"720.5\" y=\"-483.8\" font-family=\"Helvetica,sans-Serif\" font-size=\"14.00\" fill=\"#000000\">value = [13, 77]</text>\n<text text-anchor=\"start\" x=\"741.5\" y=\"-468.8\" font-family=\"Helvetica,sans-Serif\" font-size=\"14.00\" fill=\"#000000\">class = 1</text>\n</g>\n<!-- 0&#45;&gt;16 -->\n<g id=\"edge16\" class=\"edge\">\n<title>0&#45;&gt;16</title>\n<path fill=\"none\" stroke=\"#000000\" d=\"M692.4702,-579.8796C701.7338,-570.6931 711.6296,-560.8798 721.1552,-551.4336\"/>\n<polygon fill=\"#000000\" stroke=\"#000000\" points=\"723.7146,-553.8247 728.3507,-544.2981 718.7856,-548.8543 723.7146,-553.8247\"/>\n<text text-anchor=\"middle\" x=\"728.2461\" y=\"-565.5979\" font-family=\"Helvetica,sans-Serif\" font-size=\"14.00\" fill=\"#000000\">False</text>\n</g>\n<!-- 2 -->\n<g id=\"node3\" class=\"node\">\n<title>2</title>\n<path fill=\"#e58139\" fill-opacity=\"0.886275\" stroke=\"#000000\" d=\"M379,-425C379,-425 280,-425 280,-425 274,-425 268,-419 268,-413 268,-413 268,-354 268,-354 268,-348 274,-342 280,-342 280,-342 379,-342 379,-342 385,-342 391,-348 391,-354 391,-354 391,-413 391,-413 391,-419 385,-425 379,-425\"/>\n<text text-anchor=\"start\" x=\"276\" y=\"-409.8\" font-family=\"Helvetica,sans-Serif\" font-size=\"14.00\" fill=\"#000000\">look_river ≤ 0.22</text>\n<text text-anchor=\"start\" x=\"291.5\" y=\"-394.8\" font-family=\"Helvetica,sans-Serif\" font-size=\"14.00\" fill=\"#000000\">gini = 0.182</text>\n<text text-anchor=\"start\" x=\"285.5\" y=\"-379.8\" font-family=\"Helvetica,sans-Serif\" font-size=\"14.00\" fill=\"#000000\">samples = 89</text>\n<text text-anchor=\"start\" x=\"284\" y=\"-364.8\" font-family=\"Helvetica,sans-Serif\" font-size=\"14.00\" fill=\"#000000\">value = [80, 9]</text>\n<text text-anchor=\"start\" x=\"300.5\" y=\"-349.8\" font-family=\"Helvetica,sans-Serif\" font-size=\"14.00\" fill=\"#000000\">class = 0</text>\n</g>\n<!-- 1&#45;&gt;2 -->\n<g id=\"edge2\" class=\"edge\">\n<title>1&#45;&gt;2</title>\n<path fill=\"none\" stroke=\"#000000\" d=\"M457.599,-460.8796C438.9208,-449.5968 418.6772,-437.3684 399.9167,-426.036\"/>\n<polygon fill=\"#000000\" stroke=\"#000000\" points=\"401.4963,-422.9012 391.1271,-420.7265 397.8769,-428.8929 401.4963,-422.9012\"/>\n</g>\n<!-- 11 -->\n<g id=\"node12\" class=\"node\">\n<title>11</title>\n<path fill=\"#399de5\" fill-opacity=\"0.466667\" stroke=\"#000000\" d=\"M586,-425C586,-425 467,-425 467,-425 461,-425 455,-419 455,-413 455,-413 455,-354 455,-354 455,-348 461,-342 467,-342 467,-342 586,-342 586,-342 592,-342 598,-348 598,-354 598,-354 598,-413 598,-413 598,-419 592,-425 586,-425\"/>\n<text text-anchor=\"start\" x=\"463\" y=\"-409.8\" font-family=\"Helvetica,sans-Serif\" font-size=\"14.00\" fill=\"#000000\">look_aspec ≤ 0.075</text>\n<text text-anchor=\"start\" x=\"488.5\" y=\"-394.8\" font-family=\"Helvetica,sans-Serif\" font-size=\"14.00\" fill=\"#000000\">gini = 0.454</text>\n<text text-anchor=\"start\" x=\"482.5\" y=\"-379.8\" font-family=\"Helvetica,sans-Serif\" font-size=\"14.00\" fill=\"#000000\">samples = 23</text>\n<text text-anchor=\"start\" x=\"481\" y=\"-364.8\" font-family=\"Helvetica,sans-Serif\" font-size=\"14.00\" fill=\"#000000\">value = [8, 15]</text>\n<text text-anchor=\"start\" x=\"497.5\" y=\"-349.8\" font-family=\"Helvetica,sans-Serif\" font-size=\"14.00\" fill=\"#000000\">class = 1</text>\n</g>\n<!-- 1&#45;&gt;11 -->\n<g id=\"edge11\" class=\"edge\">\n<title>1&#45;&gt;11</title>\n<path fill=\"none\" stroke=\"#000000\" d=\"M526.5,-460.8796C526.5,-452.6838 526.5,-443.9891 526.5,-435.5013\"/>\n<polygon fill=\"#000000\" stroke=\"#000000\" points=\"530.0001,-435.298 526.5,-425.2981 523.0001,-435.2981 530.0001,-435.298\"/>\n</g>\n<!-- 3 -->\n<g id=\"node4\" class=\"node\">\n<title>3</title>\n<path fill=\"#e58139\" fill-opacity=\"0.933333\" stroke=\"#000000\" d=\"M231.5,-306C231.5,-306 131.5,-306 131.5,-306 125.5,-306 119.5,-300 119.5,-294 119.5,-294 119.5,-235 119.5,-235 119.5,-229 125.5,-223 131.5,-223 131.5,-223 231.5,-223 231.5,-223 237.5,-223 243.5,-229 243.5,-235 243.5,-235 243.5,-294 243.5,-294 243.5,-300 237.5,-306 231.5,-306\"/>\n<text text-anchor=\"start\" x=\"127.5\" y=\"-290.8\" font-family=\"Helvetica,sans-Serif\" font-size=\"14.00\" fill=\"#000000\">look_dem ≤ 0.06</text>\n<text text-anchor=\"start\" x=\"148\" y=\"-275.8\" font-family=\"Helvetica,sans-Serif\" font-size=\"14.00\" fill=\"#000000\">gini = 0.12</text>\n<text text-anchor=\"start\" x=\"137.5\" y=\"-260.8\" font-family=\"Helvetica,sans-Serif\" font-size=\"14.00\" fill=\"#000000\">samples = 78</text>\n<text text-anchor=\"start\" x=\"136\" y=\"-245.8\" font-family=\"Helvetica,sans-Serif\" font-size=\"14.00\" fill=\"#000000\">value = [73, 5]</text>\n<text text-anchor=\"start\" x=\"152.5\" y=\"-230.8\" font-family=\"Helvetica,sans-Serif\" font-size=\"14.00\" fill=\"#000000\">class = 0</text>\n</g>\n<!-- 2&#45;&gt;3 -->\n<g id=\"edge3\" class=\"edge\">\n<title>2&#45;&gt;3</title>\n<path fill=\"none\" stroke=\"#000000\" d=\"M277.7368,-341.8796C265.9072,-332.368 253.2419,-322.1843 241.1129,-312.432\"/>\n<polygon fill=\"#000000\" stroke=\"#000000\" points=\"243.2204,-309.6355 233.234,-306.0969 238.8341,-315.0908 243.2204,-309.6355\"/>\n</g>\n<!-- 8 -->\n<g id=\"node9\" class=\"node\">\n<title>8</title>\n<path fill=\"#e58139\" fill-opacity=\"0.427451\" stroke=\"#000000\" d=\"M385,-306C385,-306 274,-306 274,-306 268,-306 262,-300 262,-294 262,-294 262,-235 262,-235 262,-229 268,-223 274,-223 274,-223 385,-223 385,-223 391,-223 397,-229 397,-235 397,-235 397,-294 397,-294 397,-300 391,-306 385,-306\"/>\n<text text-anchor=\"start\" x=\"270\" y=\"-290.8\" font-family=\"Helvetica,sans-Serif\" font-size=\"14.00\" fill=\"#000000\">look_aspec ≤ 0.11</text>\n<text text-anchor=\"start\" x=\"291.5\" y=\"-275.8\" font-family=\"Helvetica,sans-Serif\" font-size=\"14.00\" fill=\"#000000\">gini = 0.463</text>\n<text text-anchor=\"start\" x=\"285.5\" y=\"-260.8\" font-family=\"Helvetica,sans-Serif\" font-size=\"14.00\" fill=\"#000000\">samples = 11</text>\n<text text-anchor=\"start\" x=\"288\" y=\"-245.8\" font-family=\"Helvetica,sans-Serif\" font-size=\"14.00\" fill=\"#000000\">value = [7, 4]</text>\n<text text-anchor=\"start\" x=\"300.5\" y=\"-230.8\" font-family=\"Helvetica,sans-Serif\" font-size=\"14.00\" fill=\"#000000\">class = 0</text>\n</g>\n<!-- 2&#45;&gt;8 -->\n<g id=\"edge8\" class=\"edge\">\n<title>2&#45;&gt;8</title>\n<path fill=\"none\" stroke=\"#000000\" d=\"M329.5,-341.8796C329.5,-333.6838 329.5,-324.9891 329.5,-316.5013\"/>\n<polygon fill=\"#000000\" stroke=\"#000000\" points=\"333.0001,-316.298 329.5,-306.2981 326.0001,-316.2981 333.0001,-316.298\"/>\n</g>\n<!-- 4 -->\n<g id=\"node5\" class=\"node\">\n<title>4</title>\n<path fill=\"#e58139\" stroke=\"#000000\" d=\"M95,-179.5C95,-179.5 12,-179.5 12,-179.5 6,-179.5 0,-173.5 0,-167.5 0,-167.5 0,-123.5 0,-123.5 0,-117.5 6,-111.5 12,-111.5 12,-111.5 95,-111.5 95,-111.5 101,-111.5 107,-117.5 107,-123.5 107,-123.5 107,-167.5 107,-167.5 107,-173.5 101,-179.5 95,-179.5\"/>\n<text text-anchor=\"start\" x=\"24\" y=\"-164.3\" font-family=\"Helvetica,sans-Serif\" font-size=\"14.00\" fill=\"#000000\">gini = 0.0</text>\n<text text-anchor=\"start\" x=\"9.5\" y=\"-149.3\" font-family=\"Helvetica,sans-Serif\" font-size=\"14.00\" fill=\"#000000\">samples = 38</text>\n<text text-anchor=\"start\" x=\"8\" y=\"-134.3\" font-family=\"Helvetica,sans-Serif\" font-size=\"14.00\" fill=\"#000000\">value = [38, 0]</text>\n<text text-anchor=\"start\" x=\"24.5\" y=\"-119.3\" font-family=\"Helvetica,sans-Serif\" font-size=\"14.00\" fill=\"#000000\">class = 0</text>\n</g>\n<!-- 3&#45;&gt;4 -->\n<g id=\"edge4\" class=\"edge\">\n<title>3&#45;&gt;4</title>\n<path fill=\"none\" stroke=\"#000000\" d=\"M136.7318,-222.8796C124.1944,-211.2237 110.5716,-198.5587 98.047,-186.9148\"/>\n<polygon fill=\"#000000\" stroke=\"#000000\" points=\"100.1172,-184.0605 90.4102,-179.8149 95.3509,-189.1872 100.1172,-184.0605\"/>\n</g>\n<!-- 5 -->\n<g id=\"node6\" class=\"node\">\n<title>5</title>\n<path fill=\"#e58139\" fill-opacity=\"0.858824\" stroke=\"#000000\" d=\"M236,-187C236,-187 137,-187 137,-187 131,-187 125,-181 125,-175 125,-175 125,-116 125,-116 125,-110 131,-104 137,-104 137,-104 236,-104 236,-104 242,-104 248,-110 248,-116 248,-116 248,-175 248,-175 248,-181 242,-187 236,-187\"/>\n<text text-anchor=\"start\" x=\"133\" y=\"-171.8\" font-family=\"Helvetica,sans-Serif\" font-size=\"14.00\" fill=\"#000000\">look_river ≤ 0.13</text>\n<text text-anchor=\"start\" x=\"148.5\" y=\"-156.8\" font-family=\"Helvetica,sans-Serif\" font-size=\"14.00\" fill=\"#000000\">gini = 0.219</text>\n<text text-anchor=\"start\" x=\"142.5\" y=\"-141.8\" font-family=\"Helvetica,sans-Serif\" font-size=\"14.00\" fill=\"#000000\">samples = 40</text>\n<text text-anchor=\"start\" x=\"141\" y=\"-126.8\" font-family=\"Helvetica,sans-Serif\" font-size=\"14.00\" fill=\"#000000\">value = [35, 5]</text>\n<text text-anchor=\"start\" x=\"157.5\" y=\"-111.8\" font-family=\"Helvetica,sans-Serif\" font-size=\"14.00\" fill=\"#000000\">class = 0</text>\n</g>\n<!-- 3&#45;&gt;5 -->\n<g id=\"edge5\" class=\"edge\">\n<title>3&#45;&gt;5</title>\n<path fill=\"none\" stroke=\"#000000\" d=\"M183.2488,-222.8796C183.5931,-214.6838 183.9584,-205.9891 184.3151,-197.5013\"/>\n<polygon fill=\"#000000\" stroke=\"#000000\" points=\"187.8208,-197.4362 184.7438,-187.2981 180.827,-197.1423 187.8208,-197.4362\"/>\n</g>\n<!-- 6 -->\n<g id=\"node7\" class=\"node\">\n<title>6</title>\n<path fill=\"#e58139\" fill-opacity=\"0.929412\" stroke=\"#000000\" d=\"M168,-68C168,-68 85,-68 85,-68 79,-68 73,-62 73,-56 73,-56 73,-12 73,-12 73,-6 79,0 85,0 85,0 168,0 168,0 174,0 180,-6 180,-12 180,-12 180,-56 180,-56 180,-62 174,-68 168,-68\"/>\n<text text-anchor=\"start\" x=\"88.5\" y=\"-52.8\" font-family=\"Helvetica,sans-Serif\" font-size=\"14.00\" fill=\"#000000\">gini = 0.121</text>\n<text text-anchor=\"start\" x=\"82.5\" y=\"-37.8\" font-family=\"Helvetica,sans-Serif\" font-size=\"14.00\" fill=\"#000000\">samples = 31</text>\n<text text-anchor=\"start\" x=\"81\" y=\"-22.8\" font-family=\"Helvetica,sans-Serif\" font-size=\"14.00\" fill=\"#000000\">value = [29, 2]</text>\n<text text-anchor=\"start\" x=\"97.5\" y=\"-7.8\" font-family=\"Helvetica,sans-Serif\" font-size=\"14.00\" fill=\"#000000\">class = 0</text>\n</g>\n<!-- 5&#45;&gt;6 -->\n<g id=\"edge6\" class=\"edge\">\n<title>5&#45;&gt;6</title>\n<path fill=\"none\" stroke=\"#000000\" d=\"M164.1582,-103.9815C159.4598,-95.2504 154.4929,-86.0202 149.7617,-77.2281\"/>\n<polygon fill=\"#000000\" stroke=\"#000000\" points=\"152.7586,-75.4111 144.9379,-68.2637 146.5944,-78.7282 152.7586,-75.4111\"/>\n</g>\n<!-- 7 -->\n<g id=\"node8\" class=\"node\">\n<title>7</title>\n<path fill=\"#e58139\" fill-opacity=\"0.498039\" stroke=\"#000000\" d=\"M285,-68C285,-68 210,-68 210,-68 204,-68 198,-62 198,-56 198,-56 198,-12 198,-12 198,-6 204,0 210,0 210,0 285,0 285,0 291,0 297,-6 297,-12 297,-12 297,-56 297,-56 297,-62 291,-68 285,-68\"/>\n<text text-anchor=\"start\" x=\"209.5\" y=\"-52.8\" font-family=\"Helvetica,sans-Serif\" font-size=\"14.00\" fill=\"#000000\">gini = 0.444</text>\n<text text-anchor=\"start\" x=\"208\" y=\"-37.8\" font-family=\"Helvetica,sans-Serif\" font-size=\"14.00\" fill=\"#000000\">samples = 9</text>\n<text text-anchor=\"start\" x=\"206\" y=\"-22.8\" font-family=\"Helvetica,sans-Serif\" font-size=\"14.00\" fill=\"#000000\">value = [6, 3]</text>\n<text text-anchor=\"start\" x=\"218.5\" y=\"-7.8\" font-family=\"Helvetica,sans-Serif\" font-size=\"14.00\" fill=\"#000000\">class = 0</text>\n</g>\n<!-- 5&#45;&gt;7 -->\n<g id=\"edge7\" class=\"edge\">\n<title>5&#45;&gt;7</title>\n<path fill=\"none\" stroke=\"#000000\" d=\"M209.2141,-103.9815C213.9908,-95.2504 219.0405,-86.0202 223.8506,-77.2281\"/>\n<polygon fill=\"#000000\" stroke=\"#000000\" points=\"227.0258,-78.7165 228.7549,-68.2637 220.8847,-75.3568 227.0258,-78.7165\"/>\n</g>\n<!-- 9 -->\n<g id=\"node10\" class=\"node\">\n<title>9</title>\n<path fill=\"#e58139\" fill-opacity=\"0.831373\" stroke=\"#000000\" d=\"M362,-179.5C362,-179.5 287,-179.5 287,-179.5 281,-179.5 275,-173.5 275,-167.5 275,-167.5 275,-123.5 275,-123.5 275,-117.5 281,-111.5 287,-111.5 287,-111.5 362,-111.5 362,-111.5 368,-111.5 374,-117.5 374,-123.5 374,-123.5 374,-167.5 374,-167.5 374,-173.5 368,-179.5 362,-179.5\"/>\n<text text-anchor=\"start\" x=\"286.5\" y=\"-164.3\" font-family=\"Helvetica,sans-Serif\" font-size=\"14.00\" fill=\"#000000\">gini = 0.245</text>\n<text text-anchor=\"start\" x=\"285\" y=\"-149.3\" font-family=\"Helvetica,sans-Serif\" font-size=\"14.00\" fill=\"#000000\">samples = 7</text>\n<text text-anchor=\"start\" x=\"283\" y=\"-134.3\" font-family=\"Helvetica,sans-Serif\" font-size=\"14.00\" fill=\"#000000\">value = [6, 1]</text>\n<text text-anchor=\"start\" x=\"295.5\" y=\"-119.3\" font-family=\"Helvetica,sans-Serif\" font-size=\"14.00\" fill=\"#000000\">class = 0</text>\n</g>\n<!-- 8&#45;&gt;9 -->\n<g id=\"edge9\" class=\"edge\">\n<title>8&#45;&gt;9</title>\n<path fill=\"none\" stroke=\"#000000\" d=\"M327.7512,-222.8796C327.3031,-212.2134 326.8194,-200.7021 326.3656,-189.9015\"/>\n<polygon fill=\"#000000\" stroke=\"#000000\" points=\"329.8586,-189.6592 325.9418,-179.8149 322.8648,-189.9531 329.8586,-189.6592\"/>\n</g>\n<!-- 10 -->\n<g id=\"node11\" class=\"node\">\n<title>10</title>\n<path fill=\"#399de5\" fill-opacity=\"0.666667\" stroke=\"#000000\" d=\"M479,-179.5C479,-179.5 404,-179.5 404,-179.5 398,-179.5 392,-173.5 392,-167.5 392,-167.5 392,-123.5 392,-123.5 392,-117.5 398,-111.5 404,-111.5 404,-111.5 479,-111.5 479,-111.5 485,-111.5 491,-117.5 491,-123.5 491,-123.5 491,-167.5 491,-167.5 491,-173.5 485,-179.5 479,-179.5\"/>\n<text text-anchor=\"start\" x=\"403.5\" y=\"-164.3\" font-family=\"Helvetica,sans-Serif\" font-size=\"14.00\" fill=\"#000000\">gini = 0.375</text>\n<text text-anchor=\"start\" x=\"402\" y=\"-149.3\" font-family=\"Helvetica,sans-Serif\" font-size=\"14.00\" fill=\"#000000\">samples = 4</text>\n<text text-anchor=\"start\" x=\"400\" y=\"-134.3\" font-family=\"Helvetica,sans-Serif\" font-size=\"14.00\" fill=\"#000000\">value = [1, 3]</text>\n<text text-anchor=\"start\" x=\"412.5\" y=\"-119.3\" font-family=\"Helvetica,sans-Serif\" font-size=\"14.00\" fill=\"#000000\">class = 1</text>\n</g>\n<!-- 8&#45;&gt;10 -->\n<g id=\"edge10\" class=\"edge\">\n<title>8&#45;&gt;10</title>\n<path fill=\"none\" stroke=\"#000000\" d=\"M368.6722,-222.8796C379.5389,-211.3337 391.3376,-198.7976 402.2109,-187.2446\"/>\n<polygon fill=\"#000000\" stroke=\"#000000\" points=\"404.8986,-189.4958 409.2036,-179.8149 399.8012,-184.6982 404.8986,-189.4958\"/>\n</g>\n<!-- 12 -->\n<g id=\"node13\" class=\"node\">\n<title>12</title>\n<path fill=\"#e58139\" fill-opacity=\"0.831373\" stroke=\"#000000\" d=\"M502,-298.5C502,-298.5 427,-298.5 427,-298.5 421,-298.5 415,-292.5 415,-286.5 415,-286.5 415,-242.5 415,-242.5 415,-236.5 421,-230.5 427,-230.5 427,-230.5 502,-230.5 502,-230.5 508,-230.5 514,-236.5 514,-242.5 514,-242.5 514,-286.5 514,-286.5 514,-292.5 508,-298.5 502,-298.5\"/>\n<text text-anchor=\"start\" x=\"426.5\" y=\"-283.3\" font-family=\"Helvetica,sans-Serif\" font-size=\"14.00\" fill=\"#000000\">gini = 0.245</text>\n<text text-anchor=\"start\" x=\"425\" y=\"-268.3\" font-family=\"Helvetica,sans-Serif\" font-size=\"14.00\" fill=\"#000000\">samples = 7</text>\n<text text-anchor=\"start\" x=\"423\" y=\"-253.3\" font-family=\"Helvetica,sans-Serif\" font-size=\"14.00\" fill=\"#000000\">value = [6, 1]</text>\n<text text-anchor=\"start\" x=\"435.5\" y=\"-238.3\" font-family=\"Helvetica,sans-Serif\" font-size=\"14.00\" fill=\"#000000\">class = 0</text>\n</g>\n<!-- 11&#45;&gt;12 -->\n<g id=\"edge12\" class=\"edge\">\n<title>11&#45;&gt;12</title>\n<path fill=\"none\" stroke=\"#000000\" d=\"M504.8154,-341.8796C499.0864,-330.8835 492.8894,-318.9893 487.1126,-307.9015\"/>\n<polygon fill=\"#000000\" stroke=\"#000000\" points=\"490.103,-306.0662 482.3784,-298.8149 483.895,-309.3007 490.103,-306.0662\"/>\n</g>\n<!-- 13 -->\n<g id=\"node14\" class=\"node\">\n<title>13</title>\n<path fill=\"#399de5\" fill-opacity=\"0.858824\" stroke=\"#000000\" d=\"M645,-306C645,-306 544,-306 544,-306 538,-306 532,-300 532,-294 532,-294 532,-235 532,-235 532,-229 538,-223 544,-223 544,-223 645,-223 645,-223 651,-223 657,-229 657,-235 657,-235 657,-294 657,-294 657,-300 651,-306 645,-306\"/>\n<text text-anchor=\"start\" x=\"540\" y=\"-290.8\" font-family=\"Helvetica,sans-Serif\" font-size=\"14.00\" fill=\"#000000\">look_soil ≤ 0.135</text>\n<text text-anchor=\"start\" x=\"556.5\" y=\"-275.8\" font-family=\"Helvetica,sans-Serif\" font-size=\"14.00\" fill=\"#000000\">gini = 0.219</text>\n<text text-anchor=\"start\" x=\"550.5\" y=\"-260.8\" font-family=\"Helvetica,sans-Serif\" font-size=\"14.00\" fill=\"#000000\">samples = 16</text>\n<text text-anchor=\"start\" x=\"549\" y=\"-245.8\" font-family=\"Helvetica,sans-Serif\" font-size=\"14.00\" fill=\"#000000\">value = [2, 14]</text>\n<text text-anchor=\"start\" x=\"565.5\" y=\"-230.8\" font-family=\"Helvetica,sans-Serif\" font-size=\"14.00\" fill=\"#000000\">class = 1</text>\n</g>\n<!-- 11&#45;&gt;13 -->\n<g id=\"edge13\" class=\"edge\">\n<title>11&#45;&gt;13</title>\n<path fill=\"none\" stroke=\"#000000\" d=\"M550.2831,-341.8796C555.2237,-333.2335 560.4816,-324.0322 565.5833,-315.1042\"/>\n<polygon fill=\"#000000\" stroke=\"#000000\" points=\"568.6928,-316.717 570.6154,-306.2981 562.6151,-313.244 568.6928,-316.717\"/>\n</g>\n<!-- 14 -->\n<g id=\"node15\" class=\"node\">\n<title>14</title>\n<path fill=\"#399de5\" stroke=\"#000000\" d=\"M620,-179.5C620,-179.5 537,-179.5 537,-179.5 531,-179.5 525,-173.5 525,-167.5 525,-167.5 525,-123.5 525,-123.5 525,-117.5 531,-111.5 537,-111.5 537,-111.5 620,-111.5 620,-111.5 626,-111.5 632,-117.5 632,-123.5 632,-123.5 632,-167.5 632,-167.5 632,-173.5 626,-179.5 620,-179.5\"/>\n<text text-anchor=\"start\" x=\"549\" y=\"-164.3\" font-family=\"Helvetica,sans-Serif\" font-size=\"14.00\" fill=\"#000000\">gini = 0.0</text>\n<text text-anchor=\"start\" x=\"534.5\" y=\"-149.3\" font-family=\"Helvetica,sans-Serif\" font-size=\"14.00\" fill=\"#000000\">samples = 11</text>\n<text text-anchor=\"start\" x=\"533\" y=\"-134.3\" font-family=\"Helvetica,sans-Serif\" font-size=\"14.00\" fill=\"#000000\">value = [0, 11]</text>\n<text text-anchor=\"start\" x=\"549.5\" y=\"-119.3\" font-family=\"Helvetica,sans-Serif\" font-size=\"14.00\" fill=\"#000000\">class = 1</text>\n</g>\n<!-- 13&#45;&gt;14 -->\n<g id=\"edge14\" class=\"edge\">\n<title>13&#45;&gt;14</title>\n<path fill=\"none\" stroke=\"#000000\" d=\"M588.904,-222.8796C587.4699,-212.2134 585.9221,-200.7021 584.47,-189.9015\"/>\n<polygon fill=\"#000000\" stroke=\"#000000\" points=\"587.9152,-189.2593 583.1138,-179.8149 580.9776,-190.1922 587.9152,-189.2593\"/>\n</g>\n<!-- 15 -->\n<g id=\"node16\" class=\"node\">\n<title>15</title>\n<path fill=\"#399de5\" fill-opacity=\"0.333333\" stroke=\"#000000\" d=\"M737,-179.5C737,-179.5 662,-179.5 662,-179.5 656,-179.5 650,-173.5 650,-167.5 650,-167.5 650,-123.5 650,-123.5 650,-117.5 656,-111.5 662,-111.5 662,-111.5 737,-111.5 737,-111.5 743,-111.5 749,-117.5 749,-123.5 749,-123.5 749,-167.5 749,-167.5 749,-173.5 743,-179.5 737,-179.5\"/>\n<text text-anchor=\"start\" x=\"666\" y=\"-164.3\" font-family=\"Helvetica,sans-Serif\" font-size=\"14.00\" fill=\"#000000\">gini = 0.48</text>\n<text text-anchor=\"start\" x=\"660\" y=\"-149.3\" font-family=\"Helvetica,sans-Serif\" font-size=\"14.00\" fill=\"#000000\">samples = 5</text>\n<text text-anchor=\"start\" x=\"658\" y=\"-134.3\" font-family=\"Helvetica,sans-Serif\" font-size=\"14.00\" fill=\"#000000\">value = [2, 3]</text>\n<text text-anchor=\"start\" x=\"670.5\" y=\"-119.3\" font-family=\"Helvetica,sans-Serif\" font-size=\"14.00\" fill=\"#000000\">class = 1</text>\n</g>\n<!-- 13&#45;&gt;15 -->\n<g id=\"edge15\" class=\"edge\">\n<title>13&#45;&gt;15</title>\n<path fill=\"none\" stroke=\"#000000\" d=\"M631.2239,-222.8796C641.3144,-211.4436 652.2621,-199.0363 662.375,-187.575\"/>\n<polygon fill=\"#000000\" stroke=\"#000000\" points=\"665.2303,-189.629 669.2221,-179.8149 659.9814,-184.9977 665.2303,-189.629\"/>\n</g>\n<!-- 17 -->\n<g id=\"node18\" class=\"node\">\n<title>17</title>\n<path fill=\"#e58139\" fill-opacity=\"0.545098\" stroke=\"#000000\" d=\"M824.5,-425C824.5,-425 716.5,-425 716.5,-425 710.5,-425 704.5,-419 704.5,-413 704.5,-413 704.5,-354 704.5,-354 704.5,-348 710.5,-342 716.5,-342 716.5,-342 824.5,-342 824.5,-342 830.5,-342 836.5,-348 836.5,-354 836.5,-354 836.5,-413 836.5,-413 836.5,-419 830.5,-425 824.5,-425\"/>\n<text text-anchor=\"start\" x=\"712.5\" y=\"-409.8\" font-family=\"Helvetica,sans-Serif\" font-size=\"14.00\" fill=\"#000000\">look_dem ≤ 0.325</text>\n<text text-anchor=\"start\" x=\"737\" y=\"-394.8\" font-family=\"Helvetica,sans-Serif\" font-size=\"14.00\" fill=\"#000000\">gini = 0.43</text>\n<text text-anchor=\"start\" x=\"726.5\" y=\"-379.8\" font-family=\"Helvetica,sans-Serif\" font-size=\"14.00\" fill=\"#000000\">samples = 16</text>\n<text text-anchor=\"start\" x=\"725\" y=\"-364.8\" font-family=\"Helvetica,sans-Serif\" font-size=\"14.00\" fill=\"#000000\">value = [11, 5]</text>\n<text text-anchor=\"start\" x=\"741.5\" y=\"-349.8\" font-family=\"Helvetica,sans-Serif\" font-size=\"14.00\" fill=\"#000000\">class = 0</text>\n</g>\n<!-- 16&#45;&gt;17 -->\n<g id=\"edge17\" class=\"edge\">\n<title>16&#45;&gt;17</title>\n<path fill=\"none\" stroke=\"#000000\" d=\"M770.5,-460.8796C770.5,-452.6838 770.5,-443.9891 770.5,-435.5013\"/>\n<polygon fill=\"#000000\" stroke=\"#000000\" points=\"774.0001,-435.298 770.5,-425.2981 767.0001,-435.2981 774.0001,-435.298\"/>\n</g>\n<!-- 20 -->\n<g id=\"node21\" class=\"node\">\n<title>20</title>\n<path fill=\"#399de5\" fill-opacity=\"0.972549\" stroke=\"#000000\" d=\"M1024,-425C1024,-425 909,-425 909,-425 903,-425 897,-419 897,-413 897,-413 897,-354 897,-354 897,-348 903,-342 909,-342 909,-342 1024,-342 1024,-342 1030,-342 1036,-348 1036,-354 1036,-354 1036,-413 1036,-413 1036,-419 1030,-425 1024,-425\"/>\n<text text-anchor=\"start\" x=\"905\" y=\"-409.8\" font-family=\"Helvetica,sans-Serif\" font-size=\"14.00\" fill=\"#000000\">look_slope ≤ 0.115</text>\n<text text-anchor=\"start\" x=\"928.5\" y=\"-394.8\" font-family=\"Helvetica,sans-Serif\" font-size=\"14.00\" fill=\"#000000\">gini = 0.053</text>\n<text text-anchor=\"start\" x=\"922.5\" y=\"-379.8\" font-family=\"Helvetica,sans-Serif\" font-size=\"14.00\" fill=\"#000000\">samples = 74</text>\n<text text-anchor=\"start\" x=\"921\" y=\"-364.8\" font-family=\"Helvetica,sans-Serif\" font-size=\"14.00\" fill=\"#000000\">value = [2, 72]</text>\n<text text-anchor=\"start\" x=\"937.5\" y=\"-349.8\" font-family=\"Helvetica,sans-Serif\" font-size=\"14.00\" fill=\"#000000\">class = 1</text>\n</g>\n<!-- 16&#45;&gt;20 -->\n<g id=\"edge20\" class=\"edge\">\n<title>16&#45;&gt;20</title>\n<path fill=\"none\" stroke=\"#000000\" d=\"M836.0377,-462.7093C853.1566,-452.3156 871.7655,-441.0174 889.4237,-430.2964\"/>\n<polygon fill=\"#000000\" stroke=\"#000000\" points=\"891.2737,-433.2677 898.0052,-425.0862 887.6408,-427.2842 891.2737,-433.2677\"/>\n</g>\n<!-- 18 -->\n<g id=\"node19\" class=\"node\">\n<title>18</title>\n<path fill=\"#e58139\" stroke=\"#000000\" d=\"M770,-298.5C770,-298.5 687,-298.5 687,-298.5 681,-298.5 675,-292.5 675,-286.5 675,-286.5 675,-242.5 675,-242.5 675,-236.5 681,-230.5 687,-230.5 687,-230.5 770,-230.5 770,-230.5 776,-230.5 782,-236.5 782,-242.5 782,-242.5 782,-286.5 782,-286.5 782,-292.5 776,-298.5 770,-298.5\"/>\n<text text-anchor=\"start\" x=\"699\" y=\"-283.3\" font-family=\"Helvetica,sans-Serif\" font-size=\"14.00\" fill=\"#000000\">gini = 0.0</text>\n<text text-anchor=\"start\" x=\"684.5\" y=\"-268.3\" font-family=\"Helvetica,sans-Serif\" font-size=\"14.00\" fill=\"#000000\">samples = 11</text>\n<text text-anchor=\"start\" x=\"683\" y=\"-253.3\" font-family=\"Helvetica,sans-Serif\" font-size=\"14.00\" fill=\"#000000\">value = [11, 0]</text>\n<text text-anchor=\"start\" x=\"699.5\" y=\"-238.3\" font-family=\"Helvetica,sans-Serif\" font-size=\"14.00\" fill=\"#000000\">class = 0</text>\n</g>\n<!-- 17&#45;&gt;18 -->\n<g id=\"edge18\" class=\"edge\">\n<title>17&#45;&gt;18</title>\n<path fill=\"none\" stroke=\"#000000\" d=\"M755.8104,-341.8796C752.0071,-331.1034 747.8993,-319.4647 744.0533,-308.5677\"/>\n<polygon fill=\"#000000\" stroke=\"#000000\" points=\"747.2399,-307.08 740.6112,-298.8149 740.639,-309.4097 747.2399,-307.08\"/>\n</g>\n<!-- 19 -->\n<g id=\"node20\" class=\"node\">\n<title>19</title>\n<path fill=\"#399de5\" stroke=\"#000000\" d=\"M887,-298.5C887,-298.5 812,-298.5 812,-298.5 806,-298.5 800,-292.5 800,-286.5 800,-286.5 800,-242.5 800,-242.5 800,-236.5 806,-230.5 812,-230.5 812,-230.5 887,-230.5 887,-230.5 893,-230.5 899,-236.5 899,-242.5 899,-242.5 899,-286.5 899,-286.5 899,-292.5 893,-298.5 887,-298.5\"/>\n<text text-anchor=\"start\" x=\"820\" y=\"-283.3\" font-family=\"Helvetica,sans-Serif\" font-size=\"14.00\" fill=\"#000000\">gini = 0.0</text>\n<text text-anchor=\"start\" x=\"810\" y=\"-268.3\" font-family=\"Helvetica,sans-Serif\" font-size=\"14.00\" fill=\"#000000\">samples = 5</text>\n<text text-anchor=\"start\" x=\"808\" y=\"-253.3\" font-family=\"Helvetica,sans-Serif\" font-size=\"14.00\" fill=\"#000000\">value = [0, 5]</text>\n<text text-anchor=\"start\" x=\"820.5\" y=\"-238.3\" font-family=\"Helvetica,sans-Serif\" font-size=\"14.00\" fill=\"#000000\">class = 1</text>\n</g>\n<!-- 17&#45;&gt;19 -->\n<g id=\"edge19\" class=\"edge\">\n<title>17&#45;&gt;19</title>\n<path fill=\"none\" stroke=\"#000000\" d=\"M798.1304,-341.8796C805.5763,-330.6636 813.6425,-318.5131 821.1282,-307.2372\"/>\n<polygon fill=\"#000000\" stroke=\"#000000\" points=\"824.1046,-309.082 826.7195,-298.8149 818.2727,-305.2104 824.1046,-309.082\"/>\n</g>\n<!-- 21 -->\n<g id=\"node22\" class=\"node\">\n<title>21</title>\n<path fill=\"#399de5\" fill-opacity=\"0.333333\" stroke=\"#000000\" d=\"M1004,-298.5C1004,-298.5 929,-298.5 929,-298.5 923,-298.5 917,-292.5 917,-286.5 917,-286.5 917,-242.5 917,-242.5 917,-236.5 923,-230.5 929,-230.5 929,-230.5 1004,-230.5 1004,-230.5 1010,-230.5 1016,-236.5 1016,-242.5 1016,-242.5 1016,-286.5 1016,-286.5 1016,-292.5 1010,-298.5 1004,-298.5\"/>\n<text text-anchor=\"start\" x=\"933\" y=\"-283.3\" font-family=\"Helvetica,sans-Serif\" font-size=\"14.00\" fill=\"#000000\">gini = 0.48</text>\n<text text-anchor=\"start\" x=\"927\" y=\"-268.3\" font-family=\"Helvetica,sans-Serif\" font-size=\"14.00\" fill=\"#000000\">samples = 5</text>\n<text text-anchor=\"start\" x=\"925\" y=\"-253.3\" font-family=\"Helvetica,sans-Serif\" font-size=\"14.00\" fill=\"#000000\">value = [2, 3]</text>\n<text text-anchor=\"start\" x=\"937.5\" y=\"-238.3\" font-family=\"Helvetica,sans-Serif\" font-size=\"14.00\" fill=\"#000000\">class = 1</text>\n</g>\n<!-- 20&#45;&gt;21 -->\n<g id=\"edge21\" class=\"edge\">\n<title>20&#45;&gt;21</title>\n<path fill=\"none\" stroke=\"#000000\" d=\"M966.5,-341.8796C966.5,-331.2134 966.5,-319.7021 966.5,-308.9015\"/>\n<polygon fill=\"#000000\" stroke=\"#000000\" points=\"970.0001,-308.8149 966.5,-298.8149 963.0001,-308.815 970.0001,-308.8149\"/>\n</g>\n<!-- 22 -->\n<g id=\"node23\" class=\"node\">\n<title>22</title>\n<path fill=\"#399de5\" stroke=\"#000000\" d=\"M1129,-298.5C1129,-298.5 1046,-298.5 1046,-298.5 1040,-298.5 1034,-292.5 1034,-286.5 1034,-286.5 1034,-242.5 1034,-242.5 1034,-236.5 1040,-230.5 1046,-230.5 1046,-230.5 1129,-230.5 1129,-230.5 1135,-230.5 1141,-236.5 1141,-242.5 1141,-242.5 1141,-286.5 1141,-286.5 1141,-292.5 1135,-298.5 1129,-298.5\"/>\n<text text-anchor=\"start\" x=\"1058\" y=\"-283.3\" font-family=\"Helvetica,sans-Serif\" font-size=\"14.00\" fill=\"#000000\">gini = 0.0</text>\n<text text-anchor=\"start\" x=\"1043.5\" y=\"-268.3\" font-family=\"Helvetica,sans-Serif\" font-size=\"14.00\" fill=\"#000000\">samples = 69</text>\n<text text-anchor=\"start\" x=\"1042\" y=\"-253.3\" font-family=\"Helvetica,sans-Serif\" font-size=\"14.00\" fill=\"#000000\">value = [0, 69]</text>\n<text text-anchor=\"start\" x=\"1058.5\" y=\"-238.3\" font-family=\"Helvetica,sans-Serif\" font-size=\"14.00\" fill=\"#000000\">class = 1</text>\n</g>\n<!-- 20&#45;&gt;22 -->\n<g id=\"edge22\" class=\"edge\">\n<title>20&#45;&gt;22</title>\n<path fill=\"none\" stroke=\"#000000\" d=\"M1008.8199,-341.8796C1020.6717,-330.2237 1033.5495,-317.5587 1045.3891,-305.9148\"/>\n<polygon fill=\"#000000\" stroke=\"#000000\" points=\"1047.9327,-308.3223 1052.6083,-298.8149 1043.0244,-303.3314 1047.9327,-308.3223\"/>\n</g>\n</g>\n</svg>\n"
          },
          "metadata": {
            "tags": []
          },
          "execution_count": 291
        }
      ]
    },
    {
      "metadata": {
        "id": "QlTBWeHtqX3z",
        "colab_type": "code",
        "outputId": "40b5272d-3ffa-452c-c671-9897e6146fc0",
        "colab": {
          "base_uri": "https://localhost:8080/",
          "height": 331
        }
      },
      "cell_type": "code",
      "source": [
        "#Predict the response for test dataset\n",
        "data1_val_pred = data1_Tree_model.predict(data1_val_X)\n",
        "\n",
        "show_model_metrics('Tree','Data1',data1_val_pred,data1_val_y)"
      ],
      "execution_count": 0,
      "outputs": [
        {
          "output_type": "stream",
          "text": [
            "Tree model for Data1:\n",
            "accuracy: 0.906977 precision: 0.891304 f1_score: 0.911111\n"
          ],
          "name": "stdout"
        },
        {
          "output_type": "display_data",
          "data": {
            "image/png": "[encoded data removed]",
            "text/plain": [
              "<Figure size 432x288 with 1 Axes>"
            ]
          },
          "metadata": {
            "tags": []
          }
        }
      ]
    },
    {
      "metadata": {
        "id": "3RoJpKASqgKo",
        "colab_type": "code",
        "outputId": "eb1319a9-ad9a-4881-e69c-2f9fc17013ba",
        "colab": {
          "base_uri": "https://localhost:8080/",
          "height": 125
        }
      },
      "cell_type": "code",
      "source": [
        "data2_Tree_model = DecisionTreeClassifier(max_depth=5,min_samples_leaf=4,random_state=7)\n",
        "data2_Tree_model"
      ],
      "execution_count": 0,
      "outputs": [
        {
          "output_type": "execute_result",
          "data": {
            "text/plain": [
              "DecisionTreeClassifier(class_weight=None, criterion='gini', max_depth=5,\n",
              "            max_features=None, max_leaf_nodes=None,\n",
              "            min_impurity_decrease=0.0, min_impurity_split=None,\n",
              "            min_samples_leaf=4, min_samples_split=2,\n",
              "            min_weight_fraction_leaf=0.0, presort=False, random_state=7,\n",
              "            splitter='best')"
            ]
          },
          "metadata": {
            "tags": []
          },
          "execution_count": 293
        }
      ]
    },
    {
      "metadata": {
        "id": "q7pCRLiTt8s2",
        "colab_type": "code",
        "outputId": "2a6a8ea1-4940-4472-e9bc-9311fa26eeb0",
        "colab": {
          "base_uri": "https://localhost:8080/",
          "height": 935
        }
      },
      "cell_type": "code",
      "source": [
        "\n",
        "# Train Decision Tree Classifer\n",
        "data2_Tree_model = data2_Tree_model.fit(data2_train_X,data2_train_y)\n",
        "dot_data = tree.export_graphviz(data2_Tree_model, out_file=None,\n",
        "                      feature_names=data2_train_X.columns,  \n",
        "                      class_names=[\"0\",\"1\"],  \n",
        "                     filled=True, rounded=True,  \n",
        "                     special_characters=True)  \n",
        "graph = graphviz.Source(dot_data)  \n",
        "graph  "
      ],
      "execution_count": 0,
      "outputs": [
        {
          "output_type": "execute_result",
          "data": {
            "text/plain": [
              "<graphviz.files.Source at 0x7ff00610b550>"
            ],
            "image/svg+xml": "<?xml version=\"1.0\" encoding=\"UTF-8\" standalone=\"no\"?>\n<!DOCTYPE svg PUBLIC \"-//W3C//DTD SVG 1.1//EN\"\n \"http://www.w3.org/Graphics/SVG/1.1/DTD/svg11.dtd\">\n<!-- Generated by graphviz version 2.40.1 (20161225.0304)\n -->\n<!-- Title: Tree Pages: 1 -->\n<svg width=\"1642pt\" height=\"671pt\"\n viewBox=\"0.00 0.00 1641.50 671.00\" xmlns=\"http://www.w3.org/2000/svg\" xmlns:xlink=\"http://www.w3.org/1999/xlink\">\n<g id=\"graph0\" class=\"graph\" transform=\"scale(1 1) rotate(0) translate(4 667)\">\n<title>Tree</title>\n<polygon fill=\"#ffffff\" stroke=\"transparent\" points=\"-4,4 -4,-667 1637.5,-667 1637.5,4 -4,4\"/>\n<!-- 0 -->\n<g id=\"node1\" class=\"node\">\n<title>0</title>\n<path fill=\"transparent\" stroke=\"#000000\" d=\"M635,-663C635,-663 527,-663 527,-663 521,-663 515,-657 515,-651 515,-651 515,-592 515,-592 515,-586 521,-580 527,-580 527,-580 635,-580 635,-580 641,-580 647,-586 647,-592 647,-592 647,-651 647,-651 647,-657 641,-663 635,-663\"/>\n<text text-anchor=\"start\" x=\"523.5\" y=\"-647.8\" font-family=\"Helvetica,sans-Serif\" font-size=\"14.00\" fill=\"#000000\">look_river ≤ 0.035</text>\n<text text-anchor=\"start\" x=\"551.5\" y=\"-632.8\" font-family=\"Helvetica,sans-Serif\" font-size=\"14.00\" fill=\"#000000\">gini = 0.5</text>\n<text text-anchor=\"start\" x=\"533\" y=\"-617.8\" font-family=\"Helvetica,sans-Serif\" font-size=\"14.00\" fill=\"#000000\">samples = 302</text>\n<text text-anchor=\"start\" x=\"523\" y=\"-602.8\" font-family=\"Helvetica,sans-Serif\" font-size=\"14.00\" fill=\"#000000\">value = [151, 151]</text>\n<text text-anchor=\"start\" x=\"552\" y=\"-587.8\" font-family=\"Helvetica,sans-Serif\" font-size=\"14.00\" fill=\"#000000\">class = 0</text>\n</g>\n<!-- 1 -->\n<g id=\"node2\" class=\"node\">\n<title>1</title>\n<path fill=\"#e58139\" fill-opacity=\"0.941176\" stroke=\"#000000\" d=\"M460.5,-544C460.5,-544 347.5,-544 347.5,-544 341.5,-544 335.5,-538 335.5,-532 335.5,-532 335.5,-473 335.5,-473 335.5,-467 341.5,-461 347.5,-461 347.5,-461 460.5,-461 460.5,-461 466.5,-461 472.5,-467 472.5,-473 472.5,-473 472.5,-532 472.5,-532 472.5,-538 466.5,-544 460.5,-544\"/>\n<text text-anchor=\"start\" x=\"343.5\" y=\"-528.8\" font-family=\"Helvetica,sans-Serif\" font-size=\"14.00\" fill=\"#000000\">river_dens ≤ 0.035</text>\n<text text-anchor=\"start\" x=\"366\" y=\"-513.8\" font-family=\"Helvetica,sans-Serif\" font-size=\"14.00\" fill=\"#000000\">gini = 0.107</text>\n<text text-anchor=\"start\" x=\"356\" y=\"-498.8\" font-family=\"Helvetica,sans-Serif\" font-size=\"14.00\" fill=\"#000000\">samples = 141</text>\n<text text-anchor=\"start\" x=\"354\" y=\"-483.8\" font-family=\"Helvetica,sans-Serif\" font-size=\"14.00\" fill=\"#000000\">value = [133, 8]</text>\n<text text-anchor=\"start\" x=\"375\" y=\"-468.8\" font-family=\"Helvetica,sans-Serif\" font-size=\"14.00\" fill=\"#000000\">class = 0</text>\n</g>\n<!-- 0&#45;&gt;1 -->\n<g id=\"edge1\" class=\"edge\">\n<title>0&#45;&gt;1</title>\n<path fill=\"none\" stroke=\"#000000\" d=\"M519.094,-579.8796C504.677,-570.1868 489.222,-559.7961 474.4656,-549.8752\"/>\n<polygon fill=\"#000000\" stroke=\"#000000\" points=\"476.1227,-546.7718 465.8711,-544.0969 472.2171,-552.581 476.1227,-546.7718\"/>\n<text text-anchor=\"middle\" x=\"470.6783\" y=\"-564.9304\" font-family=\"Helvetica,sans-Serif\" font-size=\"14.00\" fill=\"#000000\">True</text>\n</g>\n<!-- 12 -->\n<g id=\"node13\" class=\"node\">\n<title>12</title>\n<path fill=\"#399de5\" fill-opacity=\"0.874510\" stroke=\"#000000\" d=\"M812.5,-544C812.5,-544 699.5,-544 699.5,-544 693.5,-544 687.5,-538 687.5,-532 687.5,-532 687.5,-473 687.5,-473 687.5,-467 693.5,-461 699.5,-461 699.5,-461 812.5,-461 812.5,-461 818.5,-461 824.5,-467 824.5,-473 824.5,-473 824.5,-532 824.5,-532 824.5,-538 818.5,-544 812.5,-544\"/>\n<text text-anchor=\"start\" x=\"695.5\" y=\"-528.8\" font-family=\"Helvetica,sans-Serif\" font-size=\"14.00\" fill=\"#000000\">river_dens ≤ 0.035</text>\n<text text-anchor=\"start\" x=\"718\" y=\"-513.8\" font-family=\"Helvetica,sans-Serif\" font-size=\"14.00\" fill=\"#000000\">gini = 0.199</text>\n<text text-anchor=\"start\" x=\"708\" y=\"-498.8\" font-family=\"Helvetica,sans-Serif\" font-size=\"14.00\" fill=\"#000000\">samples = 161</text>\n<text text-anchor=\"start\" x=\"702\" y=\"-483.8\" font-family=\"Helvetica,sans-Serif\" font-size=\"14.00\" fill=\"#000000\">value = [18, 143]</text>\n<text text-anchor=\"start\" x=\"727\" y=\"-468.8\" font-family=\"Helvetica,sans-Serif\" font-size=\"14.00\" fill=\"#000000\">class = 1</text>\n</g>\n<!-- 0&#45;&gt;12 -->\n<g id=\"edge12\" class=\"edge\">\n<title>0&#45;&gt;12</title>\n<path fill=\"none\" stroke=\"#000000\" d=\"M642.2065,-579.8796C656.4606,-570.1868 671.741,-559.7961 686.3307,-549.8752\"/>\n<polygon fill=\"#000000\" stroke=\"#000000\" points=\"688.5269,-552.6143 694.8281,-544.0969 684.5907,-546.8258 688.5269,-552.6143\"/>\n<text text-anchor=\"middle\" x=\"690.1502\" y=\"-564.9554\" font-family=\"Helvetica,sans-Serif\" font-size=\"14.00\" fill=\"#000000\">False</text>\n</g>\n<!-- 2 -->\n<g id=\"node3\" class=\"node\">\n<title>2</title>\n<path fill=\"#e58139\" fill-opacity=\"0.976471\" stroke=\"#000000\" d=\"M253.5,-425C253.5,-425 146.5,-425 146.5,-425 140.5,-425 134.5,-419 134.5,-413 134.5,-413 134.5,-354 134.5,-354 134.5,-348 140.5,-342 146.5,-342 146.5,-342 253.5,-342 253.5,-342 259.5,-342 265.5,-348 265.5,-354 265.5,-354 265.5,-413 265.5,-413 265.5,-419 259.5,-425 253.5,-425\"/>\n<text text-anchor=\"start\" x=\"142.5\" y=\"-409.8\" font-family=\"Helvetica,sans-Serif\" font-size=\"14.00\" fill=\"#000000\">look_slope ≤ 0.08</text>\n<text text-anchor=\"start\" x=\"162\" y=\"-394.8\" font-family=\"Helvetica,sans-Serif\" font-size=\"14.00\" fill=\"#000000\">gini = 0.046</text>\n<text text-anchor=\"start\" x=\"152\" y=\"-379.8\" font-family=\"Helvetica,sans-Serif\" font-size=\"14.00\" fill=\"#000000\">samples = 127</text>\n<text text-anchor=\"start\" x=\"150\" y=\"-364.8\" font-family=\"Helvetica,sans-Serif\" font-size=\"14.00\" fill=\"#000000\">value = [124, 3]</text>\n<text text-anchor=\"start\" x=\"171\" y=\"-349.8\" font-family=\"Helvetica,sans-Serif\" font-size=\"14.00\" fill=\"#000000\">class = 0</text>\n</g>\n<!-- 1&#45;&gt;2 -->\n<g id=\"edge2\" class=\"edge\">\n<title>1&#45;&gt;2</title>\n<path fill=\"none\" stroke=\"#000000\" d=\"M335.2193,-462.3779C315.6719,-450.9753 294.2972,-438.5067 274.431,-426.9181\"/>\n<polygon fill=\"#000000\" stroke=\"#000000\" points=\"276.1228,-423.853 265.7214,-421.8375 272.5957,-429.8995 276.1228,-423.853\"/>\n</g>\n<!-- 7 -->\n<g id=\"node8\" class=\"node\">\n<title>7</title>\n<path fill=\"#e58139\" fill-opacity=\"0.443137\" stroke=\"#000000\" d=\"M452.5,-425C452.5,-425 355.5,-425 355.5,-425 349.5,-425 343.5,-419 343.5,-413 343.5,-413 343.5,-354 343.5,-354 343.5,-348 349.5,-342 355.5,-342 355.5,-342 452.5,-342 452.5,-342 458.5,-342 464.5,-348 464.5,-354 464.5,-354 464.5,-413 464.5,-413 464.5,-419 458.5,-425 452.5,-425\"/>\n<text text-anchor=\"start\" x=\"351.5\" y=\"-409.8\" font-family=\"Helvetica,sans-Serif\" font-size=\"14.00\" fill=\"#000000\">look_twi ≤ 0.025</text>\n<text text-anchor=\"start\" x=\"366\" y=\"-394.8\" font-family=\"Helvetica,sans-Serif\" font-size=\"14.00\" fill=\"#000000\">gini = 0.459</text>\n<text text-anchor=\"start\" x=\"360\" y=\"-379.8\" font-family=\"Helvetica,sans-Serif\" font-size=\"14.00\" fill=\"#000000\">samples = 14</text>\n<text text-anchor=\"start\" x=\"362.5\" y=\"-364.8\" font-family=\"Helvetica,sans-Serif\" font-size=\"14.00\" fill=\"#000000\">value = [9, 5]</text>\n<text text-anchor=\"start\" x=\"375\" y=\"-349.8\" font-family=\"Helvetica,sans-Serif\" font-size=\"14.00\" fill=\"#000000\">class = 0</text>\n</g>\n<!-- 1&#45;&gt;7 -->\n<g id=\"edge7\" class=\"edge\">\n<title>1&#45;&gt;7</title>\n<path fill=\"none\" stroke=\"#000000\" d=\"M404,-460.8796C404,-452.6838 404,-443.9891 404,-435.5013\"/>\n<polygon fill=\"#000000\" stroke=\"#000000\" points=\"407.5001,-435.298 404,-425.2981 400.5001,-435.2981 407.5001,-435.298\"/>\n</g>\n<!-- 3 -->\n<g id=\"node4\" class=\"node\">\n<title>3</title>\n<path fill=\"#e58139\" stroke=\"#000000\" d=\"M104,-298.5C104,-298.5 12,-298.5 12,-298.5 6,-298.5 0,-292.5 0,-286.5 0,-286.5 0,-242.5 0,-242.5 0,-236.5 6,-230.5 12,-230.5 12,-230.5 104,-230.5 104,-230.5 110,-230.5 116,-236.5 116,-242.5 116,-242.5 116,-286.5 116,-286.5 116,-292.5 110,-298.5 104,-298.5\"/>\n<text text-anchor=\"start\" x=\"28.5\" y=\"-283.3\" font-family=\"Helvetica,sans-Serif\" font-size=\"14.00\" fill=\"#000000\">gini = 0.0</text>\n<text text-anchor=\"start\" x=\"10\" y=\"-268.3\" font-family=\"Helvetica,sans-Serif\" font-size=\"14.00\" fill=\"#000000\">samples = 109</text>\n<text text-anchor=\"start\" x=\"8\" y=\"-253.3\" font-family=\"Helvetica,sans-Serif\" font-size=\"14.00\" fill=\"#000000\">value = [109, 0]</text>\n<text text-anchor=\"start\" x=\"29\" y=\"-238.3\" font-family=\"Helvetica,sans-Serif\" font-size=\"14.00\" fill=\"#000000\">class = 0</text>\n</g>\n<!-- 2&#45;&gt;3 -->\n<g id=\"edge3\" class=\"edge\">\n<title>2&#45;&gt;3</title>\n<path fill=\"none\" stroke=\"#000000\" d=\"M150.3353,-341.8796C136.1642,-330.0038 120.743,-317.0804 106.6342,-305.2568\"/>\n<polygon fill=\"#000000\" stroke=\"#000000\" points=\"108.8598,-302.5554 98.9472,-298.8149 104.3637,-307.9206 108.8598,-302.5554\"/>\n</g>\n<!-- 4 -->\n<g id=\"node5\" class=\"node\">\n<title>4</title>\n<path fill=\"#e58139\" fill-opacity=\"0.800000\" stroke=\"#000000\" d=\"M254,-306C254,-306 146,-306 146,-306 140,-306 134,-300 134,-294 134,-294 134,-235 134,-235 134,-229 140,-223 146,-223 146,-223 254,-223 254,-223 260,-223 266,-229 266,-235 266,-235 266,-294 266,-294 266,-300 260,-306 254,-306\"/>\n<text text-anchor=\"start\" x=\"142\" y=\"-290.8\" font-family=\"Helvetica,sans-Serif\" font-size=\"14.00\" fill=\"#000000\">look_dem ≤ 0.025</text>\n<text text-anchor=\"start\" x=\"162\" y=\"-275.8\" font-family=\"Helvetica,sans-Serif\" font-size=\"14.00\" fill=\"#000000\">gini = 0.278</text>\n<text text-anchor=\"start\" x=\"156\" y=\"-260.8\" font-family=\"Helvetica,sans-Serif\" font-size=\"14.00\" fill=\"#000000\">samples = 18</text>\n<text text-anchor=\"start\" x=\"154.5\" y=\"-245.8\" font-family=\"Helvetica,sans-Serif\" font-size=\"14.00\" fill=\"#000000\">value = [15, 3]</text>\n<text text-anchor=\"start\" x=\"171\" y=\"-230.8\" font-family=\"Helvetica,sans-Serif\" font-size=\"14.00\" fill=\"#000000\">class = 0</text>\n</g>\n<!-- 2&#45;&gt;4 -->\n<g id=\"edge4\" class=\"edge\">\n<title>2&#45;&gt;4</title>\n<path fill=\"none\" stroke=\"#000000\" d=\"M200,-341.8796C200,-333.6838 200,-324.9891 200,-316.5013\"/>\n<polygon fill=\"#000000\" stroke=\"#000000\" points=\"203.5001,-316.298 200,-306.2981 196.5001,-316.2981 203.5001,-316.298\"/>\n</g>\n<!-- 5 -->\n<g id=\"node6\" class=\"node\">\n<title>5</title>\n<path fill=\"#e58139\" stroke=\"#000000\" d=\"M135.5,-179.5C135.5,-179.5 52.5,-179.5 52.5,-179.5 46.5,-179.5 40.5,-173.5 40.5,-167.5 40.5,-167.5 40.5,-123.5 40.5,-123.5 40.5,-117.5 46.5,-111.5 52.5,-111.5 52.5,-111.5 135.5,-111.5 135.5,-111.5 141.5,-111.5 147.5,-117.5 147.5,-123.5 147.5,-123.5 147.5,-167.5 147.5,-167.5 147.5,-173.5 141.5,-179.5 135.5,-179.5\"/>\n<text text-anchor=\"start\" x=\"64.5\" y=\"-164.3\" font-family=\"Helvetica,sans-Serif\" font-size=\"14.00\" fill=\"#000000\">gini = 0.0</text>\n<text text-anchor=\"start\" x=\"50\" y=\"-149.3\" font-family=\"Helvetica,sans-Serif\" font-size=\"14.00\" fill=\"#000000\">samples = 12</text>\n<text text-anchor=\"start\" x=\"48.5\" y=\"-134.3\" font-family=\"Helvetica,sans-Serif\" font-size=\"14.00\" fill=\"#000000\">value = [12, 0]</text>\n<text text-anchor=\"start\" x=\"65\" y=\"-119.3\" font-family=\"Helvetica,sans-Serif\" font-size=\"14.00\" fill=\"#000000\">class = 0</text>\n</g>\n<!-- 4&#45;&gt;5 -->\n<g id=\"edge5\" class=\"edge\">\n<title>4&#45;&gt;5</title>\n<path fill=\"none\" stroke=\"#000000\" d=\"M162.9263,-222.8796C152.7397,-211.4436 141.6878,-199.0363 131.4785,-187.575\"/>\n<polygon fill=\"#000000\" stroke=\"#000000\" points=\"133.8312,-184.9541 124.5662,-179.8149 128.6042,-189.6101 133.8312,-184.9541\"/>\n</g>\n<!-- 6 -->\n<g id=\"node7\" class=\"node\">\n<title>6</title>\n<path fill=\"transparent\" stroke=\"#000000\" d=\"M252.5,-179.5C252.5,-179.5 177.5,-179.5 177.5,-179.5 171.5,-179.5 165.5,-173.5 165.5,-167.5 165.5,-167.5 165.5,-123.5 165.5,-123.5 165.5,-117.5 171.5,-111.5 177.5,-111.5 177.5,-111.5 252.5,-111.5 252.5,-111.5 258.5,-111.5 264.5,-117.5 264.5,-123.5 264.5,-123.5 264.5,-167.5 264.5,-167.5 264.5,-173.5 258.5,-179.5 252.5,-179.5\"/>\n<text text-anchor=\"start\" x=\"185.5\" y=\"-164.3\" font-family=\"Helvetica,sans-Serif\" font-size=\"14.00\" fill=\"#000000\">gini = 0.5</text>\n<text text-anchor=\"start\" x=\"175.5\" y=\"-149.3\" font-family=\"Helvetica,sans-Serif\" font-size=\"14.00\" fill=\"#000000\">samples = 6</text>\n<text text-anchor=\"start\" x=\"173.5\" y=\"-134.3\" font-family=\"Helvetica,sans-Serif\" font-size=\"14.00\" fill=\"#000000\">value = [3, 3]</text>\n<text text-anchor=\"start\" x=\"186\" y=\"-119.3\" font-family=\"Helvetica,sans-Serif\" font-size=\"14.00\" fill=\"#000000\">class = 0</text>\n</g>\n<!-- 4&#45;&gt;6 -->\n<g id=\"edge6\" class=\"edge\">\n<title>4&#45;&gt;6</title>\n<path fill=\"none\" stroke=\"#000000\" d=\"M205.2463,-222.8796C206.5908,-212.2134 208.0418,-200.7021 209.4032,-189.9015\"/>\n<polygon fill=\"#000000\" stroke=\"#000000\" points=\"212.8964,-190.1742 210.6746,-179.8149 205.9514,-189.2987 212.8964,-190.1742\"/>\n</g>\n<!-- 8 -->\n<g id=\"node9\" class=\"node\">\n<title>8</title>\n<path fill=\"#399de5\" stroke=\"#000000\" d=\"M371.5,-298.5C371.5,-298.5 296.5,-298.5 296.5,-298.5 290.5,-298.5 284.5,-292.5 284.5,-286.5 284.5,-286.5 284.5,-242.5 284.5,-242.5 284.5,-236.5 290.5,-230.5 296.5,-230.5 296.5,-230.5 371.5,-230.5 371.5,-230.5 377.5,-230.5 383.5,-236.5 383.5,-242.5 383.5,-242.5 383.5,-286.5 383.5,-286.5 383.5,-292.5 377.5,-298.5 371.5,-298.5\"/>\n<text text-anchor=\"start\" x=\"304.5\" y=\"-283.3\" font-family=\"Helvetica,sans-Serif\" font-size=\"14.00\" fill=\"#000000\">gini = 0.0</text>\n<text text-anchor=\"start\" x=\"294.5\" y=\"-268.3\" font-family=\"Helvetica,sans-Serif\" font-size=\"14.00\" fill=\"#000000\">samples = 4</text>\n<text text-anchor=\"start\" x=\"292.5\" y=\"-253.3\" font-family=\"Helvetica,sans-Serif\" font-size=\"14.00\" fill=\"#000000\">value = [0, 4]</text>\n<text text-anchor=\"start\" x=\"305\" y=\"-238.3\" font-family=\"Helvetica,sans-Serif\" font-size=\"14.00\" fill=\"#000000\">class = 1</text>\n</g>\n<!-- 7&#45;&gt;8 -->\n<g id=\"edge8\" class=\"edge\">\n<title>7&#45;&gt;8</title>\n<path fill=\"none\" stroke=\"#000000\" d=\"M379.5174,-341.8796C372.9844,-330.7735 365.9125,-318.7513 359.3348,-307.5691\"/>\n<polygon fill=\"#000000\" stroke=\"#000000\" points=\"362.2723,-305.6597 354.1853,-298.8149 356.2387,-309.2089 362.2723,-305.6597\"/>\n</g>\n<!-- 9 -->\n<g id=\"node10\" class=\"node\">\n<title>9</title>\n<path fill=\"#e58139\" fill-opacity=\"0.890196\" stroke=\"#000000\" d=\"M514,-306C514,-306 414,-306 414,-306 408,-306 402,-300 402,-294 402,-294 402,-235 402,-235 402,-229 408,-223 414,-223 414,-223 514,-223 514,-223 520,-223 526,-229 526,-235 526,-235 526,-294 526,-294 526,-300 520,-306 514,-306\"/>\n<text text-anchor=\"start\" x=\"410\" y=\"-290.8\" font-family=\"Helvetica,sans-Serif\" font-size=\"14.00\" fill=\"#000000\">look_dem ≤ 0.08</text>\n<text text-anchor=\"start\" x=\"430.5\" y=\"-275.8\" font-family=\"Helvetica,sans-Serif\" font-size=\"14.00\" fill=\"#000000\">gini = 0.18</text>\n<text text-anchor=\"start\" x=\"420\" y=\"-260.8\" font-family=\"Helvetica,sans-Serif\" font-size=\"14.00\" fill=\"#000000\">samples = 10</text>\n<text text-anchor=\"start\" x=\"422.5\" y=\"-245.8\" font-family=\"Helvetica,sans-Serif\" font-size=\"14.00\" fill=\"#000000\">value = [9, 1]</text>\n<text text-anchor=\"start\" x=\"435\" y=\"-230.8\" font-family=\"Helvetica,sans-Serif\" font-size=\"14.00\" fill=\"#000000\">class = 0</text>\n</g>\n<!-- 7&#45;&gt;9 -->\n<g id=\"edge9\" class=\"edge\">\n<title>7&#45;&gt;9</title>\n<path fill=\"none\" stroke=\"#000000\" d=\"M424.9851,-341.8796C429.299,-333.3236 433.8872,-324.2238 438.3446,-315.3833\"/>\n<polygon fill=\"#000000\" stroke=\"#000000\" points=\"441.5484,-316.8031 442.9253,-306.2981 435.2979,-313.6515 441.5484,-316.8031\"/>\n</g>\n<!-- 10 -->\n<g id=\"node11\" class=\"node\">\n<title>10</title>\n<path fill=\"#e58139\" stroke=\"#000000\" d=\"M384.5,-179.5C384.5,-179.5 309.5,-179.5 309.5,-179.5 303.5,-179.5 297.5,-173.5 297.5,-167.5 297.5,-167.5 297.5,-123.5 297.5,-123.5 297.5,-117.5 303.5,-111.5 309.5,-111.5 309.5,-111.5 384.5,-111.5 384.5,-111.5 390.5,-111.5 396.5,-117.5 396.5,-123.5 396.5,-123.5 396.5,-167.5 396.5,-167.5 396.5,-173.5 390.5,-179.5 384.5,-179.5\"/>\n<text text-anchor=\"start\" x=\"317.5\" y=\"-164.3\" font-family=\"Helvetica,sans-Serif\" font-size=\"14.00\" fill=\"#000000\">gini = 0.0</text>\n<text text-anchor=\"start\" x=\"307.5\" y=\"-149.3\" font-family=\"Helvetica,sans-Serif\" font-size=\"14.00\" fill=\"#000000\">samples = 6</text>\n<text text-anchor=\"start\" x=\"305.5\" y=\"-134.3\" font-family=\"Helvetica,sans-Serif\" font-size=\"14.00\" fill=\"#000000\">value = [6, 0]</text>\n<text text-anchor=\"start\" x=\"318\" y=\"-119.3\" font-family=\"Helvetica,sans-Serif\" font-size=\"14.00\" fill=\"#000000\">class = 0</text>\n</g>\n<!-- 9&#45;&gt;10 -->\n<g id=\"edge10\" class=\"edge\">\n<title>9&#45;&gt;10</title>\n<path fill=\"none\" stroke=\"#000000\" d=\"M423.0791,-222.8796C411.7272,-211.3337 399.4018,-198.7976 388.043,-187.2446\"/>\n<polygon fill=\"#000000\" stroke=\"#000000\" points=\"390.2449,-184.4919 380.7382,-179.8149 385.2534,-189.3995 390.2449,-184.4919\"/>\n</g>\n<!-- 11 -->\n<g id=\"node12\" class=\"node\">\n<title>11</title>\n<path fill=\"#e58139\" fill-opacity=\"0.666667\" stroke=\"#000000\" d=\"M501.5,-179.5C501.5,-179.5 426.5,-179.5 426.5,-179.5 420.5,-179.5 414.5,-173.5 414.5,-167.5 414.5,-167.5 414.5,-123.5 414.5,-123.5 414.5,-117.5 420.5,-111.5 426.5,-111.5 426.5,-111.5 501.5,-111.5 501.5,-111.5 507.5,-111.5 513.5,-117.5 513.5,-123.5 513.5,-123.5 513.5,-167.5 513.5,-167.5 513.5,-173.5 507.5,-179.5 501.5,-179.5\"/>\n<text text-anchor=\"start\" x=\"426\" y=\"-164.3\" font-family=\"Helvetica,sans-Serif\" font-size=\"14.00\" fill=\"#000000\">gini = 0.375</text>\n<text text-anchor=\"start\" x=\"424.5\" y=\"-149.3\" font-family=\"Helvetica,sans-Serif\" font-size=\"14.00\" fill=\"#000000\">samples = 4</text>\n<text text-anchor=\"start\" x=\"422.5\" y=\"-134.3\" font-family=\"Helvetica,sans-Serif\" font-size=\"14.00\" fill=\"#000000\">value = [3, 1]</text>\n<text text-anchor=\"start\" x=\"435\" y=\"-119.3\" font-family=\"Helvetica,sans-Serif\" font-size=\"14.00\" fill=\"#000000\">class = 0</text>\n</g>\n<!-- 9&#45;&gt;11 -->\n<g id=\"edge11\" class=\"edge\">\n<title>9&#45;&gt;11</title>\n<path fill=\"none\" stroke=\"#000000\" d=\"M464,-222.8796C464,-212.2134 464,-200.7021 464,-189.9015\"/>\n<polygon fill=\"#000000\" stroke=\"#000000\" points=\"467.5001,-189.8149 464,-179.8149 460.5001,-189.815 467.5001,-189.8149\"/>\n</g>\n<!-- 13 -->\n<g id=\"node14\" class=\"node\">\n<title>13</title>\n<path fill=\"transparent\" stroke=\"#000000\" d=\"M806,-425C806,-425 706,-425 706,-425 700,-425 694,-419 694,-413 694,-413 694,-354 694,-354 694,-348 700,-342 706,-342 706,-342 806,-342 806,-342 812,-342 818,-348 818,-354 818,-354 818,-413 818,-413 818,-419 812,-425 806,-425\"/>\n<text text-anchor=\"start\" x=\"702\" y=\"-409.8\" font-family=\"Helvetica,sans-Serif\" font-size=\"14.00\" fill=\"#000000\">look_dem ≤ 0.05</text>\n<text text-anchor=\"start\" x=\"726.5\" y=\"-394.8\" font-family=\"Helvetica,sans-Serif\" font-size=\"14.00\" fill=\"#000000\">gini = 0.5</text>\n<text text-anchor=\"start\" x=\"712\" y=\"-379.8\" font-family=\"Helvetica,sans-Serif\" font-size=\"14.00\" fill=\"#000000\">samples = 18</text>\n<text text-anchor=\"start\" x=\"714.5\" y=\"-364.8\" font-family=\"Helvetica,sans-Serif\" font-size=\"14.00\" fill=\"#000000\">value = [9, 9]</text>\n<text text-anchor=\"start\" x=\"727\" y=\"-349.8\" font-family=\"Helvetica,sans-Serif\" font-size=\"14.00\" fill=\"#000000\">class = 0</text>\n</g>\n<!-- 12&#45;&gt;13 -->\n<g id=\"edge13\" class=\"edge\">\n<title>12&#45;&gt;13</title>\n<path fill=\"none\" stroke=\"#000000\" d=\"M756,-460.8796C756,-452.6838 756,-443.9891 756,-435.5013\"/>\n<polygon fill=\"#000000\" stroke=\"#000000\" points=\"759.5001,-435.298 756,-425.2981 752.5001,-435.2981 759.5001,-435.298\"/>\n</g>\n<!-- 20 -->\n<g id=\"node21\" class=\"node\">\n<title>20</title>\n<path fill=\"#399de5\" fill-opacity=\"0.933333\" stroke=\"#000000\" d=\"M1181,-425C1181,-425 1077,-425 1077,-425 1071,-425 1065,-419 1065,-413 1065,-413 1065,-354 1065,-354 1065,-348 1071,-342 1077,-342 1077,-342 1181,-342 1181,-342 1187,-342 1193,-348 1193,-354 1193,-354 1193,-413 1193,-413 1193,-419 1187,-425 1181,-425\"/>\n<text text-anchor=\"start\" x=\"1073\" y=\"-409.8\" font-family=\"Helvetica,sans-Serif\" font-size=\"14.00\" fill=\"#000000\">river_dens ≤ 0.13</text>\n<text text-anchor=\"start\" x=\"1091\" y=\"-394.8\" font-family=\"Helvetica,sans-Serif\" font-size=\"14.00\" fill=\"#000000\">gini = 0.118</text>\n<text text-anchor=\"start\" x=\"1081\" y=\"-379.8\" font-family=\"Helvetica,sans-Serif\" font-size=\"14.00\" fill=\"#000000\">samples = 143</text>\n<text text-anchor=\"start\" x=\"1079\" y=\"-364.8\" font-family=\"Helvetica,sans-Serif\" font-size=\"14.00\" fill=\"#000000\">value = [9, 134]</text>\n<text text-anchor=\"start\" x=\"1100\" y=\"-349.8\" font-family=\"Helvetica,sans-Serif\" font-size=\"14.00\" fill=\"#000000\">class = 1</text>\n</g>\n<!-- 12&#45;&gt;20 -->\n<g id=\"edge20\" class=\"edge\">\n<title>12&#45;&gt;20</title>\n<path fill=\"none\" stroke=\"#000000\" d=\"M824.8486,-480.5349C890.2551,-459.668 988.292,-428.3908 1055.2655,-407.0239\"/>\n<polygon fill=\"#000000\" stroke=\"#000000\" points=\"1056.4507,-410.3196 1064.9138,-403.9457 1054.3231,-403.6508 1056.4507,-410.3196\"/>\n</g>\n<!-- 14 -->\n<g id=\"node15\" class=\"node\">\n<title>14</title>\n<path fill=\"#e58139\" fill-opacity=\"0.858824\" stroke=\"#000000\" d=\"M738.5,-306C738.5,-306 631.5,-306 631.5,-306 625.5,-306 619.5,-300 619.5,-294 619.5,-294 619.5,-235 619.5,-235 619.5,-229 625.5,-223 631.5,-223 631.5,-223 738.5,-223 738.5,-223 744.5,-223 750.5,-229 750.5,-235 750.5,-235 750.5,-294 750.5,-294 750.5,-300 744.5,-306 738.5,-306\"/>\n<text text-anchor=\"start\" x=\"627.5\" y=\"-290.8\" font-family=\"Helvetica,sans-Serif\" font-size=\"14.00\" fill=\"#000000\">look_plan ≤ 0.445</text>\n<text text-anchor=\"start\" x=\"647\" y=\"-275.8\" font-family=\"Helvetica,sans-Serif\" font-size=\"14.00\" fill=\"#000000\">gini = 0.219</text>\n<text text-anchor=\"start\" x=\"645.5\" y=\"-260.8\" font-family=\"Helvetica,sans-Serif\" font-size=\"14.00\" fill=\"#000000\">samples = 8</text>\n<text text-anchor=\"start\" x=\"643.5\" y=\"-245.8\" font-family=\"Helvetica,sans-Serif\" font-size=\"14.00\" fill=\"#000000\">value = [7, 1]</text>\n<text text-anchor=\"start\" x=\"656\" y=\"-230.8\" font-family=\"Helvetica,sans-Serif\" font-size=\"14.00\" fill=\"#000000\">class = 0</text>\n</g>\n<!-- 13&#45;&gt;14 -->\n<g id=\"edge14\" class=\"edge\">\n<title>13&#45;&gt;14</title>\n<path fill=\"none\" stroke=\"#000000\" d=\"M731.1676,-341.8796C726.0091,-333.2335 720.5192,-324.0322 715.1924,-315.1042\"/>\n<polygon fill=\"#000000\" stroke=\"#000000\" points=\"718.0678,-313.0924 709.9383,-306.2981 712.0564,-316.679 718.0678,-313.0924\"/>\n</g>\n<!-- 17 -->\n<g id=\"node18\" class=\"node\">\n<title>17</title>\n<path fill=\"#399de5\" fill-opacity=\"0.749020\" stroke=\"#000000\" d=\"M875.5,-306C875.5,-306 780.5,-306 780.5,-306 774.5,-306 768.5,-300 768.5,-294 768.5,-294 768.5,-235 768.5,-235 768.5,-229 774.5,-223 780.5,-223 780.5,-223 875.5,-223 875.5,-223 881.5,-223 887.5,-229 887.5,-235 887.5,-235 887.5,-294 887.5,-294 887.5,-300 881.5,-306 875.5,-306\"/>\n<text text-anchor=\"start\" x=\"776.5\" y=\"-290.8\" font-family=\"Helvetica,sans-Serif\" font-size=\"14.00\" fill=\"#000000\">look_rain ≤ 0.29</text>\n<text text-anchor=\"start\" x=\"794.5\" y=\"-275.8\" font-family=\"Helvetica,sans-Serif\" font-size=\"14.00\" fill=\"#000000\">gini = 0.32</text>\n<text text-anchor=\"start\" x=\"784\" y=\"-260.8\" font-family=\"Helvetica,sans-Serif\" font-size=\"14.00\" fill=\"#000000\">samples = 10</text>\n<text text-anchor=\"start\" x=\"786.5\" y=\"-245.8\" font-family=\"Helvetica,sans-Serif\" font-size=\"14.00\" fill=\"#000000\">value = [2, 8]</text>\n<text text-anchor=\"start\" x=\"799\" y=\"-230.8\" font-family=\"Helvetica,sans-Serif\" font-size=\"14.00\" fill=\"#000000\">class = 1</text>\n</g>\n<!-- 13&#45;&gt;17 -->\n<g id=\"edge17\" class=\"edge\">\n<title>13&#45;&gt;17</title>\n<path fill=\"none\" stroke=\"#000000\" d=\"M781.1821,-341.8796C786.4133,-333.2335 791.9805,-324.0322 797.3823,-315.1042\"/>\n<polygon fill=\"#000000\" stroke=\"#000000\" points=\"800.5283,-316.6658 802.7104,-306.2981 794.5392,-313.0421 800.5283,-316.6658\"/>\n</g>\n<!-- 15 -->\n<g id=\"node16\" class=\"node\">\n<title>15</title>\n<path fill=\"#e58139\" fill-opacity=\"0.666667\" stroke=\"#000000\" d=\"M618.5,-179.5C618.5,-179.5 543.5,-179.5 543.5,-179.5 537.5,-179.5 531.5,-173.5 531.5,-167.5 531.5,-167.5 531.5,-123.5 531.5,-123.5 531.5,-117.5 537.5,-111.5 543.5,-111.5 543.5,-111.5 618.5,-111.5 618.5,-111.5 624.5,-111.5 630.5,-117.5 630.5,-123.5 630.5,-123.5 630.5,-167.5 630.5,-167.5 630.5,-173.5 624.5,-179.5 618.5,-179.5\"/>\n<text text-anchor=\"start\" x=\"543\" y=\"-164.3\" font-family=\"Helvetica,sans-Serif\" font-size=\"14.00\" fill=\"#000000\">gini = 0.375</text>\n<text text-anchor=\"start\" x=\"541.5\" y=\"-149.3\" font-family=\"Helvetica,sans-Serif\" font-size=\"14.00\" fill=\"#000000\">samples = 4</text>\n<text text-anchor=\"start\" x=\"539.5\" y=\"-134.3\" font-family=\"Helvetica,sans-Serif\" font-size=\"14.00\" fill=\"#000000\">value = [3, 1]</text>\n<text text-anchor=\"start\" x=\"552\" y=\"-119.3\" font-family=\"Helvetica,sans-Serif\" font-size=\"14.00\" fill=\"#000000\">class = 0</text>\n</g>\n<!-- 14&#45;&gt;15 -->\n<g id=\"edge15\" class=\"edge\">\n<title>14&#45;&gt;15</title>\n<path fill=\"none\" stroke=\"#000000\" d=\"M648.6258,-222.8796C638.6314,-211.4436 627.788,-199.0363 617.7714,-187.575\"/>\n<polygon fill=\"#000000\" stroke=\"#000000\" points=\"620.2055,-185.0414 610.9895,-179.8149 614.9347,-189.6479 620.2055,-185.0414\"/>\n</g>\n<!-- 16 -->\n<g id=\"node17\" class=\"node\">\n<title>16</title>\n<path fill=\"#e58139\" stroke=\"#000000\" d=\"M735.5,-179.5C735.5,-179.5 660.5,-179.5 660.5,-179.5 654.5,-179.5 648.5,-173.5 648.5,-167.5 648.5,-167.5 648.5,-123.5 648.5,-123.5 648.5,-117.5 654.5,-111.5 660.5,-111.5 660.5,-111.5 735.5,-111.5 735.5,-111.5 741.5,-111.5 747.5,-117.5 747.5,-123.5 747.5,-123.5 747.5,-167.5 747.5,-167.5 747.5,-173.5 741.5,-179.5 735.5,-179.5\"/>\n<text text-anchor=\"start\" x=\"668.5\" y=\"-164.3\" font-family=\"Helvetica,sans-Serif\" font-size=\"14.00\" fill=\"#000000\">gini = 0.0</text>\n<text text-anchor=\"start\" x=\"658.5\" y=\"-149.3\" font-family=\"Helvetica,sans-Serif\" font-size=\"14.00\" fill=\"#000000\">samples = 4</text>\n<text text-anchor=\"start\" x=\"656.5\" y=\"-134.3\" font-family=\"Helvetica,sans-Serif\" font-size=\"14.00\" fill=\"#000000\">value = [4, 0]</text>\n<text text-anchor=\"start\" x=\"669\" y=\"-119.3\" font-family=\"Helvetica,sans-Serif\" font-size=\"14.00\" fill=\"#000000\">class = 0</text>\n</g>\n<!-- 14&#45;&gt;16 -->\n<g id=\"edge16\" class=\"edge\">\n<title>14&#45;&gt;16</title>\n<path fill=\"none\" stroke=\"#000000\" d=\"M689.5468,-222.8796C690.712,-212.2134 691.9695,-200.7021 693.1494,-189.9015\"/>\n<polygon fill=\"#000000\" stroke=\"#000000\" points=\"696.6445,-190.1359 694.2513,-179.8149 689.6859,-189.3757 696.6445,-190.1359\"/>\n</g>\n<!-- 18 -->\n<g id=\"node19\" class=\"node\">\n<title>18</title>\n<path fill=\"#399de5\" stroke=\"#000000\" d=\"M852.5,-179.5C852.5,-179.5 777.5,-179.5 777.5,-179.5 771.5,-179.5 765.5,-173.5 765.5,-167.5 765.5,-167.5 765.5,-123.5 765.5,-123.5 765.5,-117.5 771.5,-111.5 777.5,-111.5 777.5,-111.5 852.5,-111.5 852.5,-111.5 858.5,-111.5 864.5,-117.5 864.5,-123.5 864.5,-123.5 864.5,-167.5 864.5,-167.5 864.5,-173.5 858.5,-179.5 852.5,-179.5\"/>\n<text text-anchor=\"start\" x=\"785.5\" y=\"-164.3\" font-family=\"Helvetica,sans-Serif\" font-size=\"14.00\" fill=\"#000000\">gini = 0.0</text>\n<text text-anchor=\"start\" x=\"775.5\" y=\"-149.3\" font-family=\"Helvetica,sans-Serif\" font-size=\"14.00\" fill=\"#000000\">samples = 5</text>\n<text text-anchor=\"start\" x=\"773.5\" y=\"-134.3\" font-family=\"Helvetica,sans-Serif\" font-size=\"14.00\" fill=\"#000000\">value = [0, 5]</text>\n<text text-anchor=\"start\" x=\"786\" y=\"-119.3\" font-family=\"Helvetica,sans-Serif\" font-size=\"14.00\" fill=\"#000000\">class = 1</text>\n</g>\n<!-- 17&#45;&gt;18 -->\n<g id=\"edge18\" class=\"edge\">\n<title>17&#45;&gt;18</title>\n<path fill=\"none\" stroke=\"#000000\" d=\"M823.4532,-222.8796C822.288,-212.2134 821.0305,-200.7021 819.8506,-189.9015\"/>\n<polygon fill=\"#000000\" stroke=\"#000000\" points=\"823.3141,-189.3757 818.7487,-179.8149 816.3555,-190.1359 823.3141,-189.3757\"/>\n</g>\n<!-- 19 -->\n<g id=\"node20\" class=\"node\">\n<title>19</title>\n<path fill=\"#399de5\" fill-opacity=\"0.333333\" stroke=\"#000000\" d=\"M969.5,-179.5C969.5,-179.5 894.5,-179.5 894.5,-179.5 888.5,-179.5 882.5,-173.5 882.5,-167.5 882.5,-167.5 882.5,-123.5 882.5,-123.5 882.5,-117.5 888.5,-111.5 894.5,-111.5 894.5,-111.5 969.5,-111.5 969.5,-111.5 975.5,-111.5 981.5,-117.5 981.5,-123.5 981.5,-123.5 981.5,-167.5 981.5,-167.5 981.5,-173.5 975.5,-179.5 969.5,-179.5\"/>\n<text text-anchor=\"start\" x=\"898.5\" y=\"-164.3\" font-family=\"Helvetica,sans-Serif\" font-size=\"14.00\" fill=\"#000000\">gini = 0.48</text>\n<text text-anchor=\"start\" x=\"892.5\" y=\"-149.3\" font-family=\"Helvetica,sans-Serif\" font-size=\"14.00\" fill=\"#000000\">samples = 5</text>\n<text text-anchor=\"start\" x=\"890.5\" y=\"-134.3\" font-family=\"Helvetica,sans-Serif\" font-size=\"14.00\" fill=\"#000000\">value = [2, 3]</text>\n<text text-anchor=\"start\" x=\"903\" y=\"-119.3\" font-family=\"Helvetica,sans-Serif\" font-size=\"14.00\" fill=\"#000000\">class = 1</text>\n</g>\n<!-- 17&#45;&gt;19 -->\n<g id=\"edge19\" class=\"edge\">\n<title>17&#45;&gt;19</title>\n<path fill=\"none\" stroke=\"#000000\" d=\"M864.3742,-222.8796C874.3686,-211.4436 885.212,-199.0363 895.2286,-187.575\"/>\n<polygon fill=\"#000000\" stroke=\"#000000\" points=\"898.0653,-189.6479 902.0105,-179.8149 892.7945,-185.0414 898.0653,-189.6479\"/>\n</g>\n<!-- 21 -->\n<g id=\"node22\" class=\"node\">\n<title>21</title>\n<path fill=\"#399de5\" fill-opacity=\"0.827451\" stroke=\"#000000\" d=\"M1178.5,-306C1178.5,-306 1079.5,-306 1079.5,-306 1073.5,-306 1067.5,-300 1067.5,-294 1067.5,-294 1067.5,-235 1067.5,-235 1067.5,-229 1073.5,-223 1079.5,-223 1079.5,-223 1178.5,-223 1178.5,-223 1184.5,-223 1190.5,-229 1190.5,-235 1190.5,-235 1190.5,-294 1190.5,-294 1190.5,-300 1184.5,-306 1178.5,-306\"/>\n<text text-anchor=\"start\" x=\"1075.5\" y=\"-290.8\" font-family=\"Helvetica,sans-Serif\" font-size=\"14.00\" fill=\"#000000\">look_river ≤ 0.17</text>\n<text text-anchor=\"start\" x=\"1091\" y=\"-275.8\" font-family=\"Helvetica,sans-Serif\" font-size=\"14.00\" fill=\"#000000\">gini = 0.252</text>\n<text text-anchor=\"start\" x=\"1085\" y=\"-260.8\" font-family=\"Helvetica,sans-Serif\" font-size=\"14.00\" fill=\"#000000\">samples = 54</text>\n<text text-anchor=\"start\" x=\"1083.5\" y=\"-245.8\" font-family=\"Helvetica,sans-Serif\" font-size=\"14.00\" fill=\"#000000\">value = [8, 46]</text>\n<text text-anchor=\"start\" x=\"1100\" y=\"-230.8\" font-family=\"Helvetica,sans-Serif\" font-size=\"14.00\" fill=\"#000000\">class = 1</text>\n</g>\n<!-- 20&#45;&gt;21 -->\n<g id=\"edge21\" class=\"edge\">\n<title>20&#45;&gt;21</title>\n<path fill=\"none\" stroke=\"#000000\" d=\"M1129,-341.8796C1129,-333.6838 1129,-324.9891 1129,-316.5013\"/>\n<polygon fill=\"#000000\" stroke=\"#000000\" points=\"1132.5001,-316.298 1129,-306.2981 1125.5001,-316.2981 1132.5001,-316.298\"/>\n</g>\n<!-- 28 -->\n<g id=\"node29\" class=\"node\">\n<title>28</title>\n<path fill=\"#399de5\" fill-opacity=\"0.988235\" stroke=\"#000000\" d=\"M1393.5,-306C1393.5,-306 1286.5,-306 1286.5,-306 1280.5,-306 1274.5,-300 1274.5,-294 1274.5,-294 1274.5,-235 1274.5,-235 1274.5,-229 1280.5,-223 1286.5,-223 1286.5,-223 1393.5,-223 1393.5,-223 1399.5,-223 1405.5,-229 1405.5,-235 1405.5,-235 1405.5,-294 1405.5,-294 1405.5,-300 1399.5,-306 1393.5,-306\"/>\n<text text-anchor=\"start\" x=\"1282.5\" y=\"-290.8\" font-family=\"Helvetica,sans-Serif\" font-size=\"14.00\" fill=\"#000000\">look_geolo ≤ 0.18</text>\n<text text-anchor=\"start\" x=\"1302\" y=\"-275.8\" font-family=\"Helvetica,sans-Serif\" font-size=\"14.00\" fill=\"#000000\">gini = 0.022</text>\n<text text-anchor=\"start\" x=\"1296\" y=\"-260.8\" font-family=\"Helvetica,sans-Serif\" font-size=\"14.00\" fill=\"#000000\">samples = 89</text>\n<text text-anchor=\"start\" x=\"1294.5\" y=\"-245.8\" font-family=\"Helvetica,sans-Serif\" font-size=\"14.00\" fill=\"#000000\">value = [1, 88]</text>\n<text text-anchor=\"start\" x=\"1311\" y=\"-230.8\" font-family=\"Helvetica,sans-Serif\" font-size=\"14.00\" fill=\"#000000\">class = 1</text>\n</g>\n<!-- 20&#45;&gt;28 -->\n<g id=\"edge28\" class=\"edge\">\n<title>20&#45;&gt;28</title>\n<path fill=\"none\" stroke=\"#000000\" d=\"M1193.1664,-347.3114C1215.9585,-334.4571 1241.8078,-319.8785 1265.397,-306.5747\"/>\n<polygon fill=\"#000000\" stroke=\"#000000\" points=\"1267.3251,-309.5056 1274.316,-301.5445 1263.8864,-303.4084 1267.3251,-309.5056\"/>\n</g>\n<!-- 22 -->\n<g id=\"node23\" class=\"node\">\n<title>22</title>\n<path fill=\"#399de5\" fill-opacity=\"0.333333\" stroke=\"#000000\" d=\"M1116,-187C1116,-187 1012,-187 1012,-187 1006,-187 1000,-181 1000,-175 1000,-175 1000,-116 1000,-116 1000,-110 1006,-104 1012,-104 1012,-104 1116,-104 1116,-104 1122,-104 1128,-110 1128,-116 1128,-116 1128,-175 1128,-175 1128,-181 1122,-187 1116,-187\"/>\n<text text-anchor=\"start\" x=\"1008\" y=\"-171.8\" font-family=\"Helvetica,sans-Serif\" font-size=\"14.00\" fill=\"#000000\">look_rain ≤ 0.125</text>\n<text text-anchor=\"start\" x=\"1030.5\" y=\"-156.8\" font-family=\"Helvetica,sans-Serif\" font-size=\"14.00\" fill=\"#000000\">gini = 0.48</text>\n<text text-anchor=\"start\" x=\"1020\" y=\"-141.8\" font-family=\"Helvetica,sans-Serif\" font-size=\"14.00\" fill=\"#000000\">samples = 10</text>\n<text text-anchor=\"start\" x=\"1022.5\" y=\"-126.8\" font-family=\"Helvetica,sans-Serif\" font-size=\"14.00\" fill=\"#000000\">value = [4, 6]</text>\n<text text-anchor=\"start\" x=\"1035\" y=\"-111.8\" font-family=\"Helvetica,sans-Serif\" font-size=\"14.00\" fill=\"#000000\">class = 1</text>\n</g>\n<!-- 21&#45;&gt;22 -->\n<g id=\"edge22\" class=\"edge\">\n<title>21&#45;&gt;22</title>\n<path fill=\"none\" stroke=\"#000000\" d=\"M1106.2662,-222.8796C1101.5435,-214.2335 1096.5176,-205.0322 1091.641,-196.1042\"/>\n<polygon fill=\"#000000\" stroke=\"#000000\" points=\"1094.6963,-194.3964 1086.8309,-187.2981 1088.553,-197.752 1094.6963,-194.3964\"/>\n</g>\n<!-- 25 -->\n<g id=\"node26\" class=\"node\">\n<title>25</title>\n<path fill=\"#399de5\" fill-opacity=\"0.901961\" stroke=\"#000000\" d=\"M1256,-187C1256,-187 1158,-187 1158,-187 1152,-187 1146,-181 1146,-175 1146,-175 1146,-116 1146,-116 1146,-110 1152,-104 1158,-104 1158,-104 1256,-104 1256,-104 1262,-104 1268,-110 1268,-116 1268,-116 1268,-175 1268,-175 1268,-181 1262,-187 1256,-187\"/>\n<text text-anchor=\"start\" x=\"1154\" y=\"-171.8\" font-family=\"Helvetica,sans-Serif\" font-size=\"14.00\" fill=\"#000000\">look_spi ≤ 0.305</text>\n<text text-anchor=\"start\" x=\"1169\" y=\"-156.8\" font-family=\"Helvetica,sans-Serif\" font-size=\"14.00\" fill=\"#000000\">gini = 0.165</text>\n<text text-anchor=\"start\" x=\"1163\" y=\"-141.8\" font-family=\"Helvetica,sans-Serif\" font-size=\"14.00\" fill=\"#000000\">samples = 44</text>\n<text text-anchor=\"start\" x=\"1161.5\" y=\"-126.8\" font-family=\"Helvetica,sans-Serif\" font-size=\"14.00\" fill=\"#000000\">value = [4, 40]</text>\n<text text-anchor=\"start\" x=\"1178\" y=\"-111.8\" font-family=\"Helvetica,sans-Serif\" font-size=\"14.00\" fill=\"#000000\">class = 1</text>\n</g>\n<!-- 21&#45;&gt;25 -->\n<g id=\"edge25\" class=\"edge\">\n<title>21&#45;&gt;25</title>\n<path fill=\"none\" stroke=\"#000000\" d=\"M1156.2806,-222.8796C1162.0068,-214.1434 1168.1046,-204.8404 1174.0137,-195.8253\"/>\n<polygon fill=\"#000000\" stroke=\"#000000\" points=\"1177.0482,-197.5803 1179.6029,-187.2981 1171.1937,-193.7429 1177.0482,-197.5803\"/>\n</g>\n<!-- 23 -->\n<g id=\"node24\" class=\"node\">\n<title>23</title>\n<path fill=\"#399de5\" stroke=\"#000000\" d=\"M989.5,-68C989.5,-68 914.5,-68 914.5,-68 908.5,-68 902.5,-62 902.5,-56 902.5,-56 902.5,-12 902.5,-12 902.5,-6 908.5,0 914.5,0 914.5,0 989.5,0 989.5,0 995.5,0 1001.5,-6 1001.5,-12 1001.5,-12 1001.5,-56 1001.5,-56 1001.5,-62 995.5,-68 989.5,-68\"/>\n<text text-anchor=\"start\" x=\"922.5\" y=\"-52.8\" font-family=\"Helvetica,sans-Serif\" font-size=\"14.00\" fill=\"#000000\">gini = 0.0</text>\n<text text-anchor=\"start\" x=\"912.5\" y=\"-37.8\" font-family=\"Helvetica,sans-Serif\" font-size=\"14.00\" fill=\"#000000\">samples = 5</text>\n<text text-anchor=\"start\" x=\"910.5\" y=\"-22.8\" font-family=\"Helvetica,sans-Serif\" font-size=\"14.00\" fill=\"#000000\">value = [0, 5]</text>\n<text text-anchor=\"start\" x=\"923\" y=\"-7.8\" font-family=\"Helvetica,sans-Serif\" font-size=\"14.00\" fill=\"#000000\">class = 1</text>\n</g>\n<!-- 22&#45;&gt;23 -->\n<g id=\"edge23\" class=\"edge\">\n<title>22&#45;&gt;23</title>\n<path fill=\"none\" stroke=\"#000000\" d=\"M1022.2953,-103.9815C1012.9711,-94.6989 1003.0803,-84.8522 993.7541,-75.5677\"/>\n<polygon fill=\"#000000\" stroke=\"#000000\" points=\"995.9736,-72.8385 986.4173,-68.2637 991.0349,-77.7993 995.9736,-72.8385\"/>\n</g>\n<!-- 24 -->\n<g id=\"node25\" class=\"node\">\n<title>24</title>\n<path fill=\"#e58139\" fill-opacity=\"0.749020\" stroke=\"#000000\" d=\"M1106.5,-68C1106.5,-68 1031.5,-68 1031.5,-68 1025.5,-68 1019.5,-62 1019.5,-56 1019.5,-56 1019.5,-12 1019.5,-12 1019.5,-6 1025.5,0 1031.5,0 1031.5,0 1106.5,0 1106.5,0 1112.5,0 1118.5,-6 1118.5,-12 1118.5,-12 1118.5,-56 1118.5,-56 1118.5,-62 1112.5,-68 1106.5,-68\"/>\n<text text-anchor=\"start\" x=\"1035.5\" y=\"-52.8\" font-family=\"Helvetica,sans-Serif\" font-size=\"14.00\" fill=\"#000000\">gini = 0.32</text>\n<text text-anchor=\"start\" x=\"1029.5\" y=\"-37.8\" font-family=\"Helvetica,sans-Serif\" font-size=\"14.00\" fill=\"#000000\">samples = 5</text>\n<text text-anchor=\"start\" x=\"1027.5\" y=\"-22.8\" font-family=\"Helvetica,sans-Serif\" font-size=\"14.00\" fill=\"#000000\">value = [4, 1]</text>\n<text text-anchor=\"start\" x=\"1040\" y=\"-7.8\" font-family=\"Helvetica,sans-Serif\" font-size=\"14.00\" fill=\"#000000\">class = 0</text>\n</g>\n<!-- 22&#45;&gt;24 -->\n<g id=\"edge24\" class=\"edge\">\n<title>22&#45;&gt;24</title>\n<path fill=\"none\" stroke=\"#000000\" d=\"M1065.8618,-103.9815C1066.2369,-95.618 1066.6324,-86.7965 1067.0116,-78.3409\"/>\n<polygon fill=\"#000000\" stroke=\"#000000\" points=\"1070.5119,-78.4105 1067.4635,-68.2637 1063.519,-78.0968 1070.5119,-78.4105\"/>\n</g>\n<!-- 26 -->\n<g id=\"node27\" class=\"node\">\n<title>26</title>\n<path fill=\"#399de5\" fill-opacity=\"0.713725\" stroke=\"#000000\" d=\"M1242.5,-68C1242.5,-68 1159.5,-68 1159.5,-68 1153.5,-68 1147.5,-62 1147.5,-56 1147.5,-56 1147.5,-12 1147.5,-12 1147.5,-6 1153.5,0 1159.5,0 1159.5,0 1242.5,0 1242.5,0 1248.5,0 1254.5,-6 1254.5,-12 1254.5,-12 1254.5,-56 1254.5,-56 1254.5,-62 1248.5,-68 1242.5,-68\"/>\n<text text-anchor=\"start\" x=\"1163\" y=\"-52.8\" font-family=\"Helvetica,sans-Serif\" font-size=\"14.00\" fill=\"#000000\">gini = 0.346</text>\n<text text-anchor=\"start\" x=\"1157\" y=\"-37.8\" font-family=\"Helvetica,sans-Serif\" font-size=\"14.00\" fill=\"#000000\">samples = 18</text>\n<text text-anchor=\"start\" x=\"1155.5\" y=\"-22.8\" font-family=\"Helvetica,sans-Serif\" font-size=\"14.00\" fill=\"#000000\">value = [4, 14]</text>\n<text text-anchor=\"start\" x=\"1172\" y=\"-7.8\" font-family=\"Helvetica,sans-Serif\" font-size=\"14.00\" fill=\"#000000\">class = 1</text>\n</g>\n<!-- 25&#45;&gt;26 -->\n<g id=\"edge26\" class=\"edge\">\n<title>25&#45;&gt;26</title>\n<path fill=\"none\" stroke=\"#000000\" d=\"M1204.7658,-103.9815C1204.3158,-95.618 1203.8411,-86.7965 1203.3861,-78.3409\"/>\n<polygon fill=\"#000000\" stroke=\"#000000\" points=\"1206.8762,-78.0611 1202.8438,-68.2637 1199.8863,-78.4373 1206.8762,-78.0611\"/>\n</g>\n<!-- 27 -->\n<g id=\"node28\" class=\"node\">\n<title>27</title>\n<path fill=\"#399de5\" stroke=\"#000000\" d=\"M1367.5,-68C1367.5,-68 1284.5,-68 1284.5,-68 1278.5,-68 1272.5,-62 1272.5,-56 1272.5,-56 1272.5,-12 1272.5,-12 1272.5,-6 1278.5,0 1284.5,0 1284.5,0 1367.5,0 1367.5,0 1373.5,0 1379.5,-6 1379.5,-12 1379.5,-12 1379.5,-56 1379.5,-56 1379.5,-62 1373.5,-68 1367.5,-68\"/>\n<text text-anchor=\"start\" x=\"1296.5\" y=\"-52.8\" font-family=\"Helvetica,sans-Serif\" font-size=\"14.00\" fill=\"#000000\">gini = 0.0</text>\n<text text-anchor=\"start\" x=\"1282\" y=\"-37.8\" font-family=\"Helvetica,sans-Serif\" font-size=\"14.00\" fill=\"#000000\">samples = 26</text>\n<text text-anchor=\"start\" x=\"1280.5\" y=\"-22.8\" font-family=\"Helvetica,sans-Serif\" font-size=\"14.00\" fill=\"#000000\">value = [0, 26]</text>\n<text text-anchor=\"start\" x=\"1297\" y=\"-7.8\" font-family=\"Helvetica,sans-Serif\" font-size=\"14.00\" fill=\"#000000\">class = 1</text>\n</g>\n<!-- 25&#45;&gt;27 -->\n<g id=\"edge27\" class=\"edge\">\n<title>25&#45;&gt;27</title>\n<path fill=\"none\" stroke=\"#000000\" d=\"M1251.3112,-103.9815C1261.3163,-94.607 1271.9354,-84.6572 1281.9304,-75.2921\"/>\n<polygon fill=\"#000000\" stroke=\"#000000\" points=\"1284.5274,-77.6551 1289.4316,-68.2637 1279.7412,-72.547 1284.5274,-77.6551\"/>\n</g>\n<!-- 29 -->\n<g id=\"node30\" class=\"node\">\n<title>29</title>\n<path fill=\"#399de5\" stroke=\"#000000\" d=\"M1381.5,-179.5C1381.5,-179.5 1298.5,-179.5 1298.5,-179.5 1292.5,-179.5 1286.5,-173.5 1286.5,-167.5 1286.5,-167.5 1286.5,-123.5 1286.5,-123.5 1286.5,-117.5 1292.5,-111.5 1298.5,-111.5 1298.5,-111.5 1381.5,-111.5 1381.5,-111.5 1387.5,-111.5 1393.5,-117.5 1393.5,-123.5 1393.5,-123.5 1393.5,-167.5 1393.5,-167.5 1393.5,-173.5 1387.5,-179.5 1381.5,-179.5\"/>\n<text text-anchor=\"start\" x=\"1310.5\" y=\"-164.3\" font-family=\"Helvetica,sans-Serif\" font-size=\"14.00\" fill=\"#000000\">gini = 0.0</text>\n<text text-anchor=\"start\" x=\"1296\" y=\"-149.3\" font-family=\"Helvetica,sans-Serif\" font-size=\"14.00\" fill=\"#000000\">samples = 59</text>\n<text text-anchor=\"start\" x=\"1294.5\" y=\"-134.3\" font-family=\"Helvetica,sans-Serif\" font-size=\"14.00\" fill=\"#000000\">value = [0, 59]</text>\n<text text-anchor=\"start\" x=\"1311\" y=\"-119.3\" font-family=\"Helvetica,sans-Serif\" font-size=\"14.00\" fill=\"#000000\">class = 1</text>\n</g>\n<!-- 28&#45;&gt;29 -->\n<g id=\"edge29\" class=\"edge\">\n<title>28&#45;&gt;29</title>\n<path fill=\"none\" stroke=\"#000000\" d=\"M1340,-222.8796C1340,-212.2134 1340,-200.7021 1340,-189.9015\"/>\n<polygon fill=\"#000000\" stroke=\"#000000\" points=\"1343.5001,-189.8149 1340,-179.8149 1336.5001,-189.815 1343.5001,-189.8149\"/>\n</g>\n<!-- 30 -->\n<g id=\"node31\" class=\"node\">\n<title>30</title>\n<path fill=\"#399de5\" fill-opacity=\"0.964706\" stroke=\"#000000\" d=\"M1518.5,-187C1518.5,-187 1423.5,-187 1423.5,-187 1417.5,-187 1411.5,-181 1411.5,-175 1411.5,-175 1411.5,-116 1411.5,-116 1411.5,-110 1417.5,-104 1423.5,-104 1423.5,-104 1518.5,-104 1518.5,-104 1524.5,-104 1530.5,-110 1530.5,-116 1530.5,-116 1530.5,-175 1530.5,-175 1530.5,-181 1524.5,-187 1518.5,-187\"/>\n<text text-anchor=\"start\" x=\"1419.5\" y=\"-171.8\" font-family=\"Helvetica,sans-Serif\" font-size=\"14.00\" fill=\"#000000\">look_rain ≤ 0.29</text>\n<text text-anchor=\"start\" x=\"1433\" y=\"-156.8\" font-family=\"Helvetica,sans-Serif\" font-size=\"14.00\" fill=\"#000000\">gini = 0.064</text>\n<text text-anchor=\"start\" x=\"1427\" y=\"-141.8\" font-family=\"Helvetica,sans-Serif\" font-size=\"14.00\" fill=\"#000000\">samples = 30</text>\n<text text-anchor=\"start\" x=\"1425.5\" y=\"-126.8\" font-family=\"Helvetica,sans-Serif\" font-size=\"14.00\" fill=\"#000000\">value = [1, 29]</text>\n<text text-anchor=\"start\" x=\"1442\" y=\"-111.8\" font-family=\"Helvetica,sans-Serif\" font-size=\"14.00\" fill=\"#000000\">class = 1</text>\n</g>\n<!-- 28&#45;&gt;30 -->\n<g id=\"edge30\" class=\"edge\">\n<title>28&#45;&gt;30</title>\n<path fill=\"none\" stroke=\"#000000\" d=\"M1385.8174,-222.8796C1396.0294,-213.6031 1406.945,-203.6874 1417.4376,-194.1559\"/>\n<polygon fill=\"#000000\" stroke=\"#000000\" points=\"1419.9384,-196.6127 1424.987,-187.2981 1415.2316,-191.4313 1419.9384,-196.6127\"/>\n</g>\n<!-- 31 -->\n<g id=\"node32\" class=\"node\">\n<title>31</title>\n<path fill=\"#399de5\" stroke=\"#000000\" d=\"M1504.5,-68C1504.5,-68 1421.5,-68 1421.5,-68 1415.5,-68 1409.5,-62 1409.5,-56 1409.5,-56 1409.5,-12 1409.5,-12 1409.5,-6 1415.5,0 1421.5,0 1421.5,0 1504.5,0 1504.5,0 1510.5,0 1516.5,-6 1516.5,-12 1516.5,-12 1516.5,-56 1516.5,-56 1516.5,-62 1510.5,-68 1504.5,-68\"/>\n<text text-anchor=\"start\" x=\"1433.5\" y=\"-52.8\" font-family=\"Helvetica,sans-Serif\" font-size=\"14.00\" fill=\"#000000\">gini = 0.0</text>\n<text text-anchor=\"start\" x=\"1419\" y=\"-37.8\" font-family=\"Helvetica,sans-Serif\" font-size=\"14.00\" fill=\"#000000\">samples = 22</text>\n<text text-anchor=\"start\" x=\"1417.5\" y=\"-22.8\" font-family=\"Helvetica,sans-Serif\" font-size=\"14.00\" fill=\"#000000\">value = [0, 22]</text>\n<text text-anchor=\"start\" x=\"1434\" y=\"-7.8\" font-family=\"Helvetica,sans-Serif\" font-size=\"14.00\" fill=\"#000000\">class = 1</text>\n</g>\n<!-- 30&#45;&gt;31 -->\n<g id=\"edge31\" class=\"edge\">\n<title>30&#45;&gt;31</title>\n<path fill=\"none\" stroke=\"#000000\" d=\"M1468.0211,-103.9815C1467.421,-95.618 1466.7881,-86.7965 1466.1814,-78.3409\"/>\n<polygon fill=\"#000000\" stroke=\"#000000\" points=\"1469.6651,-77.9875 1465.4584,-68.2637 1462.6831,-78.4885 1469.6651,-77.9875\"/>\n</g>\n<!-- 32 -->\n<g id=\"node33\" class=\"node\">\n<title>32</title>\n<path fill=\"#399de5\" fill-opacity=\"0.858824\" stroke=\"#000000\" d=\"M1621.5,-68C1621.5,-68 1546.5,-68 1546.5,-68 1540.5,-68 1534.5,-62 1534.5,-56 1534.5,-56 1534.5,-12 1534.5,-12 1534.5,-6 1540.5,0 1546.5,0 1546.5,0 1621.5,0 1621.5,0 1627.5,0 1633.5,-6 1633.5,-12 1633.5,-12 1633.5,-56 1633.5,-56 1633.5,-62 1627.5,-68 1621.5,-68\"/>\n<text text-anchor=\"start\" x=\"1546\" y=\"-52.8\" font-family=\"Helvetica,sans-Serif\" font-size=\"14.00\" fill=\"#000000\">gini = 0.219</text>\n<text text-anchor=\"start\" x=\"1544.5\" y=\"-37.8\" font-family=\"Helvetica,sans-Serif\" font-size=\"14.00\" fill=\"#000000\">samples = 8</text>\n<text text-anchor=\"start\" x=\"1542.5\" y=\"-22.8\" font-family=\"Helvetica,sans-Serif\" font-size=\"14.00\" fill=\"#000000\">value = [1, 7]</text>\n<text text-anchor=\"start\" x=\"1555\" y=\"-7.8\" font-family=\"Helvetica,sans-Serif\" font-size=\"14.00\" fill=\"#000000\">class = 1</text>\n</g>\n<!-- 30&#45;&gt;32 -->\n<g id=\"edge32\" class=\"edge\">\n<title>30&#45;&gt;32</title>\n<path fill=\"none\" stroke=\"#000000\" d=\"M1513.077,-103.9815C1522.5776,-94.607 1532.6613,-84.6572 1542.1524,-75.2921\"/>\n<polygon fill=\"#000000\" stroke=\"#000000\" points=\"1544.6155,-77.7787 1549.2754,-68.2637 1539.6989,-72.796 1544.6155,-77.7787\"/>\n</g>\n</g>\n</svg>\n"
          },
          "metadata": {
            "tags": []
          },
          "execution_count": 295
        }
      ]
    },
    {
      "metadata": {
        "id": "5ukMemIguEt8",
        "colab_type": "code",
        "outputId": "643060d1-a25a-4a31-d5e4-76bae14afe1c",
        "colab": {
          "base_uri": "https://localhost:8080/",
          "height": 331
        }
      },
      "cell_type": "code",
      "source": [
        "#Predict the response for test dataset\n",
        "data2_val_pred = data2_Tree_model.predict(data2_val_X)\n",
        "\n",
        "show_model_metrics('Tree','Data2',data2_val_pred,data2_val_y)"
      ],
      "execution_count": 0,
      "outputs": [
        {
          "output_type": "stream",
          "text": [
            "Tree model for Data2:\n",
            "accuracy: 0.906977 precision: 0.891304 f1_score: 0.911111\n"
          ],
          "name": "stdout"
        },
        {
          "output_type": "display_data",
          "data": {
            "image/png": "[encoded data removed]",
            "text/plain": [
              "<Figure size 432x288 with 1 Axes>"
            ]
          },
          "metadata": {
            "tags": []
          }
        }
      ]
    },
    {
      "metadata": {
        "id": "WcwctAdnuTuQ",
        "colab_type": "code",
        "colab": {}
      },
      "cell_type": "code",
      "source": [
        ""
      ],
      "execution_count": 0,
      "outputs": []
    }
  ]
}