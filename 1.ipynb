{
  "nbformat": 4,
  "nbformat_minor": 0,
  "metadata": {
    "colab": {
      "name": "Copy of Assignment1_1.ipynb",
      "version": "0.3.2",
      "provenance": [],
      "collapsed_sections": []
    },
    "kernelspec": {
      "name": "python3",
      "display_name": "Python 3"
    },
    "accelerator": "GPU"
  },
  "cells": [
    {
      "metadata": {
        "id": "RvEGPUF8tiOE",
        "colab_type": "code",
        "outputId": "22de65f2-5258-457e-8da1-e44545e31b7a",
        "colab": {
          "base_uri": "https://localhost:8080/",
          "height": 611
        }
      },
      "cell_type": "code",
      "source": [
        "!pip install tensorflow-plot\n",
        "!wget https://bin.equinox.io/c/4VmDzA7iaHb/ngrok-stable-linux-amd64.zip\n",
        "!unzip ngrok-stable-linux-amd64.zip"
      ],
      "execution_count": 1,
      "outputs": [
        {
          "output_type": "stream",
          "text": [
            "Collecting tensorflow-plot\n",
            "  Downloading https://files.pythonhosted.org/packages/da/d0/95c6e93a4db54b8e6b2c2514b84838aa9f1f0f25d15eccac908fe5266831/tensorflow-plot-0.3.0.tar.gz\n",
            "Requirement already satisfied: six in /usr/local/lib/python3.6/dist-packages (from tensorflow-plot) (1.12.0)\n",
            "Requirement already satisfied: numpy in /usr/local/lib/python3.6/dist-packages (from tensorflow-plot) (1.16.3)\n",
            "Collecting biwrap==0.1.6 (from tensorflow-plot)\n",
            "  Downloading https://files.pythonhosted.org/packages/ac/54/78d4d5459d7385f90908185641647ff2e8ed4a4b5c239976f78e26888679/biwrap-0.1.6.tar.gz\n",
            "Requirement already satisfied: matplotlib>=2.0.0 in /usr/local/lib/python3.6/dist-packages (from tensorflow-plot) (3.0.3)\n",
            "Requirement already satisfied: pyparsing!=2.0.4,!=2.1.2,!=2.1.6,>=2.0.1 in /usr/local/lib/python3.6/dist-packages (from matplotlib>=2.0.0->tensorflow-plot) (2.4.0)\n",
            "Requirement already satisfied: cycler>=0.10 in /usr/local/lib/python3.6/dist-packages (from matplotlib>=2.0.0->tensorflow-plot) (0.10.0)\n",
            "Requirement already satisfied: python-dateutil>=2.1 in /usr/local/lib/python3.6/dist-packages (from matplotlib>=2.0.0->tensorflow-plot) (2.5.3)\n",
            "Requirement already satisfied: kiwisolver>=1.0.1 in /usr/local/lib/python3.6/dist-packages (from matplotlib>=2.0.0->tensorflow-plot) (1.0.1)\n",
            "Requirement already satisfied: setuptools in /usr/local/lib/python3.6/dist-packages (from kiwisolver>=1.0.1->matplotlib>=2.0.0->tensorflow-plot) (40.9.0)\n",
            "Building wheels for collected packages: tensorflow-plot, biwrap\n",
            "  Building wheel for tensorflow-plot (setup.py) ... \u001b[?25ldone\n",
            "\u001b[?25h  Stored in directory: /root/.cache/pip/wheels/39/07/7e/0a568d2f3ee877bc2f09281042ab659a8bde5fd66081a2689d\n",
            "  Building wheel for biwrap (setup.py) ... \u001b[?25ldone\n",
            "\u001b[?25h  Stored in directory: /root/.cache/pip/wheels/e5/d9/4a/0c3162411bad4df21befe385cea5bb26458ebb1aa9b2e1c13e\n",
            "Successfully built tensorflow-plot biwrap\n",
            "Installing collected packages: biwrap, tensorflow-plot\n",
            "Successfully installed biwrap-0.1.6 tensorflow-plot-0.3.0\n",
            "--2019-04-30 21:00:00--  https://bin.equinox.io/c/4VmDzA7iaHb/ngrok-stable-linux-amd64.zip\n",
            "Resolving bin.equinox.io (bin.equinox.io)... 52.22.236.254, 52.3.53.115, 34.226.180.131, ...\n",
            "Connecting to bin.equinox.io (bin.equinox.io)|52.22.236.254|:443... connected.\n",
            "HTTP request sent, awaiting response... 200 OK\n",
            "Length: 14991793 (14M) [application/octet-stream]\n",
            "Saving to: ‘ngrok-stable-linux-amd64.zip’\n",
            "\n",
            "ngrok-stable-linux- 100%[===================>]  14.30M  38.1MB/s    in 0.4s    \n",
            "\n",
            "2019-04-30 21:00:01 (38.1 MB/s) - ‘ngrok-stable-linux-amd64.zip’ saved [14991793/14991793]\n",
            "\n",
            "Archive:  ngrok-stable-linux-amd64.zip\n",
            "  inflating: ngrok                   \n"
          ],
          "name": "stdout"
        }
      ]
    },
    {
      "metadata": {
        "id": "6Q_60a2ktkcb",
        "colab_type": "code",
        "colab": {}
      },
      "cell_type": "code",
      "source": [
        "LOG_DIR = './log'\n",
        "get_ipython().system_raw(\n",
        "    'tensorboard --logdir {} --host 0.0.0.0 --port 6006 &'\n",
        "    .format(LOG_DIR)\n",
        ")"
      ],
      "execution_count": 0,
      "outputs": []
    },
    {
      "metadata": {
        "id": "U2j8bEAUtkT5",
        "colab_type": "code",
        "colab": {}
      },
      "cell_type": "code",
      "source": [
        "get_ipython().system_raw('./ngrok http 6006 &')"
      ],
      "execution_count": 0,
      "outputs": []
    },
    {
      "metadata": {
        "id": "AIs4HRwVttbC",
        "colab_type": "code",
        "outputId": "df3a9b77-de24-4424-857c-1a3cac045c93",
        "colab": {
          "base_uri": "https://localhost:8080/",
          "height": 35
        }
      },
      "cell_type": "code",
      "source": [
        "! curl -s http://localhost:4040/api/tunnels | python3 -c \\\n",
        "    \"import sys, json; print(json.load(sys.stdin)['tunnels'][0]['public_url'])\""
      ],
      "execution_count": 4,
      "outputs": [
        {
          "output_type": "stream",
          "text": [
            "http://98703488.ngrok.io\n"
          ],
          "name": "stdout"
        }
      ]
    },
    {
      "metadata": {
        "id": "4dwAH8AUZ7Rj",
        "colab_type": "code",
        "outputId": "fd4c1cdd-c281-4c8a-c672-3edeb6d026d9",
        "colab": {
          "base_uri": "https://localhost:8080/",
          "height": 35
        }
      },
      "cell_type": "code",
      "source": [
        "%matplotlib inline\n",
        "\n",
        "import os\n",
        "\n",
        "#if using Theano with GPU\n",
        "#os.environ[\"KERAS_BACKEND\"] = \"tensorflow\"\n",
        "\n",
        "import random\n",
        "import numpy as np\n",
        "import keras\n",
        "\n",
        "import matplotlib.pyplot as plt\n",
        "from matplotlib.pyplot import imshow\n",
        "from keras import applications\n",
        "from keras.preprocessing import image\n",
        "from keras.applications.imagenet_utils import preprocess_input\n",
        "from keras.models import Sequential\n",
        "from keras.layers import Dense, Dropout, Flatten, Activation\n",
        "from keras.layers import Conv2D, MaxPooling2D\n",
        "from keras.models import Model\n",
        "\n",
        "from keras.preprocessing.image import ImageDataGenerator, img_to_array, load_img\n",
        "from keras import applications\n",
        "from keras.utils.np_utils import to_categorical\n",
        "import matplotlib.pyplot as plt\n",
        "import math\n",
        "\n",
        "import os\n",
        "from shutil import move\n"
      ],
      "execution_count": 5,
      "outputs": [
        {
          "output_type": "stream",
          "text": [
            "Using TensorFlow backend.\n"
          ],
          "name": "stderr"
        }
      ]
    },
    {
      "metadata": {
        "id": "HSWAhduFGbGn",
        "colab_type": "code",
        "outputId": "9fb9bdbf-f592-4066-fd38-214521ec230f",
        "colab": {
          "base_uri": "https://localhost:8080/",
          "height": 53
        }
      },
      "cell_type": "code",
      "source": [
        "!echo \"Downloading 101_Object_Categories for image notebooks\"\n",
        "!curl -L -o 101_ObjectCategories.tar.gz --progress-bar http://www.vision.caltech.edu/Image_Datasets/Caltech101/101_ObjectCategories.tar.gz\n",
        "!tar -xzf 101_ObjectCategories.tar.gz\n",
        "!rm 101_ObjectCategories.tar.gz\n",
        "\n",
        "!rm -rf train\n",
        "!rm -rf validation\n",
        "# create base folders\n",
        "os.mkdir('train')\n",
        "os.mkdir('validation')"
      ],
      "execution_count": 6,
      "outputs": [
        {
          "output_type": "stream",
          "text": [
            "Downloading 101_Object_Categories for image notebooks\n",
            "######################################################################## 100.0%\n"
          ],
          "name": "stdout"
        }
      ]
    },
    {
      "metadata": {
        "id": "EFrZWaLxGhhD",
        "colab_type": "code",
        "outputId": "9d65ea81-d14b-4278-f517-5a09dbfb6a7c",
        "colab": {
          "base_uri": "https://localhost:8080/",
          "height": 55
        }
      },
      "cell_type": "code",
      "source": [
        "root = '101_ObjectCategories'\n",
        "# exclude = ['BACKGROUND_Google', 'Motorbikes', 'airplanes', 'Faces_easy', 'Faces']\n",
        "# train_split, val_split = 0.7, 0.15\n",
        "# \n",
        "categories = [x[0] for x in os.walk(root) if x[0]][1:]\n",
        "# categories = [c for c in categories if c not in [os.path.join(root, e) for e in exclude]]\n",
        "# categories = [c for c in categories if c not in [os.path.join(root, e) for e in exclude]]\n",
        "for category in categories:\n",
        "  label= category.split('/')[1];\n",
        "  os.mkdir('./train'+os.sep+label)\n",
        "  os.mkdir('./validation'+os.sep+label)\n",
        "\n",
        "print(categories)"
      ],
      "execution_count": 7,
      "outputs": [
        {
          "output_type": "stream",
          "text": [
            "['101_ObjectCategories/stop_sign', '101_ObjectCategories/gramophone', '101_ObjectCategories/BACKGROUND_Google', '101_ObjectCategories/ceiling_fan', '101_ObjectCategories/watch', '101_ObjectCategories/helicopter', '101_ObjectCategories/scorpion', '101_ObjectCategories/scissors', '101_ObjectCategories/Faces', '101_ObjectCategories/water_lilly', '101_ObjectCategories/sunflower', '101_ObjectCategories/car_side', '101_ObjectCategories/rooster', '101_ObjectCategories/mandolin', '101_ObjectCategories/trilobite', '101_ObjectCategories/brain', '101_ObjectCategories/crocodile', '101_ObjectCategories/sea_horse', '101_ObjectCategories/ibis', '101_ObjectCategories/Leopards', '101_ObjectCategories/accordion', '101_ObjectCategories/camera', '101_ObjectCategories/grand_piano', '101_ObjectCategories/Motorbikes', '101_ObjectCategories/chair', '101_ObjectCategories/umbrella', '101_ObjectCategories/joshua_tree', '101_ObjectCategories/gerenuk', '101_ObjectCategories/binocular', '101_ObjectCategories/pagoda', '101_ObjectCategories/flamingo_head', '101_ObjectCategories/emu', '101_ObjectCategories/dalmatian', '101_ObjectCategories/bonsai', '101_ObjectCategories/rhino', '101_ObjectCategories/inline_skate', '101_ObjectCategories/saxophone', '101_ObjectCategories/flamingo', '101_ObjectCategories/cannon', '101_ObjectCategories/chandelier', '101_ObjectCategories/minaret', '101_ObjectCategories/dragonfly', '101_ObjectCategories/cougar_body', '101_ObjectCategories/cellphone', '101_ObjectCategories/revolver', '101_ObjectCategories/dolphin', '101_ObjectCategories/ketch', '101_ObjectCategories/laptop', '101_ObjectCategories/buddha', '101_ObjectCategories/mayfly', '101_ObjectCategories/butterfly', '101_ObjectCategories/elephant', '101_ObjectCategories/starfish', '101_ObjectCategories/beaver', '101_ObjectCategories/dollar_bill', '101_ObjectCategories/tick', '101_ObjectCategories/cougar_face', '101_ObjectCategories/metronome', '101_ObjectCategories/wrench', '101_ObjectCategories/platypus', '101_ObjectCategories/garfield', '101_ObjectCategories/ferry', '101_ObjectCategories/pyramid', '101_ObjectCategories/stegosaurus', '101_ObjectCategories/hawksbill', '101_ObjectCategories/airplanes', '101_ObjectCategories/windsor_chair', '101_ObjectCategories/euphonium', '101_ObjectCategories/hedgehog', '101_ObjectCategories/crocodile_head', '101_ObjectCategories/ant', '101_ObjectCategories/llama', '101_ObjectCategories/stapler', '101_ObjectCategories/yin_yang', '101_ObjectCategories/lotus', '101_ObjectCategories/pigeon', '101_ObjectCategories/barrel', '101_ObjectCategories/Faces_easy', '101_ObjectCategories/snoopy', '101_ObjectCategories/schooner', '101_ObjectCategories/headphone', '101_ObjectCategories/lobster', '101_ObjectCategories/electric_guitar', '101_ObjectCategories/okapi', '101_ObjectCategories/wheelchair', '101_ObjectCategories/cup', '101_ObjectCategories/menorah', '101_ObjectCategories/brontosaurus', '101_ObjectCategories/lamp', '101_ObjectCategories/crayfish', '101_ObjectCategories/bass', '101_ObjectCategories/kangaroo', '101_ObjectCategories/panda', '101_ObjectCategories/nautilus', '101_ObjectCategories/soccer_ball', '101_ObjectCategories/pizza', '101_ObjectCategories/ewer', '101_ObjectCategories/strawberry', '101_ObjectCategories/crab', '101_ObjectCategories/octopus', '101_ObjectCategories/wild_cat', '101_ObjectCategories/anchor']\n"
          ],
          "name": "stdout"
        }
      ]
    },
    {
      "metadata": {
        "id": "sPgn_Wq-HGnC",
        "colab_type": "code",
        "colab": {}
      },
      "cell_type": "code",
      "source": [
        "data = []\n",
        "for c, category in enumerate(categories):\n",
        "    images = [os.path.join(dp, f) for dp, dn, filenames \n",
        "              in os.walk(category) for f in filenames \n",
        "              if os.path.splitext(f)[1].lower() in ['.jpg','.png','.jpeg']]\n",
        "    counter=0\n",
        "    validatin_ratio=0.2\n",
        "    for img_path in images:\n",
        "      counter+=1\n",
        "      dest='train'\n",
        "      if counter>(1-validatin_ratio)*len(images): dest='validation'\n",
        "      spl=img_path.split('/');\n",
        "      move(img_path,dest+os.sep+spl[1]+os.sep+spl[2])\n",
        "\n",
        "# count the number of classes\n",
        "num_classes = len(categories)"
      ],
      "execution_count": 0,
      "outputs": []
    },
    {
      "metadata": {
        "id": "2QCMVoxIiw_2",
        "colab_type": "code",
        "colab": {}
      },
      "cell_type": "code",
      "source": [
        "# dimensions of our images.\n",
        "img_width, img_height = 224, 224\n",
        "\n",
        "top_model_weights_path = 'bottleneck_fc_model.h5'\n",
        "train_data_dir = 'train'\n",
        "validation_data_dir = 'validation'\n",
        "\n",
        "# number of epochs to train top model\n",
        "epochs = 30\n",
        "# batch size used by flow_from_directory and predict_generator\n",
        "batch_size = 128"
      ],
      "execution_count": 0,
      "outputs": []
    },
    {
      "metadata": {
        "id": "X8rO6KyOgdOt",
        "colab_type": "code",
        "colab": {}
      },
      "cell_type": "code",
      "source": [
        "def save_bottlebeck_features():\n",
        "    # build the VGG16 network\n",
        "    model = applications.VGG16(include_top=False, weights='imagenet')\n",
        "#     model = applications.ResNet50(include_top=False, weights='imagenet')\n",
        "    \n",
        "    datagen = ImageDataGenerator(rescale=1. / 255)\n",
        "\n",
        "    generator = datagen.flow_from_directory(\n",
        "        train_data_dir,\n",
        "        target_size=(img_width, img_height),\n",
        "        batch_size=batch_size,\n",
        "        class_mode=None,\n",
        "        shuffle=False)\n",
        "\n",
        "    print(len(generator.filenames))\n",
        "    print(generator.class_indices)\n",
        "    print(len(generator.class_indices))\n",
        "\n",
        "    nb_train_samples = len(generator.filenames)\n",
        "    num_classes = len(generator.class_indices)\n",
        "\n",
        "    predict_size_train = int(math.ceil(nb_train_samples / batch_size))\n",
        "\n",
        "    bottleneck_features_train = model.predict_generator(\n",
        "        generator, predict_size_train)\n",
        "\n",
        "    np.save('bottleneck_features_train.npy', bottleneck_features_train)\n",
        "\n",
        "    generator = datagen.flow_from_directory(\n",
        "        validation_data_dir,\n",
        "        target_size=(img_width, img_height),\n",
        "        batch_size=batch_size,\n",
        "        class_mode=None,\n",
        "        shuffle=False)\n",
        "\n",
        "    nb_validation_samples = len(generator.filenames)\n",
        "\n",
        "    predict_size_validation = int(\n",
        "        math.ceil(nb_validation_samples / batch_size))\n",
        "\n",
        "    bottleneck_features_validation = model.predict_generator(\n",
        "        generator, predict_size_validation)\n",
        "\n",
        "    np.save('bottleneck_features_validation.npy',\n",
        "            bottleneck_features_validation)\n",
        "    print(predict_size_validation)\n",
        "    print(predict_size_train)"
      ],
      "execution_count": 0,
      "outputs": []
    },
    {
      "metadata": {
        "id": "b0KJXyiHuIuJ",
        "colab_type": "text"
      },
      "cell_type": "markdown",
      "source": [
        "=================================================="
      ]
    },
    {
      "metadata": {
        "id": "YZRLyhE7uFou",
        "colab_type": "code",
        "colab": {}
      },
      "cell_type": "code",
      "source": [
        "from keras.callbacks import TensorBoard\n",
        "tbCallBack = TensorBoard(log_dir='./log', histogram_freq=1,\n",
        "                         write_graph=True,\n",
        "                         write_grads=True,\n",
        "                         batch_size=batch_size,\n",
        "                         write_images=True)"
      ],
      "execution_count": 0,
      "outputs": []
    },
    {
      "metadata": {
        "id": "YbgatymzUpPX",
        "colab_type": "code",
        "colab": {}
      },
      "cell_type": "code",
      "source": [
        "from keras.callbacks import Callback\n",
        "from sklearn.metrics import confusion_matrix\n",
        "import matplotlib.pyplot as plt    \n",
        "import itertools\n",
        "import tensorflow as tf\n",
        "\n",
        "import pandas as pd\n",
        "import seaborn as sns\n",
        "\n",
        "\n",
        "\n",
        "class ConfusionMatrixPlotter(Callback):\n",
        "    \"\"\"Plot the confusion matrix on a graph and update after each epoch\n",
        "    # Arguments\n",
        "        X_val: The input values \n",
        "        Y_val: The expected output values\n",
        "        classes: The categories as a list of string names\n",
        "        normalize: True - normalize to [0,1], False - keep as is\n",
        "        cmap: Specify matplotlib colour map\n",
        "        title: Graph Title\n",
        "    \"\"\"\n",
        "    def __init__(self, X_val, Y_val, classes, normalize=False, cmap=plt.cm.Blues, title='Confusion Matrix'):\n",
        "        self.X_val = X_val\n",
        "        self.Y_val = Y_val\n",
        "        self.title = title\n",
        "        self.classes = classes\n",
        "        self.normalize = normalize\n",
        "        self.cmap = cmap\n",
        "        plt.ion()\n",
        "        #plt.show()\n",
        "        plt.figure(figsize=(10,10))\n",
        "\n",
        "        plt.title(self.title)\n",
        "        \n",
        "        \n",
        "\n",
        "    def on_train_begin(self, logs={}):\n",
        "        pass\n",
        "      \n",
        "    def cm_analysis(self, y_true, y_pred, labels, ymap=None, figsize=(10,10)):\n",
        "        \"\"\"\n",
        "        Generate matrix plot of confusion matrix with pretty annotations.\n",
        "        The plot image is saved to disk.\n",
        "        args: \n",
        "          y_true:    true label of the data, with shape (nsamples,)\n",
        "          y_pred:    prediction of the data, with shape (nsamples,)\n",
        "          filename:  filename of figure file to save\n",
        "          labels:    string array, name the order of class labels in the confusion matrix.\n",
        "                     use `clf.classes_` if using scikit-learn models.\n",
        "                     with shape (nclass,).\n",
        "          ymap:      dict: any -> string, length == nclass.\n",
        "                     if not None, map the labels & ys to more understandable strings.\n",
        "                     Caution: original y_true, y_pred and labels must align.\n",
        "          figsize:   the size of the figure plotted.\n",
        "        \"\"\"\n",
        "        if ymap is not None:\n",
        "            y_pred = [ymap[yi] for yi in y_pred]\n",
        "            y_true = [ymap[yi] for yi in y_true]\n",
        "            labels = [ymap[yi] for yi in labels]\n",
        "        cm = confusion_matrix(y_true, y_pred, labels=labels)\n",
        "        cm_sum = np.sum(cm, axis=1, keepdims=True)\n",
        "        cm_perc = cm / cm_sum.astype(float) * 100\n",
        "        annot = np.empty_like(cm).astype(str)\n",
        "        nrows, ncols = cm.shape\n",
        "        for i in range(nrows):\n",
        "            for j in range(ncols):\n",
        "                c = cm[i, j]\n",
        "                p = cm_perc[i, j]\n",
        "                if i == j:\n",
        "                    s = cm_sum[i]\n",
        "                    annot[i, j] = '%.1f%%\\n%d/%d' % (p, c, s)\n",
        "                elif c == 0:\n",
        "                    annot[i, j] = ''\n",
        "                else:\n",
        "                    annot[i, j] = '%.1f%%\\n%d' % (p, c)\n",
        "        cm = pd.DataFrame(cm, index=labels, columns=labels)\n",
        "        cm.index.name = 'Actual'\n",
        "        cm.columns.name = 'Predicted'\n",
        "        fig, ax = plt.subplots(figsize=figsize)\n",
        "        sns.heatmap(cm, annot=annot, fmt='', ax=ax)\n",
        "#         plt.savefig(filename)\n",
        "    \n",
        "    def on_epoch_end(self, epoch, logs={}): \n",
        "      \n",
        "        plt.clf()\n",
        "        pred = self.model.predict(self.X_val)\n",
        "        max_pred = np.argmax(pred, axis=1)\n",
        "        max_y = np.argmax(self.Y_val, axis=1)\n",
        "\n",
        "        sess = tf.Session()\n",
        "        img_d_summary_dir = os.path.join(\"/log\", \"summaries\", \"img\")\n",
        "        img_d_summary_writer = tf.summary.FileWriter(img_d_summary_dir,sess.graph)\n",
        "        img_d_summary = plot_confusion_matrix(max_y, max_pred, self.classes, tensor_name='dev/cm')\n",
        "        img_d_summary_writer.add_summary(img_d_summary, epoch)\n",
        "        \n",
        "# #         self.cm_analysis(self.Y_val,max_y,\"test\")\n",
        "#         cnf_mat = confusion_matrix(max_y, max_pred)\n",
        "   \n",
        "#         if self.normalize:\n",
        "#             cnf_mat = cnf_mat.astype('float') / cnf_mat.sum(axis=1)[:, np.newaxis]\n",
        "\n",
        "#         thresh = cnf_mat.max() / 2.\n",
        "#         for i, j in itertools.product(range(cnf_mat.shape[0]), range(cnf_mat.shape[1])):\n",
        "#             plt.text(j, i, cnf_mat[i, j],                                          \n",
        "#                          horizontalalignment=\"center\",\n",
        "#                          color=\"white\" if cnf_mat[i, j] > thresh else \"black\")\n",
        "\n",
        "#         plt.imshow(cnf_mat, interpolation='nearest', cmap=self.cmap)\n",
        "\n",
        "#         # Labels\n",
        "#         tick_marks = np.arange(len(self.classes))\n",
        "#         plt.xticks(tick_marks, self.classes, rotation=45)\n",
        "#         plt.yticks(tick_marks, self.classes)\n",
        "\n",
        "#         plt.colorbar()\n",
        "                                                                                                         \n",
        "#         plt.tight_layout()                                                    \n",
        "#         plt.ylabel('True label')                                              \n",
        "#         plt.xlabel('Predicted label')                                         \n",
        "#         #plt.draw()\n",
        "#         plt.show()\n",
        "#         plt.pause(0.001)\n",
        "        "
      ],
      "execution_count": 0,
      "outputs": []
    },
    {
      "metadata": {
        "id": "ZalnKdsSM326",
        "colab_type": "code",
        "colab": {}
      },
      "cell_type": "code",
      "source": [
        "from textwrap import wrap\n",
        "import re\n",
        "import itertools\n",
        "import tfplot\n",
        "import matplotlib\n",
        "import numpy as np\n",
        "from sklearn.metrics import confusion_matrix\n",
        "\n",
        "\n",
        "\n",
        "def plot_confusion_matrix(correct_labels, predict_labels, labels, title='Confusion matrix', tensor_name = 'MyFigure/image', normalize=False):\n",
        "  ''' \n",
        "  Parameters:\n",
        "      correct_labels                  : These are your true classification categories.\n",
        "      predict_labels                  : These are you predicted classification categories\n",
        "      labels                          : This is a lit of labels which will be used to display the axix labels\n",
        "      title='Confusion matrix'        : Title for your matrix\n",
        "      tensor_name = 'MyFigure/image'  : Name for the output summay tensor\n",
        "\n",
        "  Returns:\n",
        "      summary: TensorFlow summary \n",
        "\n",
        "  Other itema to note:\n",
        "      - Depending on the number of category and the data , you may have to modify the figzie, font sizes etc. \n",
        "      - Currently, some of the ticks dont line up due to rotations.\n",
        "  '''\n",
        "  cm = confusion_matrix(correct_labels, predict_labels, labels=labels)\n",
        "  if normalize:\n",
        "      cm = cm.astype('float')*10 / cm.sum(axis=1)[:, np.newaxis]\n",
        "      cm = np.nan_to_num(cm, copy=True)\n",
        "      cm = cm.astype('int')\n",
        "\n",
        "  np.set_printoptions(precision=2)\n",
        "  ###fig, ax = matplotlib.figure.Figure()\n",
        "\n",
        "  fig = matplotlib.figure.Figure(figsize=(7, 7), dpi=320, facecolor='w', edgecolor='k')\n",
        "  ax = fig.add_subplot(1, 1, 1)\n",
        "  im = ax.imshow(cm, cmap='Oranges')\n",
        "\n",
        "  classes = [re.sub(r'([a-z](?=[A-Z])|[A-Z](?=[A-Z][a-z]))', r'\\1 ', x) for x in labels]\n",
        "  classes = ['\\n'.join(wrap(l, 40)) for l in classes]\n",
        "\n",
        "  tick_marks = np.arange(len(classes))\n",
        "\n",
        "  ax.set_xlabel('Predicted', fontsize=7)\n",
        "  ax.set_xticks(tick_marks)\n",
        "  c = ax.set_xticklabels(classes, fontsize=4, rotation=-90,  ha='center')\n",
        "  ax.xaxis.set_label_position('bottom')\n",
        "  ax.xaxis.tick_bottom()\n",
        "\n",
        "  ax.set_ylabel('True Label', fontsize=7)\n",
        "  ax.set_yticks(tick_marks)\n",
        "  ax.set_yticklabels(classes, fontsize=4, va ='center')\n",
        "  ax.yaxis.set_label_position('left')\n",
        "  ax.yaxis.tick_left()\n",
        "\n",
        "  for i, j in itertools.product(range(cm.shape[0]), range(cm.shape[1])):\n",
        "      ax.text(j, i, format(cm[i, j], 'd') if cm[i,j]!=0 else '.', horizontalalignment=\"center\", fontsize=6, verticalalignment='center', color= \"black\")\n",
        "  fig.set_tight_layout(True)\n",
        "  summary = tfplot.figure.to_summary(fig, tag=tensor_name)\n",
        "  return summary"
      ],
      "execution_count": 0,
      "outputs": []
    },
    {
      "metadata": {
        "id": "H6vH8Bj3uNfc",
        "colab_type": "text"
      },
      "cell_type": "markdown",
      "source": [
        "=================================================="
      ]
    },
    {
      "metadata": {
        "id": "FTPTfuJuh6lZ",
        "colab_type": "code",
        "colab": {}
      },
      "cell_type": "code",
      "source": [
        "def train_top_model():\n",
        "    datagen_top = ImageDataGenerator(rescale=1. / 255)\n",
        "    generator_top = datagen_top.flow_from_directory(\n",
        "        train_data_dir,\n",
        "        target_size=(img_width, img_height),\n",
        "        batch_size=batch_size,\n",
        "        class_mode='categorical',\n",
        "        shuffle=False)\n",
        "\n",
        "    nb_train_samples = len(generator_top.filenames)\n",
        "    num_classes = len(generator_top.class_indices)\n",
        "\n",
        "    # save the class indices to user later in predictions\n",
        "    np.save('class_indices.npy', generator_top.class_indices)\n",
        "\n",
        "    # load the bottleneck features saved earlier\n",
        "    train_data = np.load('bottleneck_features_train.npy')\n",
        "\n",
        "    # get the class lebels for the training data, in the original order\n",
        "    train_labels = generator_top.classes\n",
        "\n",
        "    # https://github.com/fchollet/keras/issues/3467\n",
        "    # convert the training labels to categorical vectors\n",
        "    train_labels = to_categorical(train_labels, num_classes=num_classes)\n",
        "\n",
        "    generator_top = datagen_top.flow_from_directory(\n",
        "        validation_data_dir,\n",
        "        target_size=(img_width, img_height),\n",
        "        batch_size=batch_size,\n",
        "        class_mode=None,\n",
        "        shuffle=False)\n",
        "\n",
        "    nb_validation_samples = len(generator_top.filenames)\n",
        "\n",
        "    validation_data = np.load('bottleneck_features_validation.npy')\n",
        "\n",
        "    validation_labels = generator_top.classes\n",
        "    validation_labels = to_categorical(\n",
        "        validation_labels, num_classes=num_classes)\n",
        "\n",
        "    model = Sequential()\n",
        "    model.add(Flatten(input_shape=train_data.shape[1:]))\n",
        "    model.add(Dense(1024, activation='relu'))\n",
        "    model.add(Dropout(0.75))\n",
        "    model.add(Dense(num_classes, activation='softmax'))\n",
        "\n",
        "    model.compile(optimizer='adam',\n",
        "                  loss='categorical_crossentropy', metrics=['accuracy'])\n",
        "    \n",
        "#     plotter = ConfusionMatrixPlotter(X_val=validation_data, classes=generator_top.classes, Y_val=validation_labels)\n",
        "\n",
        "    \n",
        "\n",
        "    history = model.fit(train_data, train_labels,\n",
        "                        epochs=epochs,\n",
        "                        batch_size=batch_size,\n",
        "                        validation_data=(validation_data, validation_labels),callbacks=[tbCallBack])\n",
        "\n",
        "    model.save_weights(top_model_weights_path)\n",
        "\n",
        "    (eval_loss, eval_accuracy) = model.evaluate(\n",
        "        validation_data, validation_labels, batch_size=batch_size, verbose=1)\n",
        "\n",
        "    print(\"[INFO] accuracy: {:.2f}%\".format(eval_accuracy * 100))\n",
        "    print(\"[INFO] Loss: {}\".format(eval_loss))\n",
        "\n",
        "    plt.figure(1)\n",
        "\n",
        "    # summarize history for accuracy\n",
        "\n",
        "    plt.subplot(211)\n",
        "    plt.plot(history.history['acc'])\n",
        "    plt.plot(history.history['val_acc'])\n",
        "    plt.title('model accuracy')\n",
        "    plt.ylabel('accuracy')\n",
        "    plt.xlabel('epoch')\n",
        "    plt.legend(['train', 'test'], loc='upper left')\n",
        "\n",
        "    # summarize history for loss\n",
        "\n",
        "    plt.subplot(212)\n",
        "    plt.plot(history.history['loss'])\n",
        "    plt.plot(history.history['val_loss'])\n",
        "    plt.title('model loss')\n",
        "    plt.ylabel('loss')\n",
        "    plt.xlabel('epoch')\n",
        "    plt.legend(['train', 'test'], loc='upper left')\n",
        "    plt.show()"
      ],
      "execution_count": 0,
      "outputs": []
    },
    {
      "metadata": {
        "id": "5ZlpyHhhh6Wm",
        "colab_type": "code",
        "outputId": "9b0c606d-058c-4df4-c70b-5f9ede1b9df8",
        "colab": {
          "base_uri": "https://localhost:8080/",
          "height": 253
        }
      },
      "cell_type": "code",
      "source": [
        "save_bottlebeck_features()"
      ],
      "execution_count": 15,
      "outputs": [
        {
          "output_type": "stream",
          "text": [
            "WARNING:tensorflow:From /usr/local/lib/python3.6/dist-packages/tensorflow/python/framework/op_def_library.py:263: colocate_with (from tensorflow.python.framework.ops) is deprecated and will be removed in a future version.\n",
            "Instructions for updating:\n",
            "Colocations handled automatically by placer.\n",
            "Downloading data from https://github.com/fchollet/deep-learning-models/releases/download/v0.1/vgg16_weights_tf_dim_ordering_tf_kernels_notop.h5\n",
            "58892288/58889256 [==============================] - 5s 0us/step\n",
            "Found 7280 images belonging to 102 classes.\n",
            "7280\n",
            "{'BACKGROUND_Google': 0, 'Faces': 1, 'Faces_easy': 2, 'Leopards': 3, 'Motorbikes': 4, 'accordion': 5, 'airplanes': 6, 'anchor': 7, 'ant': 8, 'barrel': 9, 'bass': 10, 'beaver': 11, 'binocular': 12, 'bonsai': 13, 'brain': 14, 'brontosaurus': 15, 'buddha': 16, 'butterfly': 17, 'camera': 18, 'cannon': 19, 'car_side': 20, 'ceiling_fan': 21, 'cellphone': 22, 'chair': 23, 'chandelier': 24, 'cougar_body': 25, 'cougar_face': 26, 'crab': 27, 'crayfish': 28, 'crocodile': 29, 'crocodile_head': 30, 'cup': 31, 'dalmatian': 32, 'dollar_bill': 33, 'dolphin': 34, 'dragonfly': 35, 'electric_guitar': 36, 'elephant': 37, 'emu': 38, 'euphonium': 39, 'ewer': 40, 'ferry': 41, 'flamingo': 42, 'flamingo_head': 43, 'garfield': 44, 'gerenuk': 45, 'gramophone': 46, 'grand_piano': 47, 'hawksbill': 48, 'headphone': 49, 'hedgehog': 50, 'helicopter': 51, 'ibis': 52, 'inline_skate': 53, 'joshua_tree': 54, 'kangaroo': 55, 'ketch': 56, 'lamp': 57, 'laptop': 58, 'llama': 59, 'lobster': 60, 'lotus': 61, 'mandolin': 62, 'mayfly': 63, 'menorah': 64, 'metronome': 65, 'minaret': 66, 'nautilus': 67, 'octopus': 68, 'okapi': 69, 'pagoda': 70, 'panda': 71, 'pigeon': 72, 'pizza': 73, 'platypus': 74, 'pyramid': 75, 'revolver': 76, 'rhino': 77, 'rooster': 78, 'saxophone': 79, 'schooner': 80, 'scissors': 81, 'scorpion': 82, 'sea_horse': 83, 'snoopy': 84, 'soccer_ball': 85, 'stapler': 86, 'starfish': 87, 'stegosaurus': 88, 'stop_sign': 89, 'strawberry': 90, 'sunflower': 91, 'tick': 92, 'trilobite': 93, 'umbrella': 94, 'watch': 95, 'water_lilly': 96, 'wheelchair': 97, 'wild_cat': 98, 'windsor_chair': 99, 'wrench': 100, 'yin_yang': 101}\n",
            "102\n",
            "Found 1864 images belonging to 102 classes.\n",
            "15\n",
            "57\n"
          ],
          "name": "stdout"
        }
      ]
    },
    {
      "metadata": {
        "id": "P4JoYL6nPpMA",
        "colab_type": "code",
        "colab": {}
      },
      "cell_type": "code",
      "source": [
        "!rm -rf log"
      ],
      "execution_count": 0,
      "outputs": []
    },
    {
      "metadata": {
        "id": "F0QmdoyIh6NV",
        "colab_type": "code",
        "outputId": "bd47d2a2-c466-4167-c905-c39f252a1261",
        "colab": {
          "base_uri": "https://localhost:8080/",
          "height": 1611
        }
      },
      "cell_type": "code",
      "source": [
        "train_top_model()"
      ],
      "execution_count": 17,
      "outputs": [
        {
          "output_type": "stream",
          "text": [
            "Found 7280 images belonging to 102 classes.\n",
            "Found 1864 images belonging to 102 classes.\n",
            "WARNING:tensorflow:From /usr/local/lib/python3.6/dist-packages/keras/backend/tensorflow_backend.py:3445: calling dropout (from tensorflow.python.ops.nn_ops) with keep_prob is deprecated and will be removed in a future version.\n",
            "Instructions for updating:\n",
            "Please use `rate` instead of `keep_prob`. Rate should be set to `rate = 1 - keep_prob`.\n",
            "WARNING:tensorflow:From /usr/local/lib/python3.6/dist-packages/tensorflow/python/ops/math_ops.py:3066: to_int32 (from tensorflow.python.ops.math_ops) is deprecated and will be removed in a future version.\n",
            "Instructions for updating:\n",
            "Use tf.cast instead.\n",
            "Train on 7280 samples, validate on 1864 samples\n",
            "Epoch 1/30\n",
            "7280/7280 [==============================] - 3s 367us/step - loss: 4.7002 - acc: 0.3089 - val_loss: 2.3786 - val_acc: 0.5166\n",
            "Epoch 2/30\n",
            "7280/7280 [==============================] - 2s 246us/step - loss: 2.4057 - acc: 0.4587 - val_loss: 1.6598 - val_acc: 0.6508\n",
            "Epoch 3/30\n",
            "7280/7280 [==============================] - 2s 243us/step - loss: 1.9491 - acc: 0.5352 - val_loss: 1.3135 - val_acc: 0.7221\n",
            "Epoch 4/30\n",
            "7280/7280 [==============================] - 2s 249us/step - loss: 1.6278 - acc: 0.5960 - val_loss: 1.0987 - val_acc: 0.7344\n",
            "Epoch 5/30\n",
            "7280/7280 [==============================] - 2s 252us/step - loss: 1.4648 - acc: 0.6210 - val_loss: 0.9185 - val_acc: 0.7833\n",
            "Epoch 6/30\n",
            "7280/7280 [==============================] - 2s 242us/step - loss: 1.2616 - acc: 0.6622 - val_loss: 0.8124 - val_acc: 0.8036\n",
            "Epoch 7/30\n",
            "7280/7280 [==============================] - 2s 259us/step - loss: 1.1112 - acc: 0.6979 - val_loss: 0.7500 - val_acc: 0.8106\n",
            "Epoch 8/30\n",
            "7280/7280 [==============================] - 2s 243us/step - loss: 1.0730 - acc: 0.7059 - val_loss: 0.7033 - val_acc: 0.8203\n",
            "Epoch 9/30\n",
            "7280/7280 [==============================] - 2s 257us/step - loss: 0.9470 - acc: 0.7308 - val_loss: 0.6649 - val_acc: 0.8267\n",
            "Epoch 10/30\n",
            "7280/7280 [==============================] - 2s 249us/step - loss: 0.9266 - acc: 0.7357 - val_loss: 0.6510 - val_acc: 0.8342\n",
            "Epoch 11/30\n",
            "7280/7280 [==============================] - 2s 240us/step - loss: 0.8277 - acc: 0.7621 - val_loss: 0.6419 - val_acc: 0.8278\n",
            "Epoch 12/30\n",
            "7280/7280 [==============================] - 2s 245us/step - loss: 0.7962 - acc: 0.7694 - val_loss: 0.6065 - val_acc: 0.8273\n",
            "Epoch 13/30\n",
            "7280/7280 [==============================] - 2s 243us/step - loss: 0.7220 - acc: 0.7890 - val_loss: 0.5783 - val_acc: 0.8433\n",
            "Epoch 14/30\n",
            "7280/7280 [==============================] - 2s 246us/step - loss: 0.7237 - acc: 0.7901 - val_loss: 0.5541 - val_acc: 0.8466\n",
            "Epoch 15/30\n",
            "7280/7280 [==============================] - 2s 246us/step - loss: 0.6736 - acc: 0.8005 - val_loss: 0.5730 - val_acc: 0.8342\n",
            "Epoch 16/30\n",
            "7280/7280 [==============================] - 2s 246us/step - loss: 0.6410 - acc: 0.8071 - val_loss: 0.5735 - val_acc: 0.8369\n",
            "Epoch 17/30\n",
            "7280/7280 [==============================] - 2s 249us/step - loss: 0.6057 - acc: 0.8165 - val_loss: 0.5210 - val_acc: 0.8530\n",
            "Epoch 18/30\n",
            "7280/7280 [==============================] - 2s 242us/step - loss: 0.5886 - acc: 0.8154 - val_loss: 0.5318 - val_acc: 0.8471\n",
            "Epoch 19/30\n",
            "7280/7280 [==============================] - 2s 254us/step - loss: 0.5450 - acc: 0.8323 - val_loss: 0.5169 - val_acc: 0.8519\n",
            "Epoch 20/30\n",
            "7280/7280 [==============================] - 2s 247us/step - loss: 0.5393 - acc: 0.8299 - val_loss: 0.5036 - val_acc: 0.8573\n",
            "Epoch 21/30\n",
            "7280/7280 [==============================] - 2s 243us/step - loss: 0.4957 - acc: 0.8438 - val_loss: 0.4989 - val_acc: 0.8648\n",
            "Epoch 22/30\n",
            "7280/7280 [==============================] - 2s 245us/step - loss: 0.4845 - acc: 0.8497 - val_loss: 0.4987 - val_acc: 0.8611\n",
            "Epoch 23/30\n",
            "7280/7280 [==============================] - 2s 255us/step - loss: 0.5068 - acc: 0.8387 - val_loss: 0.5544 - val_acc: 0.8460\n",
            "Epoch 24/30\n",
            "7280/7280 [==============================] - 2s 244us/step - loss: 0.4688 - acc: 0.8497 - val_loss: 0.5597 - val_acc: 0.8433\n",
            "Epoch 25/30\n",
            "7280/7280 [==============================] - 2s 241us/step - loss: 0.4394 - acc: 0.8571 - val_loss: 0.5600 - val_acc: 0.8514\n",
            "Epoch 26/30\n",
            "7280/7280 [==============================] - 2s 256us/step - loss: 0.4487 - acc: 0.8567 - val_loss: 0.5582 - val_acc: 0.8433\n",
            "Epoch 27/30\n",
            "7280/7280 [==============================] - 2s 240us/step - loss: 0.4574 - acc: 0.8536 - val_loss: 0.5254 - val_acc: 0.8594\n",
            "Epoch 28/30\n",
            "7280/7280 [==============================] - 2s 240us/step - loss: 0.4423 - acc: 0.8578 - val_loss: 0.5214 - val_acc: 0.8487\n",
            "Epoch 29/30\n",
            "7280/7280 [==============================] - 2s 242us/step - loss: 0.4350 - acc: 0.8613 - val_loss: 0.5190 - val_acc: 0.8589\n",
            "Epoch 30/30\n",
            "7280/7280 [==============================] - 2s 245us/step - loss: 0.4275 - acc: 0.8615 - val_loss: 0.5572 - val_acc: 0.8444\n",
            "1864/1864 [==============================] - 0s 84us/step\n",
            "[INFO] accuracy: 84.44%\n",
            "[INFO] Loss: 0.5572448282266763\n"
          ],
          "name": "stdout"
        },
        {
          "output_type": "display_data",
          "data": {
            "image/png": "[encoded data removed]",
            "text/plain": [
              "<Figure size 432x288 with 2 Axes>"
            ]
          },
          "metadata": {
            "tags": []
          }
        }
      ]
    },
    {
      "metadata": {
        "id": "4gD-r2P5M5BF",
        "colab_type": "code",
        "colab": {}
      },
      "cell_type": "code",
      "source": [
        ""
      ],
      "execution_count": 0,
      "outputs": []
    }
  ]
}